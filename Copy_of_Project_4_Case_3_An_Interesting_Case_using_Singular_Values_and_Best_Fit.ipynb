{
  "nbformat": 4,
  "nbformat_minor": 0,
  "metadata": {
    "colab": {
      "name": "Copy of Project 4:  Case 3 - An Interesting Case using Singular Values and Best Fit.ipynb",
      "provenance": [],
      "include_colab_link": true
    },
    "kernelspec": {
      "name": "python3",
      "display_name": "Python 3"
    }
  },
  "cells": [
    {
      "cell_type": "markdown",
      "metadata": {
        "id": "view-in-github",
        "colab_type": "text"
      },
      "source": [
        "<a href=\"https://colab.research.google.com/github/aaugustine130/AdvLinearAlgebra/blob/master/Copy_of_Project_4_Case_3_An_Interesting_Case_using_Singular_Values_and_Best_Fit.ipynb\" target=\"_parent\"><img src=\"https://colab.research.google.com/assets/colab-badge.svg\" alt=\"Open In Colab\"/></a>"
      ]
    },
    {
      "cell_type": "code",
      "metadata": {
        "id": "Hd7VYbrPdIg7",
        "colab_type": "code",
        "colab": {}
      },
      "source": [
        "#  Libraries that we'll need:\n",
        "import numpy as np\n",
        "import sympy as sym\n",
        "#from scipy import misc\n",
        "from scipy import linalg\n",
        "#from PIL import Image\n",
        "#import imageio\n",
        "import matplotlib.pyplot as plt\n",
        "# importing \"random\" for random operations \n",
        "import random "
      ],
      "execution_count": 0,
      "outputs": []
    },
    {
      "cell_type": "markdown",
      "metadata": {
        "id": "90XAt6FGd-y7",
        "colab_type": "text"
      },
      "source": [
        "#  Singular Value Decomposition and Best Fit\n",
        "\n",
        "We look at some data generated here from three sources:\n",
        "\n",
        "*   Case 0:  A known polynomial function $f(x) = 4 - 3x^2 + 5x^6$\n",
        "*   Case 1:  A known trigonometric function $f(x) = 4 - 2\\cos(x) + \\cos^2 (x)$\n",
        "*   Case 2:  A matrix of data $M$ (specified below) with unknown source function\n",
        "*   Case 3:  An interesting case."
      ]
    },
    {
      "cell_type": "markdown",
      "metadata": {
        "id": "zrZ6Bf0qeQ9n",
        "colab_type": "text"
      },
      "source": [
        "# Overview for Case 3:  An interesting case:\n",
        "\n",
        "For Case 3, you have the option of completing one of the following tasks:\n",
        "\n",
        "* **Option A:**  Re-do Case 0 or Case 1 by adding noise to the function.\n",
        "\n",
        "Using $f$ + (2*random.random()-1)  will add a random number between -1 and 1 to the value of $f$.  How much noise can your method absorb and still produce accurate results?  (e.g. noise with a range of $-1$ to $1$?  noise from a range of $-5$ to $5$?  noise from $-30$ to $30$?)  Which method (best-fit or SVD) accommodates a larger range of error?\n",
        "\n",
        "* **Option B:**  Best Fit for a plane\n",
        "\n",
        "Instead of matching a function $x \\to f(x)$ using a 8th degree polynomial, make a multivariable function $(x_1,x_2) \\to f(x_1,x_2)$ where $f$ is a 3rd degree polynomial in $x_1$ and $x_2$. Generate data based on at least 16 different input points. Modify the procedure for choosing the $M$ matrix, and use Best Fit to find the best fit line. \n",
        "\n",
        "\n",
        "BONUS for Option B:  Do this for 3 dimensions, with noise, or modify the SVD solution to fit this option\n",
        "\n",
        "* **Option C:**  The space of continuous functions of one variable has two different bases:\n",
        "\n",
        "\n",
        "Given an unknown function, we figured out how to write it using basis of polynomials.  We could also have determined how to write it as a basis of powers of sine and cosine functions. Fit the polynomial $f(x) = 4 - 3x^2 + 5x^6$ to a basis of sine & cosine functions of at most power 4. Plot the original function and the best-fit function.\n",
        "\n",
        "BONUS for Option C:  Include noise via $f(x)$ + (2*random.random()-1), and find a way to measure the error in your approximation to the function f(x).  What is the effect of this noise on your approximation?\n",
        "\n",
        "\n",
        "In each case, it may be helpful to re-use data from the previous cases by copy-and-paste into cells below.  Be sure to specify which option you are addressing."
      ]
    },
    {
      "cell_type": "markdown",
      "metadata": {
        "id": "MQZ8RE_hgNKw",
        "colab_type": "text"
      },
      "source": [
        "#3.1 Code for Option A: Adding noise to Case 0"
      ]
    },
    {
      "cell_type": "code",
      "metadata": {
        "id": "rKdTRosMW3q-",
        "colab_type": "code",
        "colab": {}
      },
      "source": [
        "#We'll generate random points of data for our system.\n",
        "#The actual points for the system will be stored in containers actual_data_x and actual_data_y\n",
        "\n",
        "actual_data_x = []\n",
        "actual_data_y = []\n",
        "noise_data_y = []\n",
        "\n",
        "#We'll use (cough... cough...) three   data points:\n",
        "for i in range(15):\n",
        "    # pick a random number between -5 and 5\n",
        "    x = 6*random.random() - 3\n",
        "    f = 4 - 3*x**2 + 5*x**6\n",
        "    noise = f + (60*random.random() - 30)\n",
        "    actual_data_x.append(x)\n",
        "    actual_data_y.append(f)\n",
        "    noise_data_y.append(noise)"
      ],
      "execution_count": 0,
      "outputs": []
    },
    {
      "cell_type": "code",
      "metadata": {
        "id": "jPtYDLiuBQAX",
        "colab_type": "code",
        "outputId": "7633ae1f-e348-45e5-fbbf-b8cece0012f1",
        "colab": {
          "base_uri": "https://localhost:8080/",
          "height": 104
        }
      },
      "source": [
        "actual_data_x[:5]"
      ],
      "execution_count": 159,
      "outputs": [
        {
          "output_type": "execute_result",
          "data": {
            "text/plain": [
              "[0.7839409612560955,\n",
              " -0.8733561190698835,\n",
              " -1.8871822374557625,\n",
              " -0.4733398542581049,\n",
              " 0.5636006141750407]"
            ]
          },
          "metadata": {
            "tags": []
          },
          "execution_count": 159
        }
      ]
    },
    {
      "cell_type": "code",
      "metadata": {
        "id": "w5dU3XQSBSZe",
        "colab_type": "code",
        "outputId": "d874bd93-ab8e-40c1-9a2f-0e28bf0d1e7a",
        "colab": {
          "base_uri": "https://localhost:8080/",
          "height": 104
        }
      },
      "source": [
        "actual_data_y[:5]"
      ],
      "execution_count": 160,
      "outputs": [
        {
          "output_type": "execute_result",
          "data": {
            "text/plain": [
              "[3.3168765194433663,\n",
              " 3.9305475319991214,\n",
              " 219.18276595890924,\n",
              " 3.3840833725745556,\n",
              " 3.2073133059597043]"
            ]
          },
          "metadata": {
            "tags": []
          },
          "execution_count": 160
        }
      ]
    },
    {
      "cell_type": "code",
      "metadata": {
        "id": "XxAPdNy4BT5M",
        "colab_type": "code",
        "outputId": "03581311-b449-444f-edb9-972f50a3d29e",
        "colab": {
          "base_uri": "https://localhost:8080/",
          "height": 104
        }
      },
      "source": [
        "noise_data_y[:5]"
      ],
      "execution_count": 161,
      "outputs": [
        {
          "output_type": "execute_result",
          "data": {
            "text/plain": [
              "[30.880609509045133,\n",
              " -24.526423859801266,\n",
              " 226.17054792492803,\n",
              " -15.04206668125116,\n",
              " -0.7708693652348022]"
            ]
          },
          "metadata": {
            "tags": []
          },
          "execution_count": 161
        }
      ]
    },
    {
      "cell_type": "code",
      "metadata": {
        "id": "1MIXIbvYBVQO",
        "colab_type": "code",
        "colab": {}
      },
      "source": [
        "#Create the matrix M from the data in actual_data_x\n",
        "M_entries = []\n",
        "\n",
        "for x in actual_data_x:\n",
        "  M_entries.append([1, x, x**2, x**3, x**4, x**5, x**6])\n",
        "\n",
        "M = []\n",
        "M = np.matrix(M_entries)\n",
        "\n",
        "\n",
        "#Use the noisy data for b now instead of the actual y:\n",
        "b = []\n",
        "b = (np.matrix(noise_data_y)).transpose()"
      ],
      "execution_count": 0,
      "outputs": []
    },
    {
      "cell_type": "code",
      "metadata": {
        "id": "niZOyqGzBvek",
        "colab_type": "code",
        "outputId": "b1907bd3-e9eb-4816-ea7d-78bd56f19a60",
        "colab": {
          "base_uri": "https://localhost:8080/",
          "height": 139
        }
      },
      "source": [
        "#  Find the solution to Mx = b using Best Fit:\n",
        "#  (We've already used 'x' as a variable, so we'll call the solution vector c.)\n",
        "c = linalg.inv(M.transpose() * M) * M.transpose() * b\n",
        "c"
      ],
      "execution_count": 163,
      "outputs": [
        {
          "output_type": "execute_result",
          "data": {
            "text/plain": [
              "matrix([[ -3.11879136],\n",
              "        [ 31.501369  ],\n",
              "        [  3.62676071],\n",
              "        [-20.34274305],\n",
              "        [ -5.01793965],\n",
              "        [  2.7348813 ],\n",
              "        [  5.7776522 ]])"
            ]
          },
          "metadata": {
            "tags": []
          },
          "execution_count": 163
        }
      ]
    },
    {
      "cell_type": "code",
      "metadata": {
        "id": "GyahUw-XCKK3",
        "colab_type": "code",
        "outputId": "b5464fa4-6c10-4638-afd5-53ac34a82723",
        "colab": {
          "base_uri": "https://localhost:8080/",
          "height": 35
        }
      },
      "source": [
        "#  Let's see how close this actually gets us by comparing the original b vector to the result of Mc:\n",
        "error = ((b-M*c).transpose() * (b-M*c))[0,0]\n",
        "error**0.5"
      ],
      "execution_count": 164,
      "outputs": [
        {
          "output_type": "execute_result",
          "data": {
            "text/plain": [
              "45.086301378489196"
            ]
          },
          "metadata": {
            "tags": []
          },
          "execution_count": 164
        }
      ]
    },
    {
      "cell_type": "code",
      "metadata": {
        "id": "DlKVCK2uCMxv",
        "colab_type": "code",
        "outputId": "fc663c71-5524-4cd6-c3c7-de794c45c34d",
        "colab": {
          "base_uri": "https://localhost:8080/",
          "height": 295
        }
      },
      "source": [
        "#Show a plot of the solutions using the best-fit method, and the SVD method:\n",
        "\n",
        "# We'll specify that x is a variable:\n",
        "x = sym.symbols('x')\n",
        "\n",
        "xdata = []\n",
        "fdata = []\n",
        "#set up our 100 data points on the interval from (-3, 3):\n",
        "xdata = np.array(range(100))/(100/6) - 3\n",
        "# find the ouput for our function on each data point:\n",
        "fdata = 4 - 3*xdata**2 + 5*xdata**6\n",
        "\n",
        "best_fit = c[0,0] + c[1,0]*xdata + c[2,0]*(xdata**2) + c[3,0]*(xdata**3) + c[4,0]*(xdata**4) + c[5,0]*(xdata**5) + c[6,0]*(xdata**6)\n",
        "# Create the actual plot in red, and our datapoints in blue,\n",
        "# and the best-fit method in green:  \n",
        "plt.plot(xdata,fdata, color='red', linewidth=2 ) + plt.plot(actual_data_x, actual_data_y, 'bo', alpha=0.3)+plt.plot(xdata,best_fit, color='green')\n",
        "\n",
        "#Restrict the output values to this range:\n",
        "plt.ylim(-0,30)\n",
        "\n",
        "# Add a title\n",
        "plt.title('Our test data (blue) for the original function (red) and our best-fit solution (green)')\n",
        "\n",
        "# Add X and y Label\n",
        "plt.xlabel('x axis')\n",
        "plt.ylabel('output')\n",
        "\n",
        "# Add a grid\n",
        "plt.grid(alpha=.4,linestyle='--')"
      ],
      "execution_count": 165,
      "outputs": [
        {
          "output_type": "display_data",
          "data": {
            "image/png": "[encoded data removed]",
            "text/plain": [
              "<Figure size 432x288 with 1 Axes>"
            ]
          },
          "metadata": {
            "tags": [],
            "needs_background": "light"
          }
        }
      ]
    },
    {
      "cell_type": "code",
      "metadata": {
        "id": "-Jz1xVOuCRuk",
        "colab_type": "code",
        "colab": {}
      },
      "source": [
        "#  For this method, we use SVD on the data matrix M:\n",
        "U, S, Vh = linalg.svd(M, full_matrices=True)\n",
        "\n",
        "Vh = Vh.T"
      ],
      "execution_count": 0,
      "outputs": []
    },
    {
      "cell_type": "code",
      "metadata": {
        "id": "cQ9YdBunDYM8",
        "colab_type": "code",
        "outputId": "5dee6969-68e9-4450-ffe8-a2c7f4bca218",
        "colab": {
          "base_uri": "https://localhost:8080/",
          "height": 1000
        }
      },
      "source": [
        "U"
      ],
      "execution_count": 167,
      "outputs": [
        {
          "output_type": "execute_result",
          "data": {
            "text/plain": [
              "array([[-2.10261439e-04, -8.00495273e-03, -1.71164987e-02,\n",
              "        -2.83089054e-01,  2.77056962e-01, -4.50667574e-01,\n",
              "         3.22927508e-01,  2.68964792e-01, -2.68267667e-01,\n",
              "        -4.43840263e-01, -8.17552626e-02, -2.42011423e-01,\n",
              "         7.75074606e-02,  2.38644618e-01, -2.56600076e-01],\n",
              "       [-9.19484229e-04,  5.97832121e-03, -5.00723250e-02,\n",
              "         1.15267580e-01,  4.27585396e-01,  1.65224541e-01,\n",
              "        -2.22717875e-01, -4.48458565e-01, -1.31110612e-01,\n",
              "         8.89793344e-02, -3.36768958e-01, -1.98030447e-01,\n",
              "        -3.16782634e-01,  4.90964466e-01, -6.47206117e-02],\n",
              "       [-6.94134459e-02,  1.17313845e-01, -4.04095790e-01,\n",
              "         7.82093060e-02,  2.56165917e-02,  1.82906926e-02,\n",
              "         1.33100490e-01, -3.99911566e-01, -2.98425421e-01,\n",
              "         8.93312532e-02, -1.06356806e-01, -2.70236225e-01,\n",
              "         2.62111946e-01, -5.42538413e-01, -2.98237452e-01],\n",
              "       [-4.73316265e-05,  6.24957342e-04, -1.40898152e-02,\n",
              "         2.81364969e-02,  3.63576557e-01, -1.22099905e-01,\n",
              "        -4.68726658e-01,  4.94714011e-01, -6.17234930e-02,\n",
              "         1.30258142e-01, -1.64935340e-01, -7.51051453e-02,\n",
              "        -3.45296261e-01, -4.58964346e-01, -6.29864119e-02],\n",
              "       [-2.80124244e-05, -2.33479254e-03, -8.21222202e-03,\n",
              "        -1.80639200e-01,  2.80397581e-01, -5.77692749e-01,\n",
              "         1.64073386e-01, -4.34176933e-01,  2.69021491e-01,\n",
              "         9.89231516e-02,  1.27733822e-01,  2.50068235e-01,\n",
              "        -2.49660474e-01, -2.14075254e-01,  2.65232381e-01],\n",
              "       [-3.11221606e-02, -3.77627494e-01, -1.73455994e-01,\n",
              "        -5.15200600e-01,  1.05322254e-02,  3.71485198e-01,\n",
              "        -1.87754703e-01, -1.63592439e-01,  9.69514965e-02,\n",
              "        -5.32422710e-01, -6.07937252e-02,  6.36208714e-02,\n",
              "        -9.22893146e-02, -1.99943416e-01,  1.08037204e-01],\n",
              "       [-2.02725098e-01,  1.89445202e-01, -5.32616877e-01,\n",
              "        -1.62136627e-01, -3.51674625e-01, -2.55179593e-01,\n",
              "        -3.97596562e-01,  4.76051874e-04, -2.07117703e-02,\n",
              "         2.34545684e-02,  2.59906207e-01,  1.45734585e-01,\n",
              "        -1.81639975e-01,  2.68108188e-01, -2.67441817e-01],\n",
              "       [-9.67193293e-01,  2.13315980e-02,  2.31251556e-01,\n",
              "         4.98339979e-03,  6.18532911e-02,  4.67397773e-02,\n",
              "         4.91035990e-02,  3.26962745e-04,  8.72456557e-03,\n",
              "        -6.80429520e-03, -2.40206177e-02, -4.58277189e-03,\n",
              "         1.62308351e-02, -2.84517810e-02,  1.91029257e-02],\n",
              "       [-5.07197469e-02,  9.81258169e-02, -3.57077551e-01,\n",
              "         1.22382904e-01,  1.16409543e-01,  8.80734093e-02,\n",
              "         2.09752737e-01,  1.67276470e-01,  7.99110678e-01,\n",
              "        -4.03732225e-02, -1.91502136e-01, -2.24835969e-01,\n",
              "         2.22393305e-02,  4.38724877e-02, -1.48928192e-01],\n",
              "       [-6.88838332e-03, -1.08837147e-01, -9.21351473e-02,\n",
              "        -6.26477158e-01,  1.65975210e-01,  1.95728277e-01,\n",
              "         1.73109387e-01,  1.49321431e-01, -3.37548696e-02,\n",
              "         6.58552121e-01,  4.44103506e-02, -1.54701001e-02,\n",
              "         1.28068768e-01,  1.15876599e-01, -4.63955507e-02],\n",
              "       [-6.45664824e-03,  2.50210522e-02, -1.33594660e-01,\n",
              "         1.84989318e-01,  4.11044279e-01,  2.77112590e-01,\n",
              "         1.10340555e-01,  4.54593799e-02, -6.15770791e-02,\n",
              "        -1.00133900e-01,  8.02140631e-01, -1.18937788e-01,\n",
              "        -1.25305637e-01,  7.51091654e-03,  1.10026485e-02],\n",
              "       [-3.00316824e-02,  7.11681771e-02, -2.83996002e-01,\n",
              "         1.69896788e-01,  2.37678361e-01,  1.80423787e-01,\n",
              "         2.64669206e-01,  1.43211248e-01, -1.74113712e-01,\n",
              "        -6.66027235e-02, -2.23797852e-01,  7.80891573e-01,\n",
              "        -9.39770453e-03,  2.13495583e-02, -9.86853029e-02],\n",
              "       [-4.13245137e-05,  5.59701495e-04, -1.34187762e-02,\n",
              "         2.51965606e-02,  3.60635864e-01, -1.35089994e-01,\n",
              "        -4.72600749e-01, -4.55429603e-02,  1.25769883e-01,\n",
              "        -4.73960542e-02,  6.10590706e-02,  1.37747554e-01,\n",
              "         7.52925257e-01,  1.04459150e-01,  8.29239919e-02],\n",
              "       [-8.35024213e-02, -8.73534216e-01, -2.09530585e-01,\n",
              "         3.19624812e-01, -5.77632484e-02, -2.01968627e-01,\n",
              "         4.51174336e-02,  5.16204724e-02, -3.88315206e-02,\n",
              "         1.55560463e-01,  2.41926433e-02, -2.55020816e-02,\n",
              "         2.21473494e-02,  7.63999152e-02, -4.24737600e-02],\n",
              "       [-8.43550350e-02,  1.30220013e-01, -4.33379464e-01,\n",
              "         4.42522027e-02, -3.72729066e-02, -2.95636574e-02,\n",
              "         6.67316262e-02,  1.70311645e-01, -2.11061969e-01,\n",
              "        -7.48586443e-03, -1.29512026e-01, -2.03350868e-01,\n",
              "         3.91410530e-02,  7.67873115e-02,  8.00170024e-01]])"
            ]
          },
          "metadata": {
            "tags": []
          },
          "execution_count": 167
        }
      ]
    },
    {
      "cell_type": "code",
      "metadata": {
        "id": "s6wESzMVDbEs",
        "colab_type": "code",
        "outputId": "d2f0f1b5-f289-495b-da6e-a40b297a8463",
        "colab": {
          "base_uri": "https://localhost:8080/",
          "height": 52
        }
      },
      "source": [
        "S"
      ],
      "execution_count": 168,
      "outputs": [
        {
          "output_type": "execute_result",
          "data": {
            "text/plain": [
              "array([746.66776019,  70.682249  ,  22.386241  ,   3.83225327,\n",
              "         2.79376233,   0.93990779,   0.76768455])"
            ]
          },
          "metadata": {
            "tags": []
          },
          "execution_count": 168
        }
      ]
    },
    {
      "cell_type": "code",
      "metadata": {
        "id": "0CftZv9ODbgC",
        "colab_type": "code",
        "outputId": "e18cd096-5fda-4323-eb40-429f2425c86b",
        "colab": {
          "base_uri": "https://localhost:8080/",
          "height": 260
        }
      },
      "source": [
        "Vh"
      ],
      "execution_count": 169,
      "outputs": [
        {
          "output_type": "execute_result",
          "data": {
            "text/plain": [
              "array([[-0.002054  , -0.01005273, -0.11129783, -0.17603306,  0.82027417,\n",
              "        -0.45662333, -0.2741629 ],\n",
              "       [ 0.00473563, -0.05544321,  0.11502119, -0.56449216, -0.24194437,\n",
              "        -0.56539608,  0.53554883],\n",
              "       [-0.01451091, -0.03488292, -0.33781775, -0.19854433,  0.4172196 ,\n",
              "         0.53872745,  0.61703523],\n",
              "       [ 0.03776658, -0.21845654,  0.29841024, -0.71733019, -0.02713164,\n",
              "         0.41208447, -0.4203444 ],\n",
              "       [-0.11363575, -0.11524646, -0.86932329, -0.21013739, -0.30351286,\n",
              "        -0.08538302, -0.27297279],\n",
              "       [ 0.31560961, -0.91821013,  0.00424498,  0.21749306,  0.02316546,\n",
              "        -0.06677406,  0.07045613],\n",
              "       [-0.9411769 , -0.30247864,  0.12438813,  0.0701253 ,  0.03388486,\n",
              "        -0.00570135,  0.03349708]])"
            ]
          },
          "metadata": {
            "tags": []
          },
          "execution_count": 169
        }
      ]
    },
    {
      "cell_type": "code",
      "metadata": {
        "id": "WYdB-4zjDcBK",
        "colab_type": "code",
        "outputId": "f1f690af-1040-45e1-ae11-fdc9ab8f168a",
        "colab": {
          "base_uri": "https://localhost:8080/",
          "height": 35
        }
      },
      "source": [
        "# We can compare the original matrix M to the matrix reconstructed (called a1) from the SVD:\n",
        "# If they are close, then allclose(M, a1) should be True.\n",
        "\n",
        "#First, recast S as a matrix instead of a vector:\n",
        "sigma = np.zeros((U.shape[1], Vh.shape[0]))\n",
        "for i in range(min(sigma.shape)):\n",
        "     sigma[i, i] = S[i]\n",
        "#Reconstruct the matrix:\n",
        "a1 = np.dot(U, np.dot(sigma, Vh.T))\n",
        "\n",
        "#does a1 approximate M?\n",
        "np.allclose(M, a1)"
      ],
      "execution_count": 170,
      "outputs": [
        {
          "output_type": "execute_result",
          "data": {
            "text/plain": [
              "True"
            ]
          },
          "metadata": {
            "tags": []
          },
          "execution_count": 170
        }
      ]
    },
    {
      "cell_type": "code",
      "metadata": {
        "id": "0k00G_iUDgEQ",
        "colab_type": "code",
        "colab": {}
      },
      "source": [
        "#  Based on the number of non-zero singular values in S, divide each of U, sigma, and Vh into \n",
        "#  U_use, Sigma_use, and Vh_use.\n",
        "#  and  discard U_d, Sigma_d, Vh_d\n",
        "useSigs = 7\n",
        "\n",
        "#Use these parts of U, S, and Vh\n",
        "(Vrows, Vcols) = Vh.shape\n",
        "(Urows, Ucols) = U.shape\n",
        "U_use = U[:Urows, :useSigs]\n",
        "Vh_use = Vh[:Vrows, :useSigs]\n",
        "sigma_use = sigma[:useSigs, :useSigs]\n",
        "\n",
        "#discard these parts of U, S, and Vh:\n",
        "U_d = U[:Urows, useSigs:]\n",
        "Vh_d = Vh[:Vrows, useSigs:]\n",
        "sigma_d = sigma[useSigs:, useSigs:]"
      ],
      "execution_count": 0,
      "outputs": []
    },
    {
      "cell_type": "code",
      "metadata": {
        "id": "Sj_K0a9wDo5k",
        "colab_type": "code",
        "outputId": "a6591a41-1c1f-4f19-ae71-181586355b35",
        "colab": {
          "base_uri": "https://localhost:8080/",
          "height": 139
        }
      },
      "source": [
        "#  If we use Singular Value Decomposition to break down M as a product of matrices\n",
        "#  M = U sigma Vh.conjugate_transpose()\n",
        "#  Then the part of A which corresponds to non-zero singular values is:\n",
        "#  M_use = U_use sigma_use Vh_use.conjugate_transpose()\n",
        "#\n",
        "#  So, the equation Mx = b becomes:  (U_use sigma_use Vh_use.conjugate_transpose()) x = b\n",
        "#  or\n",
        "#  svd_sol = (U_use sigma_use Vh_use.conjugate_transpose()).inverse() b\n",
        "#  or\n",
        "#  svd_sol = Vh_use * Sigma_use.inverse() * U_use.transpose() * b\n",
        "#  (since Vh_use.conjugate_transpose() = Vh_use.inverse() and U_use.transpose() = U_use.inverse() )\n",
        "svdsol = (Vh_use @ linalg.inv(sigma_use) @ U_use.transpose()) @ b\n",
        "svdsol"
      ],
      "execution_count": 172,
      "outputs": [
        {
          "output_type": "execute_result",
          "data": {
            "text/plain": [
              "matrix([[ -3.11879136],\n",
              "        [ 31.501369  ],\n",
              "        [  3.62676071],\n",
              "        [-20.34274305],\n",
              "        [ -5.01793965],\n",
              "        [  2.7348813 ],\n",
              "        [  5.7776522 ]])"
            ]
          },
          "metadata": {
            "tags": []
          },
          "execution_count": 172
        }
      ]
    },
    {
      "cell_type": "code",
      "metadata": {
        "id": "SnQLWv5dDtrK",
        "colab_type": "code",
        "outputId": "4adca2a3-bff9-472c-d2c2-a55d242947bd",
        "colab": {
          "base_uri": "https://localhost:8080/",
          "height": 35
        }
      },
      "source": [
        "#  Let's see how close this actually gets us by comparing the original b vector to the result of Mc:\n",
        "error = ((b-M*svdsol).transpose() * (b-M*svdsol))[0,0]\n",
        "error**0.5"
      ],
      "execution_count": 173,
      "outputs": [
        {
          "output_type": "execute_result",
          "data": {
            "text/plain": [
              "45.0863013784892"
            ]
          },
          "metadata": {
            "tags": []
          },
          "execution_count": 173
        }
      ]
    },
    {
      "cell_type": "code",
      "metadata": {
        "id": "H-0o7kkkDxUE",
        "colab_type": "code",
        "outputId": "db323178-b54f-400f-fec8-b2750aef168d",
        "colab": {
          "base_uri": "https://localhost:8080/",
          "height": 295
        }
      },
      "source": [
        "#Show a plot of the solutions using the best-fit method, and the SVD method:\n",
        "\n",
        "# We'll specify that x is a variable:\n",
        "x = sym.symbols('x')\n",
        "\n",
        "xdata = []\n",
        "fdata = []\n",
        "#set up our 100 data points on the interval from (-3, 3):\n",
        "xdata = np.array(range(100))/(100/6) - 3\n",
        "# find the ouput for our function on each data point:\n",
        "fdata = 4 - 3*xdata**2 + 5*xdata**6\n",
        "\n",
        "#construct the solution from svdsol\n",
        "svd_fit = svdsol[0,0] + svdsol[1,0]*xdata + svdsol[2,0]*(xdata**2) + svdsol[3,0]*(xdata**3) + svdsol[4,0]*(xdata**4) + svdsol[5,0]*(xdata**5) + svdsol[6,0]*(xdata**6)\n",
        "# Create the actual plot in red, and our datapoints in blue,\n",
        "# and the svd solution in aqua:  \n",
        "plt.plot(xdata,fdata, color='red', linewidth=2 ) + plt.plot(actual_data_x, actual_data_y, 'bo', alpha=0.3) + plt.plot(xdata, svd_fit, 'aqua')\n",
        "\n",
        "#Restrict the output values to this range:\n",
        "plt.ylim(-0,5000)\n",
        "# Add a title\n",
        "plt.title('Our test data (blue) for the original function (red)  and svd solution (aqua)')\n",
        "\n",
        "# Add X and y Label\n",
        "plt.xlabel('x axis')\n",
        "plt.ylabel('output')\n",
        "\n",
        "# Add a grid\n",
        "plt.grid(alpha=.4,linestyle='--')"
      ],
      "execution_count": 174,
      "outputs": [
        {
          "output_type": "display_data",
          "data": {
            "image/png": "[encoded data removed]",
            "text/plain": [
              "<Figure size 432x288 with 1 Axes>"
            ]
          },
          "metadata": {
            "tags": [],
            "needs_background": "light"
          }
        }
      ]
    },
    {
      "cell_type": "markdown",
      "metadata": {
        "id": "1go1p2xuhnY0",
        "colab_type": "text"
      },
      "source": [
        "#3.2 Report of Findings\n",
        "\n",
        "My initial process was very similar to the examples we worked through in Case 0 and 1.  I utilized much of the same code, except instead of only having the actual_data_x and actual_data_y variables, I created a new variable called noise_data_y, which was the actual y data with added random noise.  I tried out different amounts of added noise, starting with just +/- 1 to the actual data.  I continued to try adding more and more noise to the y-values to try and determine now much noise could be added to still produce accurate results.  Both the method of best fit and the SVD method were used.\n",
        "\n",
        "Starting with added noise of +/- 1, both the SVD method and the method of best fit retain farily accurate results, with total errors being around 1.8 for both methods when using 15 points.  When the total points are increased, the error actually increases now with the added noise, which is interesting because before when there was no noise, adding points was an easy way to decrease the error in the fits.\n",
        "\n",
        "By adding noise of up to +/- 5, the error stays relatively small at around 7; however, if you look at the graph of the function zoomed in, you can see that the best fit and SVD lines are not accurately hitting the points, and the noise is causing the fit to no longer match the function accurately.  By adding more points, the error increases again, but the function mirrors the original function better, just shifted up or down depending on the random noise.\n",
        "\n",
        "Increasing the potential error up to +/- 30, the error jumps to around 47, and we definitely no longer have accurate results.  If you zoom out to where you can see all the points, the function still looks similar, but as you zoom in, you can see that the fits no longer match the original function.  Adding more points here does not help, since the noise is too great, causing the fits to no longer accurately match the original points.\n",
        "\n",
        "Overall both the SVD method and the method of best fit perform about the same.  The best results for the SVD method always seem to come when using the maximum number of SV's, which produces the same results as the method of best fit.  However, using fewer than the maximum number of SV's only increases the error slightly, so you may be able to get away with using fewer SV's.  Both methods seemed to be able to deal with small noise errors of less than 5; however, as the noise additions increased further than 5-10, the methods were no longer accurately matching the original function, especially when using only 10-20 points."
      ]
    },
    {
      "cell_type": "code",
      "metadata": {
        "id": "k5Kj0J4XD5gr",
        "colab_type": "code",
        "colab": {}
      },
      "source": [
        ""
      ],
      "execution_count": 0,
      "outputs": []
    }
  ]
}