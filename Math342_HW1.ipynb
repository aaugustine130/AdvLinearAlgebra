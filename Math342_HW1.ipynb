{
  "nbformat": 4,
  "nbformat_minor": 0,
  "metadata": {
    "colab": {
      "name": "Math342 HW1",
      "provenance": [],
      "authorship_tag": "ABX9TyNKXanIB9/eUoXN+IcNsPUr",
      "include_colab_link": true
    },
    "kernelspec": {
      "name": "python3",
      "display_name": "Python 3"
    }
  },
  "cells": [
    {
      "cell_type": "markdown",
      "metadata": {
        "id": "view-in-github",
        "colab_type": "text"
      },
      "source": [
        "<a href=\"https://colab.research.google.com/github/aaugustine130/AdvLinearAlgebra/blob/master/Math342_HW1.ipynb\" target=\"_parent\"><img src=\"https://colab.research.google.com/assets/colab-badge.svg\" alt=\"Open In Colab\"/></a>"
      ]
    },
    {
      "cell_type": "code",
      "metadata": {
        "id": "gvbkGvvldVz3",
        "colab_type": "code",
        "colab": {}
      },
      "source": [
        "import numpy as np"
      ],
      "execution_count": 0,
      "outputs": []
    },
    {
      "cell_type": "code",
      "metadata": {
        "id": "dG4SgOCLdgBy",
        "colab_type": "code",
        "colab": {}
      },
      "source": [
        "def location(a,b):\n",
        "  \"\"\"create a vector at location [a,b,1]\"\"\"\n",
        "  return np.matrix([[a],[b], [1]])\n",
        "def T(c,d):\n",
        "  \"\"\"Return a 3x3 matrix which translates x by a and y by b\"\"\"\n",
        "  return np.matrix([[1,0,c], [0,1,d],[0,0,1]])\n",
        "\n",
        "def R(phi):\n",
        "  \"\"\"Return a 3x3 matrix which translates around the origin by angle phi\"\"\"\n",
        "  return np.matrix([[np.cos(np.deg2rad(phi)), -1*np.sin(np.deg2rad(phi)), 0], [np.sin(np.deg2rad(phi)), np.cos(np.deg2rad(phi)), 0], [0, 0, 1] ])"
      ],
      "execution_count": 0,
      "outputs": []
    },
    {
      "cell_type": "code",
      "metadata": {
        "id": "04qebP1Ldyne",
        "colab_type": "code",
        "colab": {
          "base_uri": "https://localhost:8080/",
          "height": 69
        },
        "outputId": "79e3cc6d-1008-40a6-ec06-0afdab3fdad2"
      },
      "source": [
        "car_case_1a = location(3,0)\n",
        "light_case_1a = location(3,1)\n",
        "new_car_1a = T(3,0) * R(-90) * T(-3,0) * car_case_1a\n",
        "new_car_1a"
      ],
      "execution_count": 3,
      "outputs": [
        {
          "output_type": "execute_result",
          "data": {
            "text/plain": [
              "matrix([[3.],\n",
              "        [0.],\n",
              "        [1.]])"
            ]
          },
          "metadata": {
            "tags": []
          },
          "execution_count": 3
        }
      ]
    },
    {
      "cell_type": "code",
      "metadata": {
        "id": "WHXjql1dd4hT",
        "colab_type": "code",
        "colab": {
          "base_uri": "https://localhost:8080/",
          "height": 69
        },
        "outputId": "d699f2ae-b48c-4150-852c-a383e6c422c1"
      },
      "source": [
        "new_light_1a = T(3,0) * R(-90) * T(-3,0) * light_case_1a\n",
        "new_light_1a"
      ],
      "execution_count": 4,
      "outputs": [
        {
          "output_type": "execute_result",
          "data": {
            "text/plain": [
              "matrix([[4.],\n",
              "        [0.],\n",
              "        [1.]])"
            ]
          },
          "metadata": {
            "tags": []
          },
          "execution_count": 4
        }
      ]
    },
    {
      "cell_type": "code",
      "metadata": {
        "id": "6vuWUNP8d61z",
        "colab_type": "code",
        "colab": {
          "base_uri": "https://localhost:8080/",
          "height": 69
        },
        "outputId": "50a091b0-a01f-4806-8b2f-963c24cafae9"
      },
      "source": [
        "single_1a = T(3,0) * R(-90) * T(-3,0)\n",
        "np.round(single_1a,0)"
      ],
      "execution_count": 5,
      "outputs": [
        {
          "output_type": "execute_result",
          "data": {
            "text/plain": [
              "matrix([[ 0.,  1.,  3.],\n",
              "        [-1.,  0.,  3.],\n",
              "        [ 0.,  0.,  1.]])"
            ]
          },
          "metadata": {
            "tags": []
          },
          "execution_count": 5
        }
      ]
    },
    {
      "cell_type": "code",
      "metadata": {
        "id": "ncmSkIfkd750",
        "colab_type": "code",
        "colab": {
          "base_uri": "https://localhost:8080/",
          "height": 69
        },
        "outputId": "cdfca0fe-ab29-4eb9-b445-82802e246ba8"
      },
      "source": [
        "point_1a = location(4,0)\n",
        "new_point_1a = T(3,0) * R(-90) * T(-3,0) * point_1a\n",
        "new_point_1a"
      ],
      "execution_count": 6,
      "outputs": [
        {
          "output_type": "execute_result",
          "data": {
            "text/plain": [
              "matrix([[ 3.],\n",
              "        [-1.],\n",
              "        [ 1.]])"
            ]
          },
          "metadata": {
            "tags": []
          },
          "execution_count": 6
        }
      ]
    },
    {
      "cell_type": "code",
      "metadata": {
        "id": "1phWOYGsd_I4",
        "colab_type": "code",
        "colab": {
          "base_uri": "https://localhost:8080/",
          "height": 69
        },
        "outputId": "2087d94d-8c97-4a2c-b682-3112310ea450"
      },
      "source": [
        "car_case_1b = location(3,2)\n",
        "light_case_1b = location(3,3)\n",
        "new_car_1b = T(3,2) * R(-90) * T(-3,-2) * car_case_1b\n",
        "new_car_1b"
      ],
      "execution_count": 7,
      "outputs": [
        {
          "output_type": "execute_result",
          "data": {
            "text/plain": [
              "matrix([[3.],\n",
              "        [2.],\n",
              "        [1.]])"
            ]
          },
          "metadata": {
            "tags": []
          },
          "execution_count": 7
        }
      ]
    },
    {
      "cell_type": "code",
      "metadata": {
        "id": "fJhUigR9eEQM",
        "colab_type": "code",
        "colab": {
          "base_uri": "https://localhost:8080/",
          "height": 69
        },
        "outputId": "3e0550a0-0cdd-433f-c0ec-59a8cd1f94a7"
      },
      "source": [
        "new_light_1b = T(3,2) * R(-90) * T(-3,-2) * light_case_1b\n",
        "new_light_1b"
      ],
      "execution_count": 8,
      "outputs": [
        {
          "output_type": "execute_result",
          "data": {
            "text/plain": [
              "matrix([[4.],\n",
              "        [2.],\n",
              "        [1.]])"
            ]
          },
          "metadata": {
            "tags": []
          },
          "execution_count": 8
        }
      ]
    },
    {
      "cell_type": "code",
      "metadata": {
        "id": "tN0syYdXeGpz",
        "colab_type": "code",
        "colab": {
          "base_uri": "https://localhost:8080/",
          "height": 69
        },
        "outputId": "fe3a2a1d-e2f0-4e96-aece-cb457003adec"
      },
      "source": [
        "single_1b = T(3,2) * R(-90) * T(-3,-2)\n",
        "np.round(single_1b,0)"
      ],
      "execution_count": 9,
      "outputs": [
        {
          "output_type": "execute_result",
          "data": {
            "text/plain": [
              "matrix([[ 0.,  1.,  1.],\n",
              "        [-1.,  0.,  5.],\n",
              "        [ 0.,  0.,  1.]])"
            ]
          },
          "metadata": {
            "tags": []
          },
          "execution_count": 9
        }
      ]
    },
    {
      "cell_type": "code",
      "metadata": {
        "id": "edcmU0Y3eHJQ",
        "colab_type": "code",
        "colab": {
          "base_uri": "https://localhost:8080/",
          "height": 69
        },
        "outputId": "4c35fbf6-3fa8-4add-df44-1e6a100fd79f"
      },
      "source": [
        "point_1b = location(4,2)\n",
        "new_point_1b = T(3,2) * R(-90) * T(-3,-2) * point_1b\n",
        "new_point_1b"
      ],
      "execution_count": 10,
      "outputs": [
        {
          "output_type": "execute_result",
          "data": {
            "text/plain": [
              "matrix([[3.],\n",
              "        [1.],\n",
              "        [1.]])"
            ]
          },
          "metadata": {
            "tags": []
          },
          "execution_count": 10
        }
      ]
    },
    {
      "cell_type": "code",
      "metadata": {
        "id": "GbAzECJeeJmp",
        "colab_type": "code",
        "colab": {
          "base_uri": "https://localhost:8080/",
          "height": 69
        },
        "outputId": "72b9b704-a144-416a-b606-59c253807241"
      },
      "source": [
        "car_case_2 = location(3,0)\n",
        "light_case_2 = location(3,1)\n",
        "new_car_case_2 = T(-2,-2) * R(180) * T(-3,0) * car_case_2\n",
        "new_car_case_2"
      ],
      "execution_count": 11,
      "outputs": [
        {
          "output_type": "execute_result",
          "data": {
            "text/plain": [
              "matrix([[-2.],\n",
              "        [-2.],\n",
              "        [ 1.]])"
            ]
          },
          "metadata": {
            "tags": []
          },
          "execution_count": 11
        }
      ]
    },
    {
      "cell_type": "code",
      "metadata": {
        "id": "M8cMLpk8ePkM",
        "colab_type": "code",
        "colab": {
          "base_uri": "https://localhost:8080/",
          "height": 69
        },
        "outputId": "5acff3fd-96b4-4b3e-85fb-efea868e38d9"
      },
      "source": [
        "new_light_case_2 = T(-2,-2) * R(180) * T(-3,0) * light_case_2\n",
        "new_light_case_2"
      ],
      "execution_count": 12,
      "outputs": [
        {
          "output_type": "execute_result",
          "data": {
            "text/plain": [
              "matrix([[-2.],\n",
              "        [-3.],\n",
              "        [ 1.]])"
            ]
          },
          "metadata": {
            "tags": []
          },
          "execution_count": 12
        }
      ]
    },
    {
      "cell_type": "code",
      "metadata": {
        "id": "hoe6hdf_eQCs",
        "colab_type": "code",
        "colab": {
          "base_uri": "https://localhost:8080/",
          "height": 69
        },
        "outputId": "8dc6a10c-4a02-45af-e4a3-71b9ae5abd56"
      },
      "source": [
        "single_case_2 = T(-2,-2) * R(180) * T(-3,0)\n",
        "np.round(single_case_2,0)"
      ],
      "execution_count": 13,
      "outputs": [
        {
          "output_type": "execute_result",
          "data": {
            "text/plain": [
              "matrix([[-1., -0.,  1.],\n",
              "        [ 0., -1., -2.],\n",
              "        [ 0.,  0.,  1.]])"
            ]
          },
          "metadata": {
            "tags": []
          },
          "execution_count": 13
        }
      ]
    },
    {
      "cell_type": "code",
      "metadata": {
        "id": "oQpwDEZSeT8f",
        "colab_type": "code",
        "colab": {
          "base_uri": "https://localhost:8080/",
          "height": 69
        },
        "outputId": "7a6521e7-bf53-438d-dc98-925c72864625"
      },
      "source": [
        "def RabByPhi(a,b,phi, T, R):\n",
        "  \"\"\"Return a 3x3 matrix which rotates the car at location a,b by phi degrees.\"\"\"\n",
        "  return T(a,b) * R(phi) * T(-a, -b)\n",
        "\n",
        "car_hw_3 = location(3,0)\n",
        "light_hw_3 = location(3,1)\n",
        "garage = T(0,1) * RabByPhi(-2,-3,90,T,R) * T(-2,0) * RabByPhi(0,-3,-90,T,R) * T(0,-3) * RabByPhi(0,0,90,T,R) * T(-3,0) * RabByPhi(3,0,90,T,R)\n",
        "np.round(garage,0)"
      ],
      "execution_count": 17,
      "outputs": [
        {
          "output_type": "execute_result",
          "data": {
            "text/plain": [
              "matrix([[-1., -0.,  1.],\n",
              "        [ 0., -1., -2.],\n",
              "        [ 0.,  0.,  1.]])"
            ]
          },
          "metadata": {
            "tags": []
          },
          "execution_count": 17
        }
      ]
    },
    {
      "cell_type": "code",
      "metadata": {
        "id": "XChw9Xv_eYKX",
        "colab_type": "code",
        "colab": {
          "base_uri": "https://localhost:8080/",
          "height": 69
        },
        "outputId": "5ff2306c-e0df-4321-bc19-dab9191e9006"
      },
      "source": [
        "new_car_hw_3 = garage * car_hw_3\n",
        "new_car_hw_3"
      ],
      "execution_count": 15,
      "outputs": [
        {
          "output_type": "execute_result",
          "data": {
            "text/plain": [
              "matrix([[-2.],\n",
              "        [-2.],\n",
              "        [ 1.]])"
            ]
          },
          "metadata": {
            "tags": []
          },
          "execution_count": 15
        }
      ]
    },
    {
      "cell_type": "code",
      "metadata": {
        "id": "B0QIeNhCebvy",
        "colab_type": "code",
        "colab": {
          "base_uri": "https://localhost:8080/",
          "height": 69
        },
        "outputId": "8aff759d-e2d3-40ac-be6d-a6d395def764"
      },
      "source": [
        "new_light_hw_3 = garage * light_hw_3\n",
        "new_light_hw_3"
      ],
      "execution_count": 16,
      "outputs": [
        {
          "output_type": "execute_result",
          "data": {
            "text/plain": [
              "matrix([[-2.],\n",
              "        [-3.],\n",
              "        [ 1.]])"
            ]
          },
          "metadata": {
            "tags": []
          },
          "execution_count": 16
        }
      ]
    },
    {
      "cell_type": "code",
      "metadata": {
        "id": "hhlRQOUBecL5",
        "colab_type": "code",
        "colab": {}
      },
      "source": [
        ""
      ],
      "execution_count": 0,
      "outputs": []
    }
  ]
}