{
  "nbformat": 4,
  "nbformat_minor": 0,
  "metadata": {
    "colab": {
      "name": "Copy of Project 1:  Tangent vectors and transformations ",
      "provenance": [],
      "include_colab_link": true
    },
    "kernelspec": {
      "name": "python3",
      "display_name": "Python 3"
    }
  },
  "cells": [
    {
      "cell_type": "markdown",
      "metadata": {
        "id": "view-in-github",
        "colab_type": "text"
      },
      "source": [
        "<a href=\"https://colab.research.google.com/github/aaugustine130/AdvLinearAlgebra/blob/master/Copy_of_Project_1_Tangent_vectors_and_transformations.ipynb\" target=\"_parent\"><img src=\"https://colab.research.google.com/assets/colab-badge.svg\" alt=\"Open In Colab\"/></a>"
      ]
    },
    {
      "cell_type": "markdown",
      "metadata": {
        "id": "57j2zq31_0qa",
        "colab_type": "text"
      },
      "source": [
        "# Project 1:  Tangent vectors and transformations"
      ]
    },
    {
      "cell_type": "markdown",
      "metadata": {
        "id": "ngQ6BrES_7-Y",
        "colab_type": "text"
      },
      "source": [
        "For this project, we'll look at the transformations arising from each of the matrices below:\n",
        "\n",
        "$$ A = \\left( \\begin{array}{ccc} 0 & -1 & 0 \\\\ 1 & 0 & 0 \\\\ 0 & 0 & 0 \\\\ \\end{array} \\right) \\hspace{2cm}\n",
        "B = \\left( \\begin{array}{ccc} 0 & 0 & 0 \\\\ 0 & 0 & -1 \\\\ 0 & 1 & 0 \\\\ \\end{array} \\right) \\hspace{2cm}\n",
        "C = \\left( \\begin{array}{ccc} 0 & 0 & 1 \\\\ 0 & 0 & 0 \\\\ -1 & 0 & 0 \\\\ \\end{array} \\right) \\hspace{2cm}\n",
        "$$\n",
        "\n",
        "The computational part of this project involves the following steps:\n",
        "\n",
        "1.  The columns of a matrix tell us what happens to the basis vectors in a vector space.  Explain what matrices $A$, $B$, and $C$ do to the standard basis elements for $\\mathbb{R}^3$.  (Note:  Bonus points for creating a graph showing what happens to each basis vector.  e.g. For A, the initial vector $e_1$ is sent in the direction $(0, 1, 0)$, so draw an arrow from $(1, 0, 0)$ to $(1, 1, 0)$. )\n",
        "\n",
        "2.  Compute $exp(t\\,A), exp(t\\,B)$, and $exp(t\\,C)$ for each matrix, which is defined as\n",
        "  $$ exp(M) = I_n + M + \\frac{1}{2!} M^2 + \\frac{1}{3!} M^3 + \\cdots + \\frac{1}{m!} M^m + \\cdots $$\n",
        "\n",
        "  To do this, separately compute $$(Mt)^0, (Mt)^1, (Mt)^2, (Mt)^3, (Mt)^4, (Mt)^5, (Mt)^6$$ and combine them to form the first several terms of $exp(Mt)$ for each of your three matrices.\n",
        "\n",
        "  \n",
        "3.  We can think of each of the $3 \\times 3$ matrices in part 2 as maps, or transformations $\\gamma: \\mathbb{R} \\to \\mathbb{M}_{3\\times3}$, which depending on $t$ and which act on the space $\\mathbb{R}^3$:\n",
        "\n",
        "$$ \\gamma_A(t) = exp(t\\,A) \\hspace{2cm} \\gamma_B(t) = exp(t\\, B) \\hspace{2cm} \\gamma_C(t) = exp(t\\,C)$$\n",
        "What do each of these matrices do to the space $\\mathbb{R}^3$?\n",
        "\n",
        "4.  What causes more rotation, $\\gamma_A(t) \\circ \\gamma_A(t)$ or  $\\gamma_A(2t)$?\n",
        "\n",
        "5. If we pick two of the transformations, say $\\gamma_A(t)$ and $\\gamma_B(t)$, and then apply them like so:\n",
        "$$  Q = \\gamma_B(-t) \\circ \\gamma_A(-t) \\circ \\gamma_B(t) \\circ \\gamma_A(t)$$\n",
        "the result is <b>not necessarily</b> the identity transformation!  Find this transformation $Q$ and describe what it does to $\\mathbb{R}^3$.\n",
        "\n",
        "6.  A tangent vector is found by taking a derivative (with respect to $t$) and evaluating that derivative (at $t = 0$).  Find the tangent vector of:\n",
        "\n",
        "$$  \\gamma_A(t)  \\hspace{2cm}  \\gamma_B(t) \\hspace{2cm}  \\gamma_C(t) \\hspace{2cm} Q$$\n",
        "\n",
        "** Note 1:  The `sym.diff(M, t)` code will take the derivative of matrix $M$ with respect to variable $t$.  Then, evaluate the result with $t=0$.\n",
        "\n",
        "** Note 2: The tangent vector of $Q$ will be the 0 matrix; In this case, use the second derivative of $Q$ to form the tangent vector.\n",
        "\n",
        "\n",
        "\n",
        "7.  Compute the product $[ A, B ] = AB - BA$.  Compare this result to the tangent vectors in the previous problem.\n"
      ]
    },
    {
      "cell_type": "markdown",
      "metadata": {
        "id": "0nfOKjAOHMul",
        "colab_type": "text"
      },
      "source": [
        "# Code\n",
        "Put your code in this section. \n",
        "We'll use the package sympy to do symbolic computations in our code.\n",
        "\n",
        "Be sure to write comments in your code.\n",
        "Comments start with # symbols.\n",
        "\n",
        "Lastly, create an organization for your code.  (This organization is up to you!  )"
      ]
    },
    {
      "cell_type": "code",
      "metadata": {
        "id": "dNAjzxLD2rlL",
        "colab_type": "code",
        "outputId": "db9a0a59-daad-432f-8b08-10179dc7bde5",
        "colab": {
          "base_uri": "https://localhost:8080/",
          "height": 35
        }
      },
      "source": [
        "import matplotlib.pyplot as plt\n",
        "import sympy as sym\n",
        "\n",
        "\n",
        "# Comments start with a hash mark.\n",
        "\n",
        "# We'll specify that x and t are variables:\n",
        "x, t = sym.symbols('x, t')\n",
        "\n",
        "# this is a expression:\n",
        "expr = (x + t)**2\n",
        "\n",
        "# Use 'sym.latex(...) to produce the math expression in latex.  \n",
        "# Then, copy and paste the latex into a text field \n",
        "# Put it inside single dollar signs $ ... $ to typeset the mathematics inline,\n",
        "# or inside double dollar signs $$ ... $$ to center the math on its own line. \n",
        "sym.latex(expr.expand())\n",
        "\n",
        "# How to create a matrix S:\n",
        "S = sym.Matrix([[0, 1, 0], [1, 0, 0], [0, 0, 1]])\n",
        "# or a 3x3 identity matrix:\n",
        "I3 = sym.eye(3)\n",
        "\n",
        "# How to multiply the matrix S by the variable t:\n",
        "St = S*t\n",
        "\n",
        "# How to output the latex so the matrix looks nice:\n",
        "print(sym.latex(St))\n",
        "\n"
      ],
      "execution_count": 1,
      "outputs": [
        {
          "output_type": "stream",
          "text": [
            "\\left[\\begin{matrix}0 & t & 0\\\\t & 0 & 0\\\\0 & 0 & t\\end{matrix}\\right]\n"
          ],
          "name": "stdout"
        }
      ]
    },
    {
      "cell_type": "code",
      "metadata": {
        "id": "vjKtgZiS_SYm",
        "colab_type": "code",
        "outputId": "51d1dc3d-4088-4049-f05f-36a2d63019b4",
        "colab": {
          "base_uri": "https://localhost:8080/",
          "height": 35
        }
      },
      "source": [
        "# Problem 1\n",
        "A = sym.Matrix([[0,-1,0],[1,0,0],[0,0,0]])\n",
        "B = sym.Matrix([[0,0,0],[0,0,-1],[0,1,0]])\n",
        "C = sym.Matrix([[0,0,1],[0,0,0],[-1,0,0]])\n",
        "e1 = sym.Matrix([[1],[0],[0]])\n",
        "e2 = sym.Matrix([[0],[1],[0]])\n",
        "e3 = sym.Matrix([[0],[0],[1]])\n",
        "print(sym.latex(C))"
      ],
      "execution_count": 0,
      "outputs": [
        {
          "output_type": "stream",
          "text": [
            "\\left[\\begin{matrix}0 & 0 & 1\\\\0 & 0 & 0\\\\-1 & 0 & 0\\end{matrix}\\right]\n"
          ],
          "name": "stdout"
        }
      ]
    },
    {
      "cell_type": "code",
      "metadata": {
        "id": "yF8NzWifAlVN",
        "colab_type": "code",
        "outputId": "7683f93e-7f72-419b-a58d-0f7849ea4808",
        "colab": {
          "base_uri": "https://localhost:8080/",
          "height": 87
        }
      },
      "source": [
        "A*e2"
      ],
      "execution_count": 0,
      "outputs": [
        {
          "output_type": "execute_result",
          "data": {
            "text/plain": [
              "Matrix([\n",
              "[-1],\n",
              "[ 0],\n",
              "[ 0]])"
            ]
          },
          "metadata": {
            "tags": []
          },
          "execution_count": 20
        }
      ]
    },
    {
      "cell_type": "code",
      "metadata": {
        "id": "6s7YYLB3Allc",
        "colab_type": "code",
        "outputId": "7ffe3161-d820-45fe-acae-42417e3afd23",
        "colab": {
          "base_uri": "https://localhost:8080/",
          "height": 87
        }
      },
      "source": [
        "A*e3"
      ],
      "execution_count": 0,
      "outputs": [
        {
          "output_type": "execute_result",
          "data": {
            "text/plain": [
              "Matrix([\n",
              "[0],\n",
              "[0],\n",
              "[0]])"
            ]
          },
          "metadata": {
            "tags": []
          },
          "execution_count": 21
        }
      ]
    },
    {
      "cell_type": "code",
      "metadata": {
        "id": "vTNObSiWAltX",
        "colab_type": "code",
        "outputId": "756ecde2-0b22-4063-ca95-c399aa2f7a38",
        "colab": {
          "base_uri": "https://localhost:8080/",
          "height": 87
        }
      },
      "source": [
        "B*e1"
      ],
      "execution_count": 0,
      "outputs": [
        {
          "output_type": "execute_result",
          "data": {
            "text/plain": [
              "Matrix([\n",
              "[0],\n",
              "[0],\n",
              "[0]])"
            ]
          },
          "metadata": {
            "tags": []
          },
          "execution_count": 22
        }
      ]
    },
    {
      "cell_type": "code",
      "metadata": {
        "id": "nzgqsJQ7Al1n",
        "colab_type": "code",
        "outputId": "b1dadae4-da75-4237-8407-0091d4a18d6b",
        "colab": {
          "base_uri": "https://localhost:8080/",
          "height": 87
        }
      },
      "source": [
        "B*e2"
      ],
      "execution_count": 0,
      "outputs": [
        {
          "output_type": "execute_result",
          "data": {
            "text/plain": [
              "Matrix([\n",
              "[0],\n",
              "[0],\n",
              "[1]])"
            ]
          },
          "metadata": {
            "tags": []
          },
          "execution_count": 23
        }
      ]
    },
    {
      "cell_type": "code",
      "metadata": {
        "id": "fko2otWQArQp",
        "colab_type": "code",
        "outputId": "d5f580c7-e605-41f0-dcd4-1bd26fcb865c",
        "colab": {
          "base_uri": "https://localhost:8080/",
          "height": 87
        }
      },
      "source": [
        "B*e3"
      ],
      "execution_count": 0,
      "outputs": [
        {
          "output_type": "execute_result",
          "data": {
            "text/plain": [
              "Matrix([\n",
              "[ 0],\n",
              "[-1],\n",
              "[ 0]])"
            ]
          },
          "metadata": {
            "tags": []
          },
          "execution_count": 24
        }
      ]
    },
    {
      "cell_type": "code",
      "metadata": {
        "id": "Ro1Edh3FAr0S",
        "colab_type": "code",
        "outputId": "22d48da2-aba5-4379-c0dd-7c3fbc22b0c8",
        "colab": {
          "base_uri": "https://localhost:8080/",
          "height": 87
        }
      },
      "source": [
        "C*e1"
      ],
      "execution_count": 0,
      "outputs": [
        {
          "output_type": "execute_result",
          "data": {
            "text/plain": [
              "Matrix([\n",
              "[ 0],\n",
              "[ 0],\n",
              "[-1]])"
            ]
          },
          "metadata": {
            "tags": []
          },
          "execution_count": 25
        }
      ]
    },
    {
      "cell_type": "code",
      "metadata": {
        "id": "I4Kfzus7Ar7T",
        "colab_type": "code",
        "outputId": "0599f9c6-8bb0-4ec0-d548-6c7b218dc4fa",
        "colab": {
          "base_uri": "https://localhost:8080/",
          "height": 87
        }
      },
      "source": [
        "C*e2"
      ],
      "execution_count": 0,
      "outputs": [
        {
          "output_type": "execute_result",
          "data": {
            "text/plain": [
              "Matrix([\n",
              "[0],\n",
              "[0],\n",
              "[0]])"
            ]
          },
          "metadata": {
            "tags": []
          },
          "execution_count": 26
        }
      ]
    },
    {
      "cell_type": "code",
      "metadata": {
        "id": "uJu7JsOPAsFv",
        "colab_type": "code",
        "outputId": "ac2fb1b1-1a8e-4398-c68d-0c31c201514d",
        "colab": {
          "base_uri": "https://localhost:8080/",
          "height": 87
        }
      },
      "source": [
        "C*e3"
      ],
      "execution_count": 0,
      "outputs": [
        {
          "output_type": "execute_result",
          "data": {
            "text/plain": [
              "Matrix([\n",
              "[1],\n",
              "[0],\n",
              "[0]])"
            ]
          },
          "metadata": {
            "tags": []
          },
          "execution_count": 27
        }
      ]
    },
    {
      "cell_type": "code",
      "metadata": {
        "id": "NJhNSFsaAsgV",
        "colab_type": "code",
        "outputId": "66ce5f8c-35c2-4570-e074-c3a94cc84819",
        "colab": {
          "base_uri": "https://localhost:8080/",
          "height": 87
        }
      },
      "source": [
        "import math\n",
        "# Problem 2\n",
        "(t*A)**0 + (t*A)**1 + (1/math.factorial(2))*(t*A)**2 + (1/math.factorial(3))*(t*A)**3 + (1/math.factorial(4))*(t*A)**4 + (1/math.factorial(5))*(t*A)**5 + (1/math.factorial(6))*(t*A)**6"
      ],
      "execution_count": 0,
      "outputs": [
        {
          "output_type": "execute_result",
          "data": {
            "text/plain": [
              "Matrix([\n",
              "[-0.00138888888888889*t**6 + 0.0416666666666667*t**4 - 0.5*t**2 + 1,             -0.00833333333333333*t**5 + 0.166666666666667*t**3 - t, 0],\n",
              "[             0.00833333333333333*t**5 - 0.166666666666667*t**3 + t, -0.00138888888888889*t**6 + 0.0416666666666667*t**4 - 0.5*t**2 + 1, 0],\n",
              "[                                                                 0,                                                                  0, 1]])"
            ]
          },
          "metadata": {
            "tags": []
          },
          "execution_count": 28
        }
      ]
    },
    {
      "cell_type": "code",
      "metadata": {
        "id": "tiG8pVFFESog",
        "colab_type": "code",
        "outputId": "e869b814-928a-482d-b30b-a7b224ef8050",
        "colab": {
          "base_uri": "https://localhost:8080/",
          "height": 87
        }
      },
      "source": [
        "(t*B)**0 + (t*B)**1 + (1/math.factorial(2))*(t*B)**2 + (1/math.factorial(3))*(t*B)**3 + (1/math.factorial(4))*(t*B)**4 + (1/math.factorial(5))*(t*B)**5 + (1/math.factorial(6))*(t*B)**6"
      ],
      "execution_count": 0,
      "outputs": [
        {
          "output_type": "execute_result",
          "data": {
            "text/plain": [
              "Matrix([\n",
              "[1,                                                                  0,                                                                  0],\n",
              "[0, -0.00138888888888889*t**6 + 0.0416666666666667*t**4 - 0.5*t**2 + 1,             -0.00833333333333333*t**5 + 0.166666666666667*t**3 - t],\n",
              "[0,              0.00833333333333333*t**5 - 0.166666666666667*t**3 + t, -0.00138888888888889*t**6 + 0.0416666666666667*t**4 - 0.5*t**2 + 1]])"
            ]
          },
          "metadata": {
            "tags": []
          },
          "execution_count": 29
        }
      ]
    },
    {
      "cell_type": "code",
      "metadata": {
        "id": "kuPJ9NvVErnb",
        "colab_type": "code",
        "outputId": "af5ef700-3f2b-4144-f3d6-3502f66da919",
        "colab": {
          "base_uri": "https://localhost:8080/",
          "height": 87
        }
      },
      "source": [
        "(t*C)**0 + (t*C)**1 + (1/math.factorial(2))*(t*C)**2 + (1/math.factorial(3))*(t*C)**3 + (1/math.factorial(4))*(t*C)**4 + (1/math.factorial(5))*(t*C)**5 + (1/math.factorial(6))*(t*C)**6"
      ],
      "execution_count": 0,
      "outputs": [
        {
          "output_type": "execute_result",
          "data": {
            "text/plain": [
              "Matrix([\n",
              "[-0.00138888888888889*t**6 + 0.0416666666666667*t**4 - 0.5*t**2 + 1, 0,              0.00833333333333333*t**5 - 0.166666666666667*t**3 + t],\n",
              "[                                                                 0, 1,                                                                  0],\n",
              "[            -0.00833333333333333*t**5 + 0.166666666666667*t**3 - t, 0, -0.00138888888888889*t**6 + 0.0416666666666667*t**4 - 0.5*t**2 + 1]])"
            ]
          },
          "metadata": {
            "tags": []
          },
          "execution_count": 30
        }
      ]
    },
    {
      "cell_type": "code",
      "metadata": {
        "id": "SuaAGMDaHiZZ",
        "colab_type": "code",
        "colab": {}
      },
      "source": [
        "# IMPORTANT\n",
        "# cos(t) = 1 - 1/2*t^2 + 1/4!*t^4 - 1/6!*t^6 ...\n",
        "# sin(t) = t - 1/3!*t^3 + 1/5!*t^5 ..."
      ],
      "execution_count": 0,
      "outputs": []
    },
    {
      "cell_type": "code",
      "metadata": {
        "id": "tu9c-YvfIZN-",
        "colab_type": "code",
        "outputId": "399b3e10-6a92-46af-a30c-dca844062789",
        "colab": {
          "base_uri": "https://localhost:8080/",
          "height": 55
        }
      },
      "source": [
        "def expA(t):\n",
        "  return sym.Matrix([[sym.cos(t), -sym.sin(t),0],[sym.sin(t), sym.cos(t),0],[0,0,1]])\n",
        "expA(t)"
      ],
      "execution_count": 0,
      "outputs": [
        {
          "output_type": "stream",
          "text": [
            "\\left[\\begin{matrix}\\cos{\\left (t \\right )} & - \\sin{\\left (t \\right )} & 0\\\\\\sin{\\left (t \\right )} & \\cos{\\left (t \\right )} & 0\\\\0 & 0 & 1\\end{matrix}\\right]\n"
          ],
          "name": "stdout"
        }
      ]
    },
    {
      "cell_type": "code",
      "metadata": {
        "id": "qRsGLUFgJXZ3",
        "colab_type": "code",
        "outputId": "19782afa-d481-43a8-89f0-3cc5818e499e",
        "colab": {
          "base_uri": "https://localhost:8080/",
          "height": 55
        }
      },
      "source": [
        "def expB(t):\n",
        "  return sym.Matrix([[1,0,0],[0, sym.cos(t),-sym.sin(t)],[0,sym.sin(t),sym.cos(t)]])\n",
        "expB(t)"
      ],
      "execution_count": 0,
      "outputs": [
        {
          "output_type": "stream",
          "text": [
            "\\left[\\begin{matrix}1 & 0 & 0\\\\0 & \\cos{\\left (t \\right )} & - \\sin{\\left (t \\right )}\\\\0 & \\sin{\\left (t \\right )} & \\cos{\\left (t \\right )}\\end{matrix}\\right]\n"
          ],
          "name": "stdout"
        }
      ]
    },
    {
      "cell_type": "code",
      "metadata": {
        "id": "WrWOTDC4KAw4",
        "colab_type": "code",
        "outputId": "62b8e12f-41a1-4d4c-dbfe-3b319a1a5739",
        "colab": {
          "base_uri": "https://localhost:8080/",
          "height": 87
        }
      },
      "source": [
        "def expC(t):\n",
        "  return sym.Matrix([[sym.cos(t),0,sym.sin(t)],[0,1,0],[-sym.sin(t),0,sym.cos(t)]])\n",
        "expC(t)"
      ],
      "execution_count": 0,
      "outputs": [
        {
          "output_type": "execute_result",
          "data": {
            "text/plain": [
              "Matrix([\n",
              "[1, 0, 0],\n",
              "[0, 1, 0],\n",
              "[0, 0, 1]])"
            ]
          },
          "metadata": {
            "tags": []
          },
          "execution_count": 12
        }
      ]
    },
    {
      "cell_type": "code",
      "metadata": {
        "id": "NMRaiU2wK1yc",
        "colab_type": "code",
        "outputId": "e29e1852-381f-45e2-ff2d-30eff194aec0",
        "colab": {
          "base_uri": "https://localhost:8080/",
          "height": 87
        }
      },
      "source": [
        "# PROBLEM 4\n",
        "sym.trigsimp(expA(t)*expA(t))"
      ],
      "execution_count": 0,
      "outputs": [
        {
          "output_type": "execute_result",
          "data": {
            "text/plain": [
              "Matrix([\n",
              "[cos(2*t), -sin(2*t), 0],\n",
              "[sin(2*t),  cos(2*t), 0],\n",
              "[       0,         0, 1]])"
            ]
          },
          "metadata": {
            "tags": []
          },
          "execution_count": 34
        }
      ]
    },
    {
      "cell_type": "code",
      "metadata": {
        "id": "WtXGQiZ80A8s",
        "colab_type": "code",
        "outputId": "93873e9b-504a-4155-9ade-fd239fb1921b",
        "colab": {
          "base_uri": "https://localhost:8080/",
          "height": 87
        }
      },
      "source": [
        "expA(2*t)"
      ],
      "execution_count": 0,
      "outputs": [
        {
          "output_type": "execute_result",
          "data": {
            "text/plain": [
              "Matrix([\n",
              "[cos(2*t), -sin(2*t), 0],\n",
              "[sin(2*t),  cos(2*t), 0],\n",
              "[       0,         0, 1]])"
            ]
          },
          "metadata": {
            "tags": []
          },
          "execution_count": 35
        }
      ]
    },
    {
      "cell_type": "code",
      "metadata": {
        "id": "Rk8j1ZvU0yWm",
        "colab_type": "code",
        "outputId": "ead0670b-01e1-49ad-b715-5d959320f652",
        "colab": {
          "base_uri": "https://localhost:8080/",
          "height": 107
        }
      },
      "source": [
        "# PROBLEM 5\n",
        "expB(-t)*expA(-t)*expB(t)*expA(t)"
      ],
      "execution_count": 0,
      "outputs": [
        {
          "output_type": "execute_result",
          "data": {
            "text/plain": [
              "Matrix([\n",
              "[                                 sin(t)**2*cos(t) + cos(t)**2,                       sin(t)*cos(t)**2 - sin(t)*cos(t),                        -sin(t)**2],\n",
              "[            (sin(t)**2 + cos(t)**3)*sin(t) - sin(t)*cos(t)**2,      (sin(t)**2 + cos(t)**3)*cos(t) + sin(t)**2*cos(t), -sin(t)*cos(t)**2 + sin(t)*cos(t)],\n",
              "[(-sin(t)*cos(t)**2 + sin(t)*cos(t))*sin(t) + sin(t)**2*cos(t), (-sin(t)*cos(t)**2 + sin(t)*cos(t))*cos(t) - sin(t)**3,      sin(t)**2*cos(t) + cos(t)**2]])"
            ]
          },
          "metadata": {
            "tags": []
          },
          "execution_count": 37
        }
      ]
    },
    {
      "cell_type": "code",
      "metadata": {
        "id": "xXj4deME1mDE",
        "colab_type": "code",
        "outputId": "eb0be80f-b56a-4d4b-97cf-ba2bd398aee2",
        "colab": {
          "base_uri": "https://localhost:8080/",
          "height": 55
        }
      },
      "source": [
        "sym.trigsimp(expB(-t)*expA(-t)*expB(t)*expA(t))"
      ],
      "execution_count": 0,
      "outputs": [
        {
          "output_type": "stream",
          "text": [
            "\\left[\\begin{matrix}\\left(\\sin^{2}{\\left (t \\right )} + \\cos{\\left (t \\right )}\\right) \\cos{\\left (t \\right )} & \\left(\\cos{\\left (t \\right )} - 1\\right) \\sin{\\left (t \\right )} \\cos{\\left (t \\right )} & - \\sin^{2}{\\left (t \\right )}\\\\\\left(2 \\sin^{2}{\\left (t \\right )} + \\cos^{3}{\\left (t \\right )} - 1\\right) \\sin{\\left (t \\right )} & 2 \\sin^{2}{\\left (t \\right )} \\cos{\\left (t \\right )} + \\cos^{4}{\\left (t \\right )} & \\left(- \\cos{\\left (t \\right )} + 1\\right) \\sin{\\left (t \\right )} \\cos{\\left (t \\right )}\\\\\\left(- \\cos{\\left (t \\right )} + 2\\right) \\sin^{2}{\\left (t \\right )} \\cos{\\left (t \\right )} & \\left(- 2 \\sin^{2}{\\left (t \\right )} - \\cos^{3}{\\left (t \\right )} + 1\\right) \\sin{\\left (t \\right )} & \\left(\\sin^{2}{\\left (t \\right )} + \\cos{\\left (t \\right )}\\right) \\cos{\\left (t \\right )}\\end{matrix}\\right]\n"
          ],
          "name": "stdout"
        }
      ]
    },
    {
      "cell_type": "code",
      "metadata": {
        "id": "p7ggeHR7UVMs",
        "colab_type": "code",
        "outputId": "407607d2-90c9-4b05-a3ca-8390467cb766",
        "colab": {
          "base_uri": "https://localhost:8080/",
          "height": 87
        }
      },
      "source": [
        "#PROBLEM 6\n",
        "sym.diff(expA(t),t)"
      ],
      "execution_count": 0,
      "outputs": [
        {
          "output_type": "execute_result",
          "data": {
            "text/plain": [
              "Matrix([\n",
              "[-sin(t), -cos(t), 0],\n",
              "[ cos(t), -sin(t), 0],\n",
              "[      0,       0, 0]])"
            ]
          },
          "metadata": {
            "tags": []
          },
          "execution_count": 47
        }
      ]
    },
    {
      "cell_type": "code",
      "metadata": {
        "id": "HP5CbCHtXf4u",
        "colab_type": "code",
        "outputId": "c2ddb570-ea92-41c1-9c52-cd3145c4fc4e",
        "colab": {
          "base_uri": "https://localhost:8080/",
          "height": 35
        }
      },
      "source": [
        "dexpA = sym.Matrix([[-sym.sin(0), -sym.cos(0),0],[sym.cos(0), -sym.sin(0),0],[0,0,0]])\n",
        "print(sym.latex(dexpA))"
      ],
      "execution_count": 0,
      "outputs": [
        {
          "output_type": "stream",
          "text": [
            "\\left[\\begin{matrix}0 & -1 & 0\\\\1 & 0 & 0\\\\0 & 0 & 0\\end{matrix}\\right]\n"
          ],
          "name": "stdout"
        }
      ]
    },
    {
      "cell_type": "code",
      "metadata": {
        "id": "1XXtQqD3Wh3J",
        "colab_type": "code",
        "outputId": "211e5da7-d3b1-4ebc-c865-756dc6d6e744",
        "colab": {
          "base_uri": "https://localhost:8080/",
          "height": 87
        }
      },
      "source": [
        "sym.diff(expB(t),t)"
      ],
      "execution_count": 0,
      "outputs": [
        {
          "output_type": "execute_result",
          "data": {
            "text/plain": [
              "Matrix([\n",
              "[0,       0,       0],\n",
              "[0, -sin(t), -cos(t)],\n",
              "[0,  cos(t), -sin(t)]])"
            ]
          },
          "metadata": {
            "tags": []
          },
          "execution_count": 48
        }
      ]
    },
    {
      "cell_type": "code",
      "metadata": {
        "id": "zKinqLUXX5MT",
        "colab_type": "code",
        "outputId": "02d42169-1d54-49d3-9506-9e509961c6c0",
        "colab": {
          "base_uri": "https://localhost:8080/",
          "height": 87
        }
      },
      "source": [
        "dexpB = sym.Matrix([[0,0,0],[0,-sym.sin(0), -sym.cos(0)],[0,sym.cos(0), -sym.sin(0)]])\n",
        "dexpB"
      ],
      "execution_count": 0,
      "outputs": [
        {
          "output_type": "execute_result",
          "data": {
            "text/plain": [
              "Matrix([\n",
              "[0, 0,  0],\n",
              "[0, 0, -1],\n",
              "[0, 1,  0]])"
            ]
          },
          "metadata": {
            "tags": []
          },
          "execution_count": 53
        }
      ]
    },
    {
      "cell_type": "code",
      "metadata": {
        "id": "uBWti2otWldY",
        "colab_type": "code",
        "outputId": "3d849cec-bf59-4356-be6b-97b5ec09f36a",
        "colab": {
          "base_uri": "https://localhost:8080/",
          "height": 87
        }
      },
      "source": [
        "sym.diff(expC(t),t)"
      ],
      "execution_count": 0,
      "outputs": [
        {
          "output_type": "execute_result",
          "data": {
            "text/plain": [
              "Matrix([\n",
              "[-sin(t), 0,  cos(t)],\n",
              "[      0, 0,       0],\n",
              "[-cos(t), 0, -sin(t)]])"
            ]
          },
          "metadata": {
            "tags": []
          },
          "execution_count": 49
        }
      ]
    },
    {
      "cell_type": "code",
      "metadata": {
        "id": "FjzyBsfkYQ-O",
        "colab_type": "code",
        "outputId": "5878c420-bf89-43b8-fb82-ac8fccfc9395",
        "colab": {
          "base_uri": "https://localhost:8080/",
          "height": 87
        }
      },
      "source": [
        "dexpC = sym.Matrix([[-sym.sin(0),0,sym.cos(0)],[0,0,0],[-sym.cos(0),0,-sym.sin(0)]])\n",
        "dexpC"
      ],
      "execution_count": 0,
      "outputs": [
        {
          "output_type": "execute_result",
          "data": {
            "text/plain": [
              "Matrix([\n",
              "[ 0, 0, 1],\n",
              "[ 0, 0, 0],\n",
              "[-1, 0, 0]])"
            ]
          },
          "metadata": {
            "tags": []
          },
          "execution_count": 55
        }
      ]
    },
    {
      "cell_type": "code",
      "metadata": {
        "id": "fKRhZQR1WpL7",
        "colab_type": "code",
        "outputId": "a25e023c-8ba2-44f5-ddca-41d26a8b05cd",
        "colab": {
          "base_uri": "https://localhost:8080/",
          "height": 107
        }
      },
      "source": [
        "sym.trigsimp(sym.diff(expB(-t)*expA(-t)*expB(t)*expA(t),t,2))"
      ],
      "execution_count": 0,
      "outputs": [
        {
          "output_type": "execute_result",
          "data": {
            "text/plain": [
              "Matrix([\n",
              "[                                               -cos(t)/4 - 2*cos(2*t) + 9*cos(3*t)/4,             (9*sin(t)**2 + 4*cos(t) - 7)*sin(t),                           -2*cos(2*t)],\n",
              "[                                    (-6*cos(t) + 9*cos(2*t) - 4*cos(3*t) + 4)*sin(t),            (9*cos(2*t) - 4*cos(3*t) - 5)*cos(t),  (-9*sin(t)**2 - 4*cos(t) + 7)*sin(t)],\n",
              "[-5*(-cos(2*t) + 1)**2/2 - cos(t)/2 - 5*cos(2*t) + 9*cos(3*t)/2 - 3*cos(4*t)/4 + 15/4, (6*cos(t) - 9*cos(2*t) + 4*cos(3*t) - 4)*sin(t), -cos(t)/4 - 2*cos(2*t) + 9*cos(3*t)/4]])"
            ]
          },
          "metadata": {
            "tags": []
          },
          "execution_count": 51
        }
      ]
    },
    {
      "cell_type": "code",
      "metadata": {
        "id": "6dWQ4pP0ZKSF",
        "colab_type": "code",
        "outputId": "c8e30f16-b331-48db-a4be-c5a358288726",
        "colab": {
          "base_uri": "https://localhost:8080/",
          "height": 35
        }
      },
      "source": [
        "dQ = sym.Matrix([[-sym.cos(0)/4-2*sym.cos(0)+9*sym.cos(0)/4, (9*sym.sin(0)**2 + 4*sym.cos(0)-7)*sym.sin(0), -2*sym.cos(0)],[(-6*sym.cos(0)+9*sym.cos(0)-4*sym.cos(0)+4)*sym.sin(0), (9*sym.cos(2*0) - 4*sym.cos(3*0) - 5)*sym.cos(0),  (-9*sym.sin(0)**2 - 4*sym.cos(0) + 7)*sym.sin(0)],[-5*(-sym.cos(2*0) + 1)**2/2 - sym.cos(0)/2 - 5*sym.cos(2*0) + 9*sym.cos(3*0)/2 - 3*sym.cos(4*0)/4 + 15/4, (6*sym.cos(0) - 9*sym.cos(2*0) + 4*sym.cos(3*0) - 4)*sym.sin(0), -sym.cos(0)/4 - 2*sym.cos(2*0) + 9*sym.cos(3*0)/4]])\n",
        "dQ"
      ],
      "execution_count": 0,
      "outputs": [
        {
          "output_type": "stream",
          "text": [
            "\\left[\\begin{matrix}0 & 0 & -2\\\\0 & 0 & 0\\\\2.0 & 0 & 0\\end{matrix}\\right]\n"
          ],
          "name": "stdout"
        }
      ]
    },
    {
      "cell_type": "code",
      "metadata": {
        "id": "YVhu0bIbccOf",
        "colab_type": "code",
        "outputId": "d1bcea08-fb55-4524-9a30-bd55b2128ff0",
        "colab": {
          "base_uri": "https://localhost:8080/",
          "height": 35
        }
      },
      "source": [
        "A*B-B*A"
      ],
      "execution_count": 0,
      "outputs": [
        {
          "output_type": "stream",
          "text": [
            "\\left[\\begin{matrix}0 & 0 & 1\\\\0 & 0 & 0\\\\-1 & 0 & 0\\end{matrix}\\right]\n"
          ],
          "name": "stdout"
        }
      ]
    },
    {
      "cell_type": "code",
      "metadata": {
        "id": "ouCNNPLOZpIo",
        "colab_type": "code",
        "colab": {
          "base_uri": "https://localhost:8080/",
          "height": 281
        },
        "outputId": "805eb7d8-ecf4-4dd3-e145-9340373df2d8"
      },
      "source": [
        "import matplotlib.pyplot as plt\n",
        "\n",
        "ax = plt.axes()\n",
        "\n",
        "ax.arrow(1,0,0,1, head_width = 0.25, head_length = 0.25, fc = 'red', ec = 'red')\n",
        "ax.arrow(0,1,-1,0, head_width = 0.25, head_length = 0.25, fc = 'blue', ec = 'blue')\n",
        "ax.arrow(0,0,0,0, head_width = 0.25, head_length = 0.25, fc = 'black', ec = 'black')\n",
        "\n",
        "plt.grid()\n",
        "\n",
        "plt.xlim(-2.5,2.5)\n",
        "plt.ylim(-2.5,2.5)\n",
        "\n",
        "plt.title('Matrix A transformation of e1 (red), e2 (blue), and e3 (black), viewed from the positive z axis of the x and y axes')\n",
        "\n",
        "plt.show()\n",
        "plt.close()"
      ],
      "execution_count": 7,
      "outputs": [
        {
          "output_type": "display_data",
          "data": {
            "image/png": "[encoded data removed]",
            "text/plain": [
              "<Figure size 432x288 with 1 Axes>"
            ]
          },
          "metadata": {
            "tags": []
          }
        }
      ]
    },
    {
      "cell_type": "code",
      "metadata": {
        "id": "FrcybUEJzIjV",
        "colab_type": "code",
        "colab": {
          "base_uri": "https://localhost:8080/",
          "height": 281
        },
        "outputId": "3db97476-49fd-4aff-e905-36582a8184f1"
      },
      "source": [
        "ax = plt.axes()\n",
        "\n",
        "ax.arrow(0,1,-1,0, head_width = 0.25, head_length = 0.25, fc = 'red', ec = 'red')\n",
        "ax.arrow(0,0,0,0, head_width = 0.25, head_length = 0.25, fc = 'blue', ec = 'blue')\n",
        "ax.arrow(1,0,0,1, head_width = 0.25, head_length = 0.25, fc = 'black', ec = 'black')\n",
        "\n",
        "plt.grid()\n",
        "\n",
        "plt.xlim(-2.5,2.5)\n",
        "plt.ylim(-2.5,2.5)\n",
        "\n",
        "plt.title('Matrix C Transformation of e1 (red), e2 (blue), and e3 (black), viewed from the positive y axis of the x and z axes')\n",
        "\n",
        "plt.show()\n",
        "plt.close()"
      ],
      "execution_count": 8,
      "outputs": [
        {
          "output_type": "display_data",
          "data": {
            "image/png": "[encoded data removed]",
            "text/plain": [
              "<Figure size 432x288 with 1 Axes>"
            ]
          },
          "metadata": {
            "tags": []
          }
        }
      ]
    },
    {
      "cell_type": "code",
      "metadata": {
        "id": "1jZB-2FvzR0k",
        "colab_type": "code",
        "colab": {
          "base_uri": "https://localhost:8080/",
          "height": 281
        },
        "outputId": "6a65b700-2b80-48ec-d32a-5c74bd744648"
      },
      "source": [
        "ax = plt.axes()\n",
        "\n",
        "ax.arrow(0,0,0,0, head_width = 0.25, head_length = 0.25, fc = 'red', ec = 'red')\n",
        "ax.arrow(1,0,0,1, head_width = 0.25, head_length = 0.25, fc = 'blue', ec = 'blue')\n",
        "ax.arrow(0,1,-1,0, head_width = 0.25, head_length = 0.25, fc = 'black', ec = 'black')\n",
        "\n",
        "plt.grid()\n",
        "\n",
        "plt.xlim(-2.5,2.5)\n",
        "plt.ylim(-2.5,2.5)\n",
        "\n",
        "plt.title('Matrix B Transformation of e1 (red), e2 (blue), and e3 (black), viewed from the positive x axis of the y and z axes')\n",
        "\n",
        "plt.show()\n",
        "plt.close()"
      ],
      "execution_count": 9,
      "outputs": [
        {
          "output_type": "display_data",
          "data": {
            "image/png": "[encoded data removed]",
            "text/plain": [
              "<Figure size 432x288 with 1 Axes>"
            ]
          },
          "metadata": {
            "tags": []
          }
        }
      ]
    },
    {
      "cell_type": "markdown",
      "metadata": {
        "id": "5wMQ0SGi5_aP",
        "colab_type": "text"
      },
      "source": [
        "This is the matrix, but two things need to be fixed:\n",
        "\n",
        "$$ \\\\left[\\\\begin{matrix}0 & t & 0\\\\\\\\t & 0 & 0\\\\\\\\0 & 0 & t\\\\end{matrix}\\\\right] $$\n",
        "\n",
        "1)  Replace every \\\\ with a single \\\n",
        "2)  Put some space before the \\ marks, or after the \\\\ marks\n",
        "\n",
        "$$ \\left[ \\begin{matrix}0 & t & 0 \\\\ t & 0 & 0 \\\\ 0 & 0 & t \\end{matrix} \\right] $$\n"
      ]
    },
    {
      "cell_type": "markdown",
      "metadata": {
        "id": "hPTaQg2aHT_L",
        "colab_type": "text"
      },
      "source": [
        "# Executive Summary\n",
        "\n",
        "In this section, your goal is to write a 2 page report giving an overview of the project given above.  This does not mean provide the answers to each question above.  Instead, think of the important relationships between the matrices, the continuous maps, tangent vectors, and transformations that you found above.  Those pieces fit together into one coherent story.\n",
        "\n",
        "In your executive summary, describe that story.  Your executive summary does not need to include complex computations, but it should include the results of relevant computations using math objects like matrices, derivatives, or tangent vectors.\n",
        "\n",
        "At  the end of your executive summary, you should also include two short paragraphs detailing (1) an important or unexpected result, and (2) a challenge you faced in the project and how you dealt with that challenge."
      ]
    },
    {
      "cell_type": "markdown",
      "metadata": {
        "id": "2-BKsZiCN0og",
        "colab_type": "text"
      },
      "source": [
        "We began with 3 matrices, $A, B,$ and $C$, that represent transformations in $\\mathbb{R}^3$.  For this project we initially wanted to investigate what these transformations themselves are doing in $\\mathbb{R}^3$.  Then, using Taylor series, we wanted to find what the exponential of each of the three matrices was, and then finally, we wanted to look at different relationships between the transformation matrices and their exponential counterparts.\n",
        "\n",
        "We began with our three transformation matrices:\n",
        "\n",
        "$$A = \\left[\\begin{matrix}0 & -1 & 0\\\\1 & 0 & 0\\\\0 & 0 & 0\\end{matrix}\\right], B = \\left[\\begin{matrix}0 & 0 & 0\\\\0 & 0 & -1\\\\0 & 1 & 0\\end{matrix}\\right], C = \\left[\\begin{matrix}0 & 0 & 1\\\\0 & 0 & 0\\\\-1 & 0 & 0\\end{matrix}\\right]$$\n",
        "\n",
        "Since these are transformation matrices, we should consider what each transformation does to the standard basis vectors\n",
        "\n",
        " $$e_1 = \\left[\\begin{matrix}1\\\\0\\\\0\\end{matrix}\\right], e_2 = \\left[\\begin{matrix}0\\\\1\\\\0\\end{matrix}\\right], e_3 = \\left[\\begin{matrix}0\\\\0\\\\1\\end{matrix}\\right]$$\n",
        "\n",
        "Matrix $A$ takes $e_1$ to $\\left[\\begin{matrix}0\\\\1\\\\0\\end{matrix}\\right]$, $e_2$ to $\\left[\\begin{matrix}-1\\\\0\\\\0\\end{matrix}\\right]$, and $e_3$ to $\\left[\\begin{matrix}0\\\\0\\\\0\\end{matrix}\\right]$.  \n",
        "\n",
        "Matrix $B$ takes $e_1$ to $\\left[\\begin{matrix}0\\\\0\\\\0\\end{matrix}\\right]$, $e_2$ to $\\left[\\begin{matrix}0\\\\0\\\\1\\end{matrix}\\right]$, and $e_3$ to $\\left[\\begin{matrix}0\\\\-1\\\\0\\end{matrix}\\right]$.  \n",
        "\n",
        "Matrix $C$ takes $e_1$ to $\\left[\\begin{matrix}0\\\\0\\\\-1\\end{matrix}\\right]$, $e_2$ to $\\left[\\begin{matrix}0\\\\0\\\\0\\end{matrix}\\right]$, and $e_3$ to $\\left[\\begin{matrix}1\\\\0\\\\0\\end{matrix}\\right]$.  \n",
        "\n",
        "These transformations can be seen below.\n",
        "\n"
      ]
    },
    {
      "cell_type": "markdown",
      "metadata": {
        "id": "eGHNhHSCvVwW",
        "colab_type": "text"
      },
      "source": [
        "![image.png](data:image/png;base64,iVBORw0KGgoAAAANSUhEUgAAArkAAAEICAYAAABbIOz5AAAgAElEQVR4Ae2dDbx2WVmX74GZEYbPJHqhwkb6ELAPBCs1w6JEIpUQ7RPLwqZSy9IilKKiT2Mc1KgobQILpPgKX4ImkNcopWIoJKCB8COFDERKwhKQ2f2uc/Z67/XseZ69z3nnnLPv5z3X+v3OPGt/PHvf+1r3Wv//Xns/70RYJCABCUhAAhKQgAQkIAEJSEACEpCABCQgAQlIQAISkIAEJCABCUhAAhKQgAQkIAEJSEACEpCABCQgAQlIQAISkIAEJCABCUhAAhKQgAQkIAEJSEACEpCABCQgAQlIQAISkIAEJCABCVwxgT8QEf/6ir+9P1+8d0RcjIifiYiXFQz70yLioxFxzzOO7UJEvCki/k9EfOsZnPuPRcS3neB5/nJE/NPxeFzLf42ITznB4x/3UN8TEb9r/NJXRcS/mznA90fEV89sP+qmL4mIf3bUnU9hv5O6jqOE9kUR8S+6HYeI+BXdcl9d4t/vO1ffdQ7y7I6IePDcl4+x7QUR8RePsf9J77rE6ykR8RPjOPVZJ33yKzjeb4mI913B987qK0cZ0xnzH35WAZ3geb45Ir7rBI/Hoa5Eo89y7Dnhy718uF7DLq+82is/FhEfj4hfOLnQ/xwRDLg3TtZvW2Qf9r1228YTXHdNRPxIRLzrCMfkun77EfY7jV2+MiL+4xnwOGrsa7LoY0RUXxkRtONxy/UR8fKI4FrINURnrrA/IvlL5nY65rbpAPH3IuJPHvMYu3b/QxHx1oj4yCimf3shf37t2A8ayyXTcJID9DsigvOvUa70OhjffiAifjoi/ndEvDkiftPCBdweEZ/T7bPLgLLLEv/uMLPVuXM844xuDmcDPKGNS7x+OCKefELnupLDTNuhusmdXuOV9pPpca7W5SWNno71cLgamG67rqu1jS9fF6bh3ROx/jXjOjr6SZnckzDAXzDe2f9cRPz6y1ewvbJk7E4inu1njvgL3Yzfrn12rT+NuJZY7IrlpNdzN/7XrvCgmNY/HRGfHxE/eQST+xUR8fqZc10J5+kAgUnC8J1E+RMR8ZsjguvEmGN4nzlz4L8bEc/qti+ZhpMcoDnv87tzn2X1Sq/jXhHxGRFxj/EmixnwD8/cSDC+/LfJhU2NT795iX+/71x97hy/NCI+tPLTg7nYj7NtidfPz8yaX0nfPU5s7DttB03ucQnW3n9Jo6djPVdzpWNPJRLbrqtSfKcSCwaIBn9Ld/SbRwHtTe7vjAhmd5lpYoYMWK38+Dgo8DiEv88dZzaYOXneOHuCuekHts8bB+yHjQf5dRHxvyLiEe2gWz5vjYgXj7OBcyL7TyLizoj4f2M8zIC02eanRwTx8ticwusE/3N8tYB1nzmu5+OFEYGZ+JfjI/b/EBG/fNzODBrX9sGRyX+JiF8dEX9lnBn/xHhuzoewwvi/j/t/d0Q8YDzOtrjauj88sobLHx+N/dvHmaj++onpjSNnRBBGDxyPP8eiicUvjojvHUX/vRHxR8fv8kE7//OIIGZeM3hnRHx2t31apV3JJV7V4JNlCixhwlMDcmTbLDuPZMk92ucDEcEjVR4rTQuPDZdmcskVmLfSmE7bn5m6HxyZ/tDkuJ8eEf9mvG4MM8zb6wocF37/NyJ+WTvJwiecXxERPxURPxoRf2pm/28YX3nZtQtPNDD8rdC36G/ECHsebf+2tnEyQE8Husam5QO5+Y/Gm4n3jzcm/astmHviP2q50j7G8b9wvBauiWujPXa9dkE/48aAWUBmbMnbT90SJPvx2gXj2y/asp1Vz97yiJT9aTPY08+eO/Zt9u/HNpa/fey7jJfcsHAD0woseQRLnPQptrdxsDdXtC9jbZ/rGG9u9pfK74kIZqL78mfGfs46+mN/w/nFEfG2sR/QH9pMPWMQr161wvn7V7CI79HjRsZu+gk3D0yc/O72pYh40HhuePCU66/ueL2GMYDxAQ4/OzLiMOjUn48Ixr+PjX3vkWNeMzPPuPSl3fm4Pp60vG48Hn3jIePrS4yn9I9dr0GgA+38xALLZnK/cRzDudGGTStHHbvYf6mvzo3Hv2FsVzgyRt4yBtD34b8eEZ+MCCaDiL9pRcut3zhqXt+neT0EtpSj9iP2JTc4R/tDd7m+bWXXOMCNPbnXnooRF+1FH6T04xU3q4zB7YkMGsOrY9vKrvzYptH995840XB0gYLJJW+JjX7Lq5f9E/A5LRkPcfCBXtNHHjOupL3RhL6f9/u3MY1z8hSbtmqljTvoJnnNuPw72saIWNKwbteDCRvGxVauG8e5bf3kF0TEa8a4OS91bsIpjLlodDvWfSMCX/EHx+1zfQWeHIs+DaN/242x49eP/9Fm+RiUSAoSjAARbjoFnYdCAzDDSwdgAKSDtfcB+w427n6Q6NyNk7iIJ2alNUjbh86IOWMbJvHr2oYtnzeMZvJJEfHUET6dY1dp19W2txgxa/fpzNMfiYj7jbMjvL9JZ2uFgZLOxMDCNWAeXzpu5H09xAkzieGF3UPHbX2nZBXnoJF5H4oG55E95pOyLa62DpNHp37COGDxfiCizEwf5rqJHe8JYgZIHt7ZY5Du30XdxaKZGvZHEDgXgkWHe/wYH9fCYAl3cuNvRsS/H7dNP0huEp5HQRz7943LCBxlKqzj6ssf3DRgtjkObcIAyvmm5Sgml8GP2dxWGtO+/eFI+3Jt5DUMWW7vPfJIGxGB6+PGga03uRwbYejFtZ1v+snxyRcGbvKWXMAskUfbCm39t7ZtGPOXvtniZDf6Fv0NI8PghDBjDJvJ62chpvnZ2LR8eFVE/IPxPOQbpoT3m1vhmJz//m3FwueV9jEGPAb2Lx+viWvjGneZ3K8fc5PBljbjGnhvuS+0FzdaxP+d/YZJHUH+c5N1fOfSyJR3IN/TxTId2542GjuYYoy4kaZ/UTgu4x0zy4wd3OC3PsI56M8ILQaSsacv9I+5m6O2L+Ml7H5lWzHedP7ecbnvi4gY4wnmhz7OqzOMGTAkTxEc8hcx5kad/kdhG/2dbYypxIvx45o5JjcCjxr3ZdzkpoP9mAzg5mnuHfLGYfz6QTyMzdwMoBfkOGMqNwv0J8YrrhemFK6P8z925I7OYAAQWq4Rg09b7irT86N/5N5zxnMzZnCDi9hTjjp2se9SX50bjxmTGF8paEl7nWbah/v+Pu5+kPPtnXJusBjvWiHf25Ojo/Sj9r3+E3P1P7obtn4b9blxgJwgl9BRnhShMbQTpR+vGIfQBfKb7bTvtnFoKT/6Y46n2fjYth2mcPtVYw6y3MboJS3ZOPg4kYRh5TpuGyd3pvu0ZXSMvkc/Y1zn5q95DXKJySMmpuDBE0HaoL3GdhQNa+dhMrD/vQWvCzFObSuMV/gw4keryZ/+9wt4FsY89INxllcNW5nrK+g9vof244/JgXYt7fvH/mwGiFkvTsDgyt04AxUdnc6zrWCiCJYy7WCsAz4zcn2ZCgEXgfAD8l8tXAyigfkiLsQCAe/vaPrzUG/X1da3GBmYdxUMK9fcZlkZKPsX3hnYmAGgMKgicgwyJF9fph3k+yLia7odGIhJTK5lW1xtHR2nFcwXCd4KM4I8vt9WuPlg1r2VXSw4P6LBXT+J2gp5wLVTuJY3jHU+EC1myLeV9p5Tv41ORrtTemEdV13+IJHpvG2mnA08Edg2Y3gUk8uME7ncSmPatz8zQ+1mo+3HgIPIY2IQNUS5lZdMZnJZz119u0Nt+237xEBM+8M3RcQ/3rIzYsA19rME/W7kBXnaTBPbYNwPbqzDnDZB7EVvmp+NDfnArAgzZf0MOjcrvSGg33J+GB23HKePwbW/oSJH4LLL5PJDwH72GiFo/ayPE25cE+28qzAG8vSkL1xzn1P0afo2ZTq2jasvfyDgmFkKEwq73jflHOQFZhLhnxZutNsM13TbdJkbsrYvZhcTiChR+r7498cZqnHTwQcxtptozCuzThjkfzjmFbO2GFpMN4WxiVmXvnCT8ZdG8aUd+qd0f+MKTC79ohXEDxHtx15uaMhtCtfX38Qw2UJ+tMKEDeZ9V6EdmiFkH0wu4x59pBVuDBj/jzN28d25vro0HmOAmYmcjg19H+YcfX9v8fbXhMnnaReFsZ+xtz2ROmo/Gr9+8IHxg0f/dKnfPq1PxwG2czNI3tFX+puzfrwiB/onDdPjtuWl/OiP2b7Tf27bDtP+6SD9H99CmdOScZe7fNB38D7ceHNDedTCzV4bP8glbvZaoX/Tzjy1OKqGte9ipBkj2k0DxhTje5TC5Bjt1pe/M14fN7TtJn6pr3AT+epJ3+uPeUX1ZoBIcAZW7rjbTByw6DwURBqhw2hiMJndawZh2sHYH/gYgL5sEwIGH87T31X232l1RIdXB1qhg/Z3Dm19+2zX1ZZbjAh0K9z5cCfG3RmPfxj0iKUZrV4I+A4DXZvFYJkZFUw6MwYM/i05ph2EQYPXPVpBZDkPZmVbXG1dP6BOjR0C1jocxoR2I5m4Dh4dIUyt7GLB8WlX2rQviDu8KdNr2RbbuOtBR+eOri/E1d4dnfLs9+OODya0Qfsjz7iWaZmymG5nGYO3bSa3b39mr8njdj4+GeyZ0UC8plww/1c6k8ujW0xzfy4GlNdOgucGhackiPCugvGG1XQml9nrvtAWDL6UXvTm2pSZQx459nGSUzwObuU4M7l3p4/RDtN84qZpl8llZq314xY/7dvfLLZr4JN+2Yxnv546s47bZnL715no0804Tce2PztuI4eJBabNgBPnNgPLeWlX2p9XIbaVo87k8l1uylt8mM02XrOt74vkIDE1ZnyyzI0AhZzn9Rn6C/9CDj+KZEaNY2BMKIghM+T9Mei7GGgEl+vqbxj5/nFncnuNwFRP852xvBnb/vqIj5yhD7SCgaU/7irEOzW5/djP99q4epyxi++RK9PYW19dGo8xf5h5NIdj8JoJZTou9/193OWgDdo1MVlBW2GuuNnrb1CO24+YFCLPbmon2vK5NA7wFYw7/ZUbub704xXjN7nMLCg39eRiP6a37y3lR3/M9p3+c9v2KdO+z89pSX/cvt5emepfD+y3tzo3+xjb1rfIW167o/QxjKsut/NRNax9j09MOzev3ISghbvGTsw0N7F4RsZc/ugztHMraBjreGLfylJf4YaLf3mJp5z8tacL7ftX9Nk6Kl+mEQmWwQgDRIB0HgpGkMeFbfaImdwm+O3Vht6UbYM/XQdAOiuGde5uhsePzDYiGNy980ec2/5ViDHcgxnA/r3P6SDAfph5OifvrXCH0e4u20AwHSinJredi4aDHe/rUKYdZDqTy11vm2HaFte2dVNj15tc3p9k4GuPpjFK/YDMbOguFttmDphl4dq3Xcu22MZdD3hiLvvCXTftTpnyHFcffDAjw+C6q1P1+05Z9NtanRn4Zq5Zty1uZsyaKLbvtU9yejqTy+Dbcp79yHdibjMg7bvbPpmVnv6Qabofs4QY6+kj6ul+LHP33v/rADCezuTyDvm2mVzMG6/MtMJgSF/nepj9nM5Ytf3a53Heyb07fQzxPc5MLrNAPZMW765PGO56GsQN5DQ3YNTP5PJocNtMLrNIzGq117s4P7McrQ8uzeTyagy5wmPjaWF9m2GdbpsuI/6Mr8yy8ASqf1ev74uIVd9XpsdBhNusE2Mx5p6nGowr7f18DHG7MZ5+H+GbzuQifMc1uY0fx982U0dMjL2U/vpYPk2Te5yxi1jm+urSeHxwceMMNq/xYArR6+n4xoTU9GaQ/G3axnF41xSt4OkVudzKcfoR185vVjB5c2VpHOC73Fgye0jO9jPCUz1t5+GaMbvN8LX1fC7lx65jtmNgpPuxnvVzJndOS9ox+09eNcFToVNMTjXt7vehjrbwZA0ezUBieFvbTj0V32ntfBQNm56PfsyYRp/vn+BO9+NfSoIHN7AUxpimISwTKxMSLxrHvpZ3x+krTAQwjrbJgcMzXcF/e5PLDGYbtKYml5O1x3uIMMstCXD1mFDMWyvb4PfrMJUMit8yGkw6Gndl2woJhBkFaP+H028vq0+/hzj2d5bTQYD9edxAwjADy0BBR20JwvbpQNmbXH59zV03QsJ3uQPiMRJl2oFISMQJM01y05Ebu21xbVs3NXZ8v83kMjggyCQWJpEZ9N7kLrHgLp4fJ3AD0963boIyvZZtsY2XffBIgrvN3z8aJu6mWW6P1qY82/faJz/W4Vq4aaBwLf07q8w6ECPXxjs/1MmjbeXLJv8m87a4ERRumDgH7DgebdxeoIcbL/Tzzh+DDDdWrd04Jz+qY5Bthe+SP9sKx/9P48wqrwKwTCdu/0oIr7/wSgoG5yjlO8b3Edu+9C1MOcaInGQWm3jbY6J+gGZGDCHhcRazMDwe6gcolmkL+gWDEuNCb6x4D7IXNXKE428rd6ePkTfMdtOWjEdcG9fYBvjp+bgJJ45208FMd3ush5GnDWlL+DPDzbF5RLet8Hie15H6AiMEgPcwyR2MYxtj+rGNGVRuOBirOB+vDDA+tj7FTQY39czKkb/0udZObfyhbRjfevNBfyBH2qPNltN87irMpDLOMl7DsJW+LzLm8+SH8Yx4GM8wsu0VJsZ1WLXHouQFPwohv8hjCvsyq4OZIf/4I7d5x5LCu3481UErmEWkD98dkwvXNtPDueh7xNheieivj/OTM32OIrrk0q7CuMAY00o/9rd1vXYujV3tO3wu9dW58ZjX9toTHPIJk0s+t1xobQxrJiv60nKrraMPYIa5qW1jNNvm+lH7bvvk6RZcaYO5sjQOkDeYPvQR/Wh1jtlr0G8dbx7JO4whRr3/AWCLYSk/+mO27/SfPM0kPxn/WuE6+7Gn7/NLWtKO0T6ZmGrvv/IUGN3bVugrtDGvOHLNXGs/BvYxtO/37bykYe077ZNc4oacfzVo7jU8vBo/6kQzaQd+x8F5W/5hgpngImb0otU5z1xf4ckEfZNxCKb8wJM2v1ul76j9gQiWoNsAyl0jgxgDCb9+wxT1gs+7FMxCYWoQlG3w+3UIFglKMlIQG77PHdi0ICbbzCyPyKa/IG7fRdx4B5J4eHQ4HQTYjw6FoHNNXBuN2ifIdKDsBzruLhAqHslhGJjl43iUaQeioyB0CAnXCLf2g4VtcW1bN2dyeYTKaxPEgmnnEWJvcpdYYOpoU4SLwaV/F3F6LdtiGy/74AMjQSzMuvPJcitTnm19+6TDMDAjXggoNzb9j2zIVdqn/yOebYVBl/ZvJmZX3Ag7v9jn2mkbZiXau6a8v4vgwBWjMM15Xp/p42Ognr6i08dGLMy4I6AMJAxAzfggNgxenKv9MYjsKhhkXiFoJp++xbmJEfYYtF6kpwM0sdM3MC7ctcO0DVAYX8wROcSxeL+7/WCJeHiPrH/Mz4DdP5LqY747fYzjMHPKtRAH17b0ryvwWJ2ZKPo0udyEHpPOeMN62prjLN1Q8DiY/GgFRrQ3+YnZ5LFaM3n92MY6nk6RwwzSjFP9OMt2blCZCSUeztNurDhHm/XgpphxqQkr5rj9mp6YGCs57pzBYB+O2b/qxXenfRHOxEFOEDOPz5vJZX/W9e+PM+5O8xMhpv/Qj+DDj72Y4aFgzBhjYMLTnl3/usK4+0HMjQPren5tH8Y92pHc4Gazn5WfXt9xTS5jINcMD1416sf+dv4+pqWxq32Hz6W+Ojceox3csDBG0P+ZiaVMxzeeHNFvGGe4Iab0ucUy4xyv0dBmfUGvdvWjfj/qMMCEtTGLT15pmZa5cYA4yJf+KQwGsD1J6TWImUb6N4/Sea2Ha2vj1vScc/nRH3P6PZa56cTkwo/JCcp0DO37PNvntOTwCIf/RY/72VvYMA5v48Y3GFsZs/AZ9P9+DJzGwP59Oy9pWB9XqzO7DN/mZ9r6/hMtgwftTZ7x+hHnpS34MSDcWv9lvEOb2tOiub7CDRY5xfnRnzX/hzX99VqXQEkCzLL1/8rESQbJbDMmnA7bCoNDP/Pc1p/WJ49nm8id1jmmx+U9sumsAzdWbSZyuv8+L3OTMPfe/1leG7O33Oy3pxycG6OMuFj2i8A2Y7JfV2C0VzMBJuT6Ccyr+Vq9NglIQAISkIAETpCAJvcEYXqoEyXAqwc8PVp6ynWiJ/VgEpCABCQgAQlcHQQ0uVdHO15tV8Fra7wmwL9Ta5GABCQgAQlIQAISkIAEJCABCUhAAhKQgAQkIAEJSEACEthO4EEPetDw2Mc+dvW/RzziEavHUIEDMcgi81EWstjWLyvkxfgvX2wfWF0rAQlIQALrE0BAKpRLly5VCKNEDLLIZpCFLJJA1irkxcw/ubn+wG4EEpCABCQQoclN4axSqyDgsqhCIOMwL2qx0OSqoBKQgASKE9DkpnBWqWlmsiVkIYskkLUKeaHJLS5uhicBCUhAk5vCWaVWQcBlUYVAxmFe1GKhyVU/JSABCRQnoMlN4axS08xkS8hCFkkgaxXyQpNbXNwMTwISkIAmN4WzSq2CgMuiCoGMw7yoxUKTq35KQAISKE5Ak5vCWaWmmcmWkIUskkDWKuSFJre4uBmeBCQgAU1uCmeVWgUBl0UVAhmHeVGLhSZX/ZSABCRQnIAmN4WzSk0zky0hC1kkgaxVyAtNbnFxMzwJSEACmtwUziq1CgIuiyoEMg7zohYLTa76KQEJSKA4AU1uCmeVmmYmW0IWskgCWauQF5rc4uJmeBKQgAQ0uSmcVWoVBFwWVQhkHOZFLRaaXPVTAhKQQHECmtwUzio1zUy2hCxkkQSyViEvNLnFxc3wJCABCWhyUzir1CoIuCyqEMg4zItaLDS56qcEJCCB4gQ0uSmcVWqamWwJWcgiCWStQl5ocouLm+FJQAIS0OSmcFapVRBwWVQhkHGYF7VYaHLVTwlIQALFCWhyUzir1DQz2RKykEUSyFqFvNDkFhc3w5OABCSgyU3hrFKrIOCyqEIg4zAvarHQ5KqfEpCABM6ewMMi4lJEvCsi3hkRXz8XgiY3hbNKTTOTLSELWSSBrFXIC03unLK4TQISkMDpEHhoRDxmPPT9IuI9EfGoXafS5KZwVqlVEHBZVCGQcZgXtVhocnepiuslIAEJnB2BV0fEF+46nSY3hbNKTTOTLSELWSSBrFXIC03uLlVxvQQkIIGzIXBjRPx4RNx/crqbxgH69gsXLgwIxtp/Fy9eXD2GtRm088si81EWsmj9ov+skBea3ImquCgBCUjgDAncNyLeGhFfNndOZ3JzdqhKDTG3HBKQRWaCLGqx0OTOKYvbJCABCZwegesi4raI+IalU2hyUzir1DQz2RKykEUSyFqFvNDkLqmL2yUgAQmcPIFrIuK7I+LbjnJoTW4KZ5VaBQGXRRUCGYd5UYuFJvcoCuM+EpCABE6WwOdHxBARb4+It41/T9p1Ck1uCmeVmmYmW0IWskgCWauQF5rcXarieglIQAJFCGhyUzir1CoIuCyqEMg4zItaLDS5RUTMMCQgAQnsIqDJTeGsUtPMZEvIQhZJIGsV8kKTu0tVXC8BCUigCAFNbgpnlVoFAZdFFQIZh3lRi4Umt4iIGYYEJCCBXQQ0uSmcVWqamWwJWcgiCWStQl5ocnepiuslIAEJFCGgyU3hrFKrIOCyqEIg4zAvarHQ5BYRMcOQgAQksIuAJjeFs0pNM5MtIQtZJIGsVcgLTe4uVXG9BCQggSIENLkpnFVqFQRcFlUIZBzmRS0WmtwiImYYEpCABHYR0OSmcFapaWayJWQhiySQtQp5ocndpSqul4AEJFCEgCY3hbNKrYKAy6IKgYzDvKjFQpNbRMQMQwISkMAuAprcFM4qNc1MtoQsZJEEslYhLzS5u1TF9RKQgASKENDkpnBWqVUQcFlUIZBxmBe1WGhyi4iYYUhAAhLYRUCTm8JZpaaZyZaQhSySQNYq5IUmd5equF4CEpBAEQKa3BTOKrUKAi6LKgQyDvOiFgtNbhERMwwJSEACuwhoclM4q9Q0M9kSspBFEshahbzQ5O5SFddLQAISKEJAk5vCWaVWQcBlUYVAxmFe1GKhyS0iYoYhAQlIYBcBTW4KZ5WaZiZbQhaySAJZq5AXmtxdquJ6CUhAAkUIaHJTOKvUKgi4LKoQyDjMi1osNLlFRMwwJCABCewioMlN4axS08xkS8hCFkkgaxXyQpO7S1VcLwEJSKAIAU1uCmeVWgUBl0UVAhmHeVGLhSa3iIgZhgQkIIFdBDS5KZxVapqZbAlZyCIJZK1CXmhyd6mK6yUgAQkUIaDJTeGsUqsg4LKoQiDjMC9qsdDkFhExw5CABCSwi4AmN4WzSk0zky0hC1kkgaxVyAtN7i5Vcb0EJCCBIgQ0uSmcVWoVBFwWVQhkHOZFLRaa3CIiZhgSkIAEdhHQ5KZwVqlpZrIlZCGLJJC1Cnmhyd2lKq6XgAQkUISAJjeFs0qtgoDLogqBjMO8qMVCk1tExAxDAhKQwC4CmtwUzio1zUy2hCxkkQSyViEvNLm7VMX1EpCABIoQ0OSmcFapVRBwWVQhkHGYF7VYaHKLiJhhSEACEthFQJObwlmlppnJlpDFMAwf+9gwfN3XDZde97oEc85rFfJCk7tLVVwvAQlIoAgBTW49t1BBwKtQkcUwDF/91cNw3XXDpe/4jmH4yEeqNM2qcVTIC01uEREzDAlIQAK7CGhyV9XqrSevIOBbA1th5bln8eIXD8MNNwxDxHDpW791GL74i4fhzjtXaIlap6yQF5rcXarieglIQAJFCGhya4k30VQQ8CpUzjWLd77zssE9MLk333y4jNk956VCXmhyi4iYYUhAAhLYRUCTW88tVBDwKlTOLQteS3jYww5mcDG4l00u9Xvfexh+8AerNNEqcVTIC03uLlVxvQQkIIEiBDS5q2j01pP+3M8Nw1ve4kxuD6eCmenjOZM6ryN8yZcMw6d8ynaTi9H91E8dhg984EzCqXiSCnmhyS0iYoYhAQlIYBcBTe66EqJHPK4AABqfSURBVP6zPzsMr3jFMHzplx5O0N3znsPwmtdcWjeoQmevYGbOHMctt2y8pnCXmVxM7nXXDcPnfM4w/PzPn3l4FU5YIS80ubtUxfUSkIAEihDQ5J69ZP/MzwzDS14yDF/0RYeTdfe7X07YPeABw3Dxoia3tUoFM9NiOZPPN7/58G5nfEWhGdyN1xXaNn6Q9oxnnElY1U5SIS80uUVEzDAkIIFzReDWiPhgRLzjKFetyT0b+f7pnx6GW28dhi/4gmG4/vph6I1t8yx8anI326OCmdmM6BSXPvjBYXjQg/KOp08M/nUFfng2WXfwfu5rXnOKQdU8dIW80OQeRWHcRwISkMDJEnhcRDxGk7u+OPPK5AtecPhUGWN73/ve1aNMPYsmd7PdKpiZzYhOaYnXDj7v8w5fQ5gmxbi81eSyjTumH/3RUwqs5mEr5IUm92SFy6NJQAISOCqBGzW564jz+943DN/+7cPwWZ91+CrC+E+c3mUCboePcSZ30mwVzMwkpNNZfOYzt76H2yfOTpN7j3sMwyMfOQz8cvGclAp5ock9qhy5nwQkIIGTJaDJXUHs3/Oew5naa65ZnrHdZXJZf/PNl3pvc67r3/d95+D95I9/fBjuc5/D91j458G2/bXXFbZtYx2Jc9ttK2T9OqfU5J6sYHg0CUhAAvtEYMnk3jTOQtx+4cKFg//5AKKx5t/FixdXPf9JXfurX31puPXWS8Mttxz+YViP8/e8510aXvnKi8NrX3vp3P/ddtul4WrJi8X8esMbhkuvf/3uv5tvHi6+8pW7t/PdlfvwWZ6/Ql44k7tPkmisEpDA1URgyeRevlZ/eHY6M1Gf+MQwvPGNw/D0px/+mIzXJnmqPDeDyzbfyd1sD4yTZThInEuvepUoRgIV8kKTe1lGrEhAAhI4UwKa3EJ24JOfHIYf+IFh+JqvOfzxPE+mr712u+HV5G42XAUzsxnRSku8rqDJvQy/Ql5ocs9U0zyZBCQggQMC3xMRPxkRn4iI90XE0+e4OJN7WTfPpML/zIr/q9k3fuMwPPShh7814t/1bzO8mtzNZqhgZjYjWmlJk7sBvkJeaHLnlMVtEpCABAoQ0ORuaOeZLmB43/72Yfjmbx6GT/u0w98bYXj9n0FkM1QwMxnNijVN7gb8CnmhyS0gYIYgAQlIYI6AJndDO1dduOOOYfjO7+RdXt9DbQ1Rwcy0WFb91ORu4K+QF5rcOWVxmwQkIIECBDS5G9pZYqGCgJcAMQwH/2JAlVhWjUOTu4G/Qh/R5BYQMEOQgAQkMEdAk7uhnSUWKgh4CRCa3GwGTW6yKJIXmtw5ZXGbBCQggQIENLkb2lliQZObzSCLkYUmN5NCk1tAOQxBAhKQwB4Q0ORuaGeJBY1dNoMsRhaa3EwKTe4eKIshSkACEihAQJO7oZ0lFjR22QyyGFlocjMpNLkFlMMQJCABCewBAU3uhnaWWNDYZTPIYmShyc2k0OTugbIYogQkIIECBDS5G9pZYkFjl80gi5GFJjeTQpNbQDkMQQISkMAeENDkbmhniQWNXTaDLEYWmtxMCk3uHiiLIUpAAhIoQECTu6GdJRY0dtkMshhZaHIzKTS5BZTDECQgAQnsAQFN7oZ2lljQ2GUzyGJkocnNpNDk7oGyGKIEJCCBAgQ0uRvaWWJBY5fNIIuRhSY3k0KTW0A5DEECEpDAHhDQ5G5oZ4kFjV02gyxGFprcTApN7h4oiyFKQAISKEBAk7uhnSUWNHbZDLIYWWhyMyk0uQWUwxAkIAEJ7AEBTe6GdpZY0NhlM8hiZKHJzaTQ5O6BshiiBCQggQIENLkb2lliQWOXzSCLkYUmN5NCk1tAOQxBAhKQwB4Q0ORuaGeJBY1dNoMsRhaa3EwKTe4eKIshSkACEihAQJO7oZ0lFjR22QyyGFlocjMpNLkFlMMQJCABCewBAU3uhnaWWNDYZTPIYmShyc2k0OTugbIYogQkIIECBDS5G9pZYkFjl80gi5GFJjeTQpNbQDkMQQISkMAeENDkbmhniQWNXTaDLEYWmtxMCk3uHiiLIUpAAhIoQECTu6GdJRY0dtkMshhZaHIzKTS5BZTDECQgAQnsAQFN7oZ2lljQ2GUzyGJkocnNpNDk7oGyGKIEJCCBAgQ0uRvaWWJBY5fNIIuRhSY3k0KTW0A5DEECEpDAHhDQ5G5oZ4kFjV02gyxGFprcTApN7h4oiyFKQAISKEBAk7uhnSUWNHbZDLIYWWhyMyk0uQWUwxAkIAEJ7AEBTe6GdpZY0NgdNsOHPvShQRZjSmpyN/pmhbyIiNv3YIg3RAlIQALnl4Amd0M7SyxUEPC1Qbz1rW8drr322uFFL3rR2qHUOL8md6MdKvQRTe751U2vXAIS2BMCmtwN7SyxUEHA1wTx4Q9/eHjIQx4yRMRwyy23DC996UvXDKfGuTW5G+1QoY9ocvdE5AxTAhI4vwQ0uRvaWWKhgoCvBeKTn/zk8PjHP364/vrrD0zuzTffPNznPvcZ7rjjjrVCqnFeTe5GO1ToI5rc86ubXrkEJLAnBDS5G9pZYqGCgK8F4jnPec5www03HBhcZnIxuddcc81w4403Dh/96EfXCmv982pyN9qgQh/R5O6JyBmmBCRwfglocje0s8RCBQFfA8Qb3/jG4d73vvdlg9tMLp/3ute9hqc+9anDnXfeuUZo659Tk7vRBhX6iCb3/OqmVy4BCewJAU3uhnaWWKgg4GcN4v3vf//wgAc8YMPg9iaXOjO8z3/+8886tBrn0+RutEOFPqLJ3RORM0wJSOD8EtDkbmhniYUKAn6WID7+8Y8Pj370ow/+NQXMbP/H6wr9MjO9b3nLW84yvBrn0uRutEOFPqLJPb+66ZVLQAJ7QkCTu6GdJRYqCPhZgvjar/3au7ym0Izt1OSy/sEPfvDAv6F7roomd6O5K/QRTe6eiJxhSkACVx2BJ0bEuyPivRHxzLmr0+RuaGeJhQoCflYgXvayl2380KyZ2/a5zeTyLy887nGPG/iXGM5N0eRuNHWFPqLJnVMWt0lAAhI4HQL3jIgfjoiHR8T1EfFDEfGoXafS5G5oZ4mFCgJ+FiDe/e53H/zzYM3QbvvcZnLZj/dzn/3sZ59FmDXOocndaIcKfUSTu0tVXC8BCUjg9Ah8bkTc1h3+myKCv61Fk7uhnSUWKgj4aYNgFvbhD3/4xvu2xzG57Ms/LfamN73ptEOtcXxN7kY7VOgjmtytkuJKCUhAAqdK4Msj4ru6M3xlRDy/W6Z60zhA337hwoUBwVj77+LFi6vHsDaDdv7zwuIlL3nJ8MIXvnD27+Uvf/ns9ttuu+185M0rXjFc/N7vPR/XeoTxqEIf0eROVMVFCUhAAmdA4Cgm93IYzuRuTBCVWMDsWg4JyCIzQRa1WGhyL8uIFQlIQAJnRsDXFVIL97Kmmclmk4UskkDWKuSFJvfMNM0TSUACErhM4NqI+JGI+PTuh2efeXnrpOJMbgpnlVoFAZdFFQIZh3lRi4UmdyImLkpAAhI4IwJPioj3jP/KwrPmzqnJTeGsUtPMZEvIQhZJIGsV8kKTO6csbpOABCRQgIAmN4WzSq2CgMuiCoGMw7yoxUKTW0DADEECEpDAHAFNbgpnlZpmJltCFrJIAlmrkBea3DllcZsEJCCBAgQ0uSmcVWoVBFwWVQhkHOZFLRaa3AICZggSkIAE5ghoclM4q9Q0M9kSspBFEshahbzQ5M4pi9skIAEJFCCgyU3hrFKrIOCyqEIg4zAvarHQ5BYQMEOQgAQkMEdAk5vCWaWmmcmWkIUskkDWKuSFJndOWdwmAQlIoAABTW4KZ5VaBQGXRRUCGYd5UYuFJreAgBmCBCQggTkCmtwUzio1zUy2hCxkkQSyViEvNLlzyuI2CUhAAgUIaHJTOKvUKgi4LKoQyDjMi1osNLkFBMwQJCABCcwR0OSmcFapaWayJWQhiySQtQp5ocmdUxa3SUACEihAQJObwlmlVkHAZVGFQMZhXtRiocktIGCGIAEJSGCOgCY3hbNKTTOTLSELWSSBrFXIC03unLK4TQISkEABAprcFM4qtQoCLosqBDIO86IWC01uAQEzBAlIQAJzBDS5KZxVapqZbAlZyCIJZK1CXmhy55TFbRKQgAQKENDkpnBWqVUQcFlUIZBxmBe1WGhyCwiYIUhAAhKYI6DJTeGsUtPMZEvIQhZJIGsV8kKTO6csbpOABCRQgIAmN4WzSq2CgMuiCoGMw7yoxUKTW0DADEECEpDAHAFNbgpnlZpmJltCFrJIAlmrkBea3DllcZsEJCCBAgQ0uSmcVWoVBFwWVQhkHOZFLRaa3AICZggSkIAE5ghoclM4q9Q0M9kSspBFEshahbzQ5M4pi9skIAEJFCCgyU3hrFKrIOCyqEIg4zAvarHQ5BYQMEOQgAQkMEdAk5vCWaWmmcmWkIUskkDWKuSFJndOWdwmAQlIoAABTW4KZ5VaBQGXRRUCGYd5UYuFJreAgBmCBCQggTkCmtwUzio1zUy2hCxkkQSyViEvNLlzyuI2CUhAAgUIaHJTOKvUKgi4LKoQyDjMi1osNLkFBMwQJCABCcwR0OSmcFapaWayJWQhiySQtQp5ocmdUxa3SUACEihAQJObwlmlVkHAZVGFQMZhXtRiocktIGCGIAEJSGCOgCY3hbNKTTOTLSELWSSBrFXIC03unLK4TQISkEABAprcFM4qtQoCLosqBDIO86IWC01uAQEzBAlIQAJzBDS5KZxVapqZbAlZyCIJZK1CXmhy55TFbRKQgAQKENDkpnBWqVUQcFlUIZBxmBe1WGhyCwiYIUhAAhKYI6DJTeGsUtPMZEvIQhZJIGsV8kKTO6csbpOABCRQgIAmN4WzSq2CgMuiCoGMw7yoxUKTW0DADEECEpDAHAFNbgpnlZpmJltCFrJIAlmrkBea3DllcZsEJCCBAgQ0uSmcVWoVBFwWVQhkHOZFLRaa3AICZggSkMC5IvAVEfHOiLgzIj77KFeuyU3hrFLTzGRLyEIWSSBrFfJCk3sUhXEfCUhAAidH4JER8RkR8f2a3BTEfatVEPAqzGSRLSGLWiw0uScnXB5JAhKQwHEIaHJTD/euppnJJpOFLJJA1irkhSb3OJLkvhKQgAROjoAmN/Vw72oVBLwKNFlkS8iiFgtN7skJlkeSgAQk0Ai8ISLeseXvyW2HI7yucNM4QN9+4cKFAfFc++/ixYurx7A2g3Z+WWQ+ykIWrV/0nxXyQpPbKY5VCUhAAmdIwJncnPTZuxpibjkkIIvMBFnUYqHJPUNF81QSkIAEOgKa3NTDvatpZrLJZCGLJJC1Cnmhye0Ux6oEJCCBMyDwlIh4X0R8LCI+EBG3LZ3Tf0IshbNKrYKAy6IKgYzDvKjFQpO7pC5ul4AEJLAyAU1uCmeVmmYmW0IWskgCWauQF5rclcXL00tAAhJYIqDJTeGsUqsg4LKoQiDjMC9qsdDkLqmL2yUgAQmsTECTm8JZpaaZyZaQhSySQNYq5IUmd2Xx8vQSkIAElghoclM4q9QqCLgsqhDIOMyLWiw0uUvq4nYJSEACKxPQ5KZwVqlpZrIlZCGLJJC1CnmhyV1ZvDy9BCQggSUCmtwUziq1CgIuiyoEMg7zohYLTe6SurhdAhKQwMoENLkpnFVqmplsCVnIIglkrUJeaHJXFi9PLwEJSGCJgCY3hbNKrYKAy6IKgYzDvKjFQpO7pC5ul4AEJLAyAU1uCmeVmmYmW0IWskgCWauQF5rclcXL00tAAhJYIqDJTeGsUqsg4LKoQiDjMC9qsdDkLqmL2yUgAQmsTECTm8JZpaaZyZaQhSySQNYq5IUmd2Xx8vQSkIAElghoclM4q9QqCLgsqhDIOMyLWiw0uUvq4nYJSEACKxPQ5KZwVqlpZrIlZCGLJJC1CnmhyV1ZvDy9BCQggSUCmtwUziq1CgIuiyoEMg7zohYLTe6SurhdAhKQwMoENLkpnFVqmplsCVnIIglkrUJeaHJXFi9PLwEJSGCJgCY3hbNKrYKAy6IKgYzDvKjFQpO7pC5ul4AEJLAyAU1uCmeVmmYmW0IWskgCWauQF5rclcXL00tAAhJYIqDJTeGsUqsg4LKoQiDjMC9qsdDkLqmL2yUgAQmsTECTm8JZpaaZyZaQhSySQNYq5IUmd2Xx8vQSkIAElghoclM4q9QqCLgsqhDIOMyLWiw0uUvq4nYJSEACKxPQ5KZwVqlpZrIlZCGLJJC1CnmhyV1ZvDy9BCQggSUCmtwUziq1CgIuiyoEMg7zohYLTe6SurhdAhKQwMoENLkpnFVqmplsCVnIIglkrUJeaHJXFi9PLwEJSGCJgCY3hbNKrYKAy6IKgYzDvKjFQpO7pC5ul4AEJLAyAU1uCmeVmmYmW0IWskgCWauQF5rclcXL00tAAhJYIqDJTeGsUqsg4LKoQiDjMC9qsdDkLqmL2yUgAQmsTECTm8JZpaaZyZaQhSySQNYq5IUmd2Xx8vQSkIAElghoclM4q9QqCLgsqhDIOMyLWiw0uUvq4nYJSEACKxPQ5KZwVqlpZrIlZCGLJJC1CnmhyV1ZvDy9BCQggSUCmtwUziq1CgIuiyoEMg7zohYLTe6SurhdAhKQwMoENLkpnFVqmplsCVnIIglkrUJeaHJXFi9PLwEJSGCJgCY3hbNKrYKAy6IKgYzDvKjFQpO7pC5ul4AEJLAyAU1uCmeVmmYmW0IWskgCWauQF5rclcXL00tAAhJYIqDJTeGsUqsg4LKoQiDjMC9qsdDkLqmL2yUgAQmsTECTm8JZpaaZyZaQhSySQNYq5IUmd2Xx8vQSkIAElghoclM4q9QqCLgsqhDIOMyLWiw0uUvq4nYJSEACJ0vguRFxR0S8PSJeFREPXDq8JjeFs0pNM5MtIQtZJIGsVcgLTe6SurhdAhKQwMkSeEJEXDse8lsigr/ZoslN4axSqyDgsqhCIOMwL2qx0OTOSosbJSABCZwqgadExIuXzqDJTeGsUtPMZEvIQhZJIGsV8kKTu6QubpeABCRwegQuRsTTdhz+pnGAvv3ChQsDgrH238WLF1ePYW0G7fyyyHyUhSxav+g/K+SFJneHurhaAhKQwN0g8IaIeMeWvyd3x3zW+E7uNd26rVVncnN2qEoNMbccEpBFZoIsarHQ5G6VFFdKQAISOFUCXxURb46IG45yFk1uCmeVmmYmW0IWskgCWauQF5rcoyiM+0hAAhI4OQJPjIh3RcSDj3pITW4KZ5VaBQGXRRUCGYd5UYuFJveoKuN+EpCABE6GwHsj4ici4m3j3wuWDqvJTeGsUtPMZEvIQhZJIGsV8kKTu6QubpeABCSwMgFNbgpnlVoFAZdFFQIZh3lRi4Umd2Xx8vQSkIAElghoclM4q9Q0M9kSspBFEshahbzQ5C6pi9slIAEJrExAk5vCWaVWQcBlUYVAxmFe1GKhyV1ZvDy9BCQggSUCmtwUzio1zUy2hCxkkQSyViEvNLlL6uJ2CUhAAisT0OSmcFapVRBwWVQhkHGYF7VYaHJXFi9PLwEJSGCJgCY3hbNKTTOTLSELWSSBrFXIC03ukrq4XQISkMDKBDS5KZxVahUEXBZVCGQc5kUtFprclcXL00tAAhJYIqDJTeGsUtPMZEvIQhZJIGsV8kKTu6QubpeABCSwMgFNbgpnlVoFAZdFFQIZh3lRi4Umd2Xx8vQSkIAElghoclM4q9Q0M9kSspBFEshahbzQ5C6pi9slIAEJrExAk5vCWaVWQcBlUYVAxmFe1GKhyV1ZvDy9BCQggSUCmtwUzio1zUy2hCxkkQSyViEvNLlL6uJ2CUhAAisT0OSmcFapVRBwWVQhkHGYF7VYaHJXFi9PLwEJSGCJgCY3hbNKTTOTLSELWSSBrFXIC03ukrq4XQISkMDKBDS5KZxVahUEXBZVCGQc5kUtFprclcXL00tAAhJYIqDJTeGsUtPMZEvIQhZJIGsV8kKTu6QubpeABCSwMgFNbgpnlVoFAZdFFQIZh3lRi4Umd2Xx8vQSkIAEjkDgp8bB+vaVP39s5fOvff39+WUR0XjIQhYtF/rPCnnB2GmRgAQkIAEJLBJAwCyHBGSRmSALWSSBrJkXycKaBCQgAQkUJ6BoZQPJQhZJIGvmhSySgDUJSEACEtgbAgp4NpUsZJEEsmZeyCIJWJOABCQggb0hcNPeRHr6gcoiGctCFkkga+ZFsrAmAQlIQAISkIAEJCABCUhAAhKQgAQkIAEJSEACEpCABCQgAQlIQAISkIAEJCABCUhAAhKYEnhuRNwREW+PiFdFxAOnO5yT5a+IiHdGxJ0R8dnn5Jqnl/nEiHh3RLw3Ip453XjOlm+NiA9GxDvO2XVPL/dhEXEpIt419o+vn+7gsgQkIAEJSKAqgSdExLVjcN8SEfydx/LIiPiMiPj+c2py7xkRPxwRD4+I6yPihyLiUecxEcZrflxEPEaTGw8dOYDlfhHxnnOeF+e4S3jpEpCABPabwFMi4sX7fQl3O/rzanI/NyJu6+h9U0Twd57LjZrcuzT/qyPiC++y1hUSkIAEJCCB4gQuRsTTisd42uGdV5P75RHxXR3cr4yI53fL57Gqyd1sdXj8eETcf3O1SxKQgAQkIIH1CLxhnJHi/cL+78ldSM8a38m9plt3tVWPwkGTe9jqmtwITW6OAPeNiLdGxJflKmsSkIAEJCCB+gS+KiLeHBE31A/11CM8rybX1xXumlqa3EMm142vsnzDXRG5RgISkIAEJFCXAL+o55fTD64b4plGdl5NLj8+/JGI+PTuh2efeabk651MkxvBk53vjohvq9c8RiQBCUhAAhKYJ8A/F/UTEfG28e8F87tftVv50d37IuJjEfGByY+wrtqLnlzYk8Zfz/OvLPD6ynku3xMRPxkRnxjz4unnFMbnR8Qw/hODbYwgTywSkIAEJCABCUhAAhKQgAQkIAEJSEACEpCABCQgAQlIQAISkIAEJCABCUhAAhKQgAQkIAEJSEACEpCABCQgAQlIQAISkIAEJCABCUhAAhKQgAQkIAEJSEACEpCABCQgAQlIQAISkIAEJCABCUhAAhKQgAQkIAEJSEACe07g/wMZcsPb/WhRQwAAAABJRU5ErkJggg==)\n",
        "\n",
        "![image.png](data:image/png;base64,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)\n",
        "\n",
        "![image.png](data:image/png;base64,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)"
      ]
    },
    {
      "cell_type": "markdown",
      "metadata": {
        "id": "Vo-3H3aMvXLe",
        "colab_type": "text"
      },
      "source": [
        "Next, we wanted to compute the exponential of each of the matrices.  We could do this using the knowledge that the Taylor Series expansion for the exponential function is \n",
        "\n",
        "$$exp(M) = I_n + M + \\frac{1}{2!}M^2 + \\frac{1}{3!}M^3 + ... + \\frac{1}{m!}M^m + ...$$\n",
        "\n",
        "We calculated $exp(tA)$ by calculating up to $(tA)^6$ and summing the first six terms of the series.  This resulted in a 3x3 matrix with each entry being a polynomial.  Using the knowledge that \n",
        "\n",
        "$$cos(t) = 1 - \\frac{1}{2}*t^2 + \\frac{1}{4!}*t^4 - \\frac{1}{6!}*t^6 ... $$\n",
        "\n",
        " $$sin(t) = t - \\frac{1}{3!}*t^3 + \\frac{1}{5!}*t^5 ...$$ \n",
        "\n",
        "$exp(tA)$ can be simplified to \n",
        "\n",
        "$$\\gamma_A(t) = exp(tA) = \\left[\\begin{matrix}\\cos{\\left (t \\right )} & - \\sin{\\left (t \\right )} & 0\\\\\\sin{\\left (t \\right )} & \\cos{\\left (t \\right )} & 0\\\\0 & 0 & 1\\end{matrix}\\right]$$\n",
        "\n",
        "This is a rotation matrix that transforms $\\mathbb{R}^3$ by rotating points counterclockwise in the $x$ and $y$ directions, while the $z$ direction remains the same.\n",
        "\n",
        "In a similar manner, we calculated\n",
        "\n",
        "$$\\gamma_B(t) = exp(tB) = \\left[\\begin{matrix}1 & 0 & 0\\\\0 & \\cos{\\left (t \\right )} & - \\sin{\\left (t \\right )}\\\\0 & \\sin{\\left (t \\right )} & \\cos{\\left (t \\right )}\\end{matrix}\\right], \\gamma_C(t) = exp(tC) = \\left[\\begin{matrix}\\cos{\\left (t \\right )} & 0 & \\sin{\\left (t \\right )}\\\\0 & 1 & 0\\\\- \\sin{\\left (t \\right )} & 0 & \\cos{\\left (t \\right )}\\end{matrix}\\right]$$\n",
        "\n",
        "We can then see that these are both also rotation matrices, where $\\gamma_B(t)$ rotates $\\mathbb{R}^3$ counterclockwise in the $y$ and $z$ directions, while the $x$ direction remains the same, and $\\gamma_C(t)$ rotates $\\mathbb{R}^3$ counterclockwise in the $x$ and $z$ directions, while keeping the $y$ direction the same.  One interesting thing about these rotation matrices is that $\\gamma_A(t)*\\gamma_A(t) = \\gamma_A(2t)$, so taking one matrix times itself is the same as doubling the degrees rotated.  Also, $\\gamma_A(-t)*\\gamma_A(t)$ results in the identity matrix, so there is no rotation.  To find a tangent vector of each of these rotation matrices, we simply take the derivative of each matrix with respect to $t$ and evaluate at $t=0$, so our tangent vectors for each rotation matrix are \n",
        "\n",
        "$$d(\\gamma_A(0)) = \\left[\\begin{matrix}0 & -1 & 0\\\\1 & 0 & 0\\\\0 & 0 & 0\\end{matrix}\\right], d(\\gamma_B(0)) = \\left[\\begin{matrix}0 & 0 & 0\\\\0 & 0 & -1\\\\0 & 1 & 0\\end{matrix}\\right], d(\\gamma_C(0)) = \\left[\\begin{matrix}0 & 0 & 1\\\\0 & 0 & 0\\\\-1 & 0 & 0\\end{matrix}\\right]$$\n",
        "\n",
        "Thus, we can see that by taking the derivative of each of the rotation matrices, we end up back at each of their initial transformation matrices.\n",
        "\n",
        "Now, suppose we use two different rotation matrices, $\\gamma_A(t)$ and $\\gamma_B(t)$.  If we take $Q = \\gamma_B(-t)*\\gamma_A(-t)*\\gamma_B(t)*\\gamma_A(t)$, we do not end up with the identity transformation.  Instead, we get\n",
        "\n",
        "$$Q = \\left[\\begin{matrix}\\left(\\sin^{2}{\\left (t \\right )} + \\cos{\\left (t \\right )}\\right) \\cos{\\left (t \\right )} & \\left(\\cos{\\left (t \\right )} - 1\\right) \\sin{\\left (t \\right )} \\cos{\\left (t \\right )} & - \\sin^{2}{\\left (t \\right )}\\\\\\left(2 \\sin^{2}{\\left (t \\right )} + \\cos^{3}{\\left (t \\right )} - 1\\right) \\sin{\\left (t \\right )} & 2 \\sin^{2}{\\left (t \\right )} \\cos{\\left (t \\right )} + \\cos^{4}{\\left (t \\right )} & \\left(- \\cos{\\left (t \\right )} + 1\\right) \\sin{\\left (t \\right )} \\cos{\\left (t \\right )}\\\\\\left(- \\cos{\\left (t \\right )} + 2\\right) \\sin^{2}{\\left (t \\right )} \\cos{\\left (t \\right )} & \\left(- 2 \\sin^{2}{\\left (t \\right )} - \\cos^{3}{\\left (t \\right )} + 1\\right) \\sin{\\left (t \\right )} & \\left(\\sin^{2}{\\left (t \\right )} + \\cos{\\left (t \\right )}\\right) \\cos{\\left (t \\right )}\\end{matrix}\\right]$$\n",
        "\n",
        "Although this matrix looks a lot more complicated, it is still a rotation matrix where all three dimensions in $\\mathbb{R}^3$ are transformed.  Now if we were to find a tangent vector of $Q$, we would need to look at the second derivative, since the first derivative of $Q$ evaluated at $t = 0$ results in the $0$ matrix.  Our tangent vector ends up being\n",
        "\n",
        "$$d^2(Q(0)) = \\left[\\begin{matrix}0 & 0 & -2\\\\0 & 0 & 0\\\\2 & 0 & 0\\end{matrix}\\right]$$\n",
        "\n",
        "This is equal to $-2C$, so our tangent vector for $Q$ is simply $C$ times a scalar.  Since $Q$ is formed by $\\gamma_B(t)$ and $\\gamma_A(t)$, if we were to instead calculate $\\gamma_C(-t)*\\gamma_B(-t)*\\gamma_C(t)*\\gamma_B(t)$, our tangent vector would likely be $A$ times a scalar, and if we were to calculate $\\gamma_C(-t)*\\gamma_A(-t)*\\gamma_C(t)*\\gamma_A(t)$, our tangent vector would likely be $B$ times a scalar.\n",
        "\n",
        "Lastly, if we look at the product $[A,B] = AB - BA$, we get that \n",
        "\n",
        "$$AB - BA = \\left[\\begin{matrix}0 & 0 & 1\\\\0 & 0 & 0\\\\-1 & 0 & 0\\end{matrix}\\right]$$\n",
        "\n",
        "which is equal to $C$, thus $AB - BA$ is a tangent vector of both $\\gamma_C(t)$ and $Q$.  We then can conjecture that $BC - CB = A$ and will be a tangent vector of $\\gamma_A(t)$ and $\\gamma_C(-t)*\\gamma_B(-t)*\\gamma_C(t)*\\gamma_B(t)$.  We can also conjecture that $AC - CA = B$ and will be a tangent vector of $\\gamma_B(t)$ and $\\gamma_C(-t)*\\gamma_A(-t)*\\gamma_C(t)*\\gamma_A(t)$.\n",
        "\n",
        "Several results in this project surprised me, but the one that I found most surprising was that the tangent vectors of the rotation matrices $\\gamma_M(t)$ were the original transformation matrices, so by taking the derivative of the exponentials of these matrices, you end up back at the original matrix.  I also found it surprisng that $A, B$, and $C$ all appear quite simple, yet by taking the exponentials of these three matrices, you end up with rotations around each axis in $\\mathbb{R}^3$.\n",
        "\n",
        "The major challenge that I dealt with in this assignment was using Python.  This is the first class that I've taken that requires Python, and although I have experience using similar languages, there are some things that are a little different, which took some learning.  I also attempted to find an easy way to calculate $d(Q(0))$, but I could only figure out how to find $d(Q(t))$ and had to plug in $0$ separately, which required a lot more coding. "
      ]
    }
  ]
}