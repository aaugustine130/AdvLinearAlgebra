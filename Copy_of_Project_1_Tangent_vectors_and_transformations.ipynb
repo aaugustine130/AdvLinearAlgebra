{
  "nbformat": 4,
  "nbformat_minor": 0,
  "metadata": {
    "colab": {
      "name": "Copy of Project 1:  Tangent vectors and transformations ",
      "provenance": [],
      "include_colab_link": true
    },
    "kernelspec": {
      "name": "python3",
      "display_name": "Python 3"
    }
  },
  "cells": [
    {
      "cell_type": "markdown",
      "metadata": {
        "id": "view-in-github",
        "colab_type": "text"
      },
      "source": [
        "<a href=\"https://colab.research.google.com/github/aaugustine130/AdvLinearAlgebra/blob/master/Copy_of_Project_1_Tangent_vectors_and_transformations.ipynb\" target=\"_parent\"><img src=\"https://colab.research.google.com/assets/colab-badge.svg\" alt=\"Open In Colab\"/></a>"
      ]
    },
    {
      "cell_type": "markdown",
      "metadata": {
        "id": "57j2zq31_0qa",
        "colab_type": "text"
      },
      "source": [
        "# Project 1:  Tangent vectors and transformations"
      ]
    },
    {
      "cell_type": "markdown",
      "metadata": {
        "id": "ngQ6BrES_7-Y",
        "colab_type": "text"
      },
      "source": [
        "For this project, we'll look at the transformations arising from each of the matrices below:\n",
        "\n",
        "$$ A = \\left( \\begin{array}{ccc} 0 & -1 & 0 \\\\ 1 & 0 & 0 \\\\ 0 & 0 & 0 \\\\ \\end{array} \\right) \\hspace{2cm}\n",
        "B = \\left( \\begin{array}{ccc} 0 & 0 & 0 \\\\ 0 & 0 & -1 \\\\ 0 & 1 & 0 \\\\ \\end{array} \\right) \\hspace{2cm}\n",
        "C = \\left( \\begin{array}{ccc} 0 & 0 & 1 \\\\ 0 & 0 & 0 \\\\ -1 & 0 & 0 \\\\ \\end{array} \\right) \\hspace{2cm}\n",
        "$$\n",
        "\n",
        "The computational part of this project involves the following steps:\n",
        "\n",
        "1.  The columns of a matrix tell us what happens to the basis vectors in a vector space.  Explain what matrices $A$, $B$, and $C$ do to the standard basis elements for $\\mathbb{R}^3$.  (Note:  Bonus points for creating a graph showing what happens to each basis vector.  e.g. For A, the initial vector $e_1$ is sent in the direction $(0, 1, 0)$, so draw an arrow from $(1, 0, 0)$ to $(1, 1, 0)$. )\n",
        "\n",
        "2.  Compute $exp(t\\,A), exp(t\\,B)$, and $exp(t\\,C)$ for each matrix, which is defined as\n",
        "  $$ exp(M) = I_n + M + \\frac{1}{2!} M^2 + \\frac{1}{3!} M^3 + \\cdots + \\frac{1}{m!} M^m + \\cdots $$\n",
        "\n",
        "  To do this, separately compute $$(Mt)^0, (Mt)^1, (Mt)^2, (Mt)^3, (Mt)^4, (Mt)^5, (Mt)^6$$ and combine them to form the first several terms of $exp(Mt)$ for each of your three matrices.\n",
        "\n",
        "  \n",
        "3.  We can think of each of the $3 \\times 3$ matrices in part 2 as maps, or transformations $\\gamma: \\mathbb{R} \\to \\mathbb{M}_{3\\times3}$, which depending on $t$ and which act on the space $\\mathbb{R}^3$:\n",
        "\n",
        "$$ \\gamma_A(t) = exp(t\\,A) \\hspace{2cm} \\gamma_B(t) = exp(t\\, B) \\hspace{2cm} \\gamma_C(t) = exp(t\\,C)$$\n",
        "What do each of these matrices do to the space $\\mathbb{R}^3$?\n",
        "\n",
        "4.  What causes more rotation, $\\gamma_A(t) \\circ \\gamma_A(t)$ or  $\\gamma_A(2t)$?\n",
        "\n",
        "5. If we pick two of the transformations, say $\\gamma_A(t)$ and $\\gamma_B(t)$, and then apply them like so:\n",
        "$$  Q = \\gamma_B(-t) \\circ \\gamma_A(-t) \\circ \\gamma_B(t) \\circ \\gamma_A(t)$$\n",
        "the result is <b>not necessarily</b> the identity transformation!  Find this transformation $Q$ and describe what it does to $\\mathbb{R}^3$.\n",
        "\n",
        "6.  A tangent vector is found by taking a derivative (with respect to $t$) and evaluating that derivative (at $t = 0$).  Find the tangent vector of:\n",
        "\n",
        "$$  \\gamma_A(t)  \\hspace{2cm}  \\gamma_B(t) \\hspace{2cm}  \\gamma_C(t) \\hspace{2cm} Q$$\n",
        "\n",
        "** Note 1:  The `sym.diff(M, t)` code will take the derivative of matrix $M$ with respect to variable $t$.  Then, evaluate the result with $t=0$.\n",
        "\n",
        "** Note 2: The tangent vector of $Q$ will be the 0 matrix; In this case, use the second derivative of $Q$ to form the tangent vector.\n",
        "\n",
        "\n",
        "\n",
        "7.  Compute the product $[ A, B ] = AB - BA$.  Compare this result to the tangent vectors in the previous problem.\n"
      ]
    },
    {
      "cell_type": "markdown",
      "metadata": {
        "id": "0nfOKjAOHMul",
        "colab_type": "text"
      },
      "source": [
        "# Code\n",
        "Put your code in this section. \n",
        "We'll use the package sympy to do symbolic computations in our code.\n",
        "\n",
        "Be sure to write comments in your code.\n",
        "Comments start with # symbols.\n",
        "\n",
        "Lastly, create an organization for your code.  (This organization is up to you!  )"
      ]
    },
    {
      "cell_type": "code",
      "metadata": {
        "id": "dNAjzxLD2rlL",
        "colab_type": "code",
        "outputId": "b2fa4214-f2cc-49ee-ae5f-5a7078542b10",
        "colab": {
          "base_uri": "https://localhost:8080/",
          "height": 35
        }
      },
      "source": [
        "import matplotlib.pyplot as plt\n",
        "import sympy as sym\n",
        "\n",
        "\n",
        "# Comments start with a hash mark.\n",
        "\n",
        "# We'll specify that x and t are variables:\n",
        "x, t = sym.symbols('x, t')\n",
        "\n",
        "# this is a expression:\n",
        "expr = (x + t)**2\n",
        "\n",
        "# Use 'sym.latex(...) to produce the math expression in latex.  \n",
        "# Then, copy and paste the latex into a text field \n",
        "# Put it inside single dollar signs $ ... $ to typeset the mathematics inline,\n",
        "# or inside double dollar signs $$ ... $$ to center the math on its own line. \n",
        "sym.latex(expr.expand())\n",
        "\n",
        "# How to create a matrix S:\n",
        "S = sym.Matrix([[0, 1, 0], [1, 0, 0], [0, 0, 1]])\n",
        "# or a 3x3 identity matrix:\n",
        "I3 = sym.eye(3)\n",
        "\n",
        "# How to multiply the matrix S by the variable t:\n",
        "St = S*t\n",
        "\n",
        "# How to output the latex so the matrix looks nice:\n",
        "print(sym.latex(St))\n",
        "\n"
      ],
      "execution_count": 0,
      "outputs": [
        {
          "output_type": "stream",
          "text": [
            "\\left[\\begin{matrix}0 & t & 0\\\\t & 0 & 0\\\\0 & 0 & t\\end{matrix}\\right]\n"
          ],
          "name": "stdout"
        }
      ]
    },
    {
      "cell_type": "code",
      "metadata": {
        "id": "vjKtgZiS_SYm",
        "colab_type": "code",
        "outputId": "51d1dc3d-4088-4049-f05f-36a2d63019b4",
        "colab": {
          "base_uri": "https://localhost:8080/",
          "height": 35
        }
      },
      "source": [
        "# Problem 1\n",
        "A = sym.Matrix([[0,-1,0],[1,0,0],[0,0,0]])\n",
        "B = sym.Matrix([[0,0,0],[0,0,-1],[0,1,0]])\n",
        "C = sym.Matrix([[0,0,1],[0,0,0],[-1,0,0]])\n",
        "e1 = sym.Matrix([[1],[0],[0]])\n",
        "e2 = sym.Matrix([[0],[1],[0]])\n",
        "e3 = sym.Matrix([[0],[0],[1]])\n",
        "print(sym.latex(C))"
      ],
      "execution_count": 0,
      "outputs": [
        {
          "output_type": "stream",
          "text": [
            "\\left[\\begin{matrix}0 & 0 & 1\\\\0 & 0 & 0\\\\-1 & 0 & 0\\end{matrix}\\right]\n"
          ],
          "name": "stdout"
        }
      ]
    },
    {
      "cell_type": "code",
      "metadata": {
        "id": "yF8NzWifAlVN",
        "colab_type": "code",
        "outputId": "7683f93e-7f72-419b-a58d-0f7849ea4808",
        "colab": {
          "base_uri": "https://localhost:8080/",
          "height": 87
        }
      },
      "source": [
        "A*e2"
      ],
      "execution_count": 0,
      "outputs": [
        {
          "output_type": "execute_result",
          "data": {
            "text/plain": [
              "Matrix([\n",
              "[-1],\n",
              "[ 0],\n",
              "[ 0]])"
            ]
          },
          "metadata": {
            "tags": []
          },
          "execution_count": 20
        }
      ]
    },
    {
      "cell_type": "code",
      "metadata": {
        "id": "6s7YYLB3Allc",
        "colab_type": "code",
        "outputId": "7ffe3161-d820-45fe-acae-42417e3afd23",
        "colab": {
          "base_uri": "https://localhost:8080/",
          "height": 87
        }
      },
      "source": [
        "A*e3"
      ],
      "execution_count": 0,
      "outputs": [
        {
          "output_type": "execute_result",
          "data": {
            "text/plain": [
              "Matrix([\n",
              "[0],\n",
              "[0],\n",
              "[0]])"
            ]
          },
          "metadata": {
            "tags": []
          },
          "execution_count": 21
        }
      ]
    },
    {
      "cell_type": "code",
      "metadata": {
        "id": "vTNObSiWAltX",
        "colab_type": "code",
        "outputId": "756ecde2-0b22-4063-ca95-c399aa2f7a38",
        "colab": {
          "base_uri": "https://localhost:8080/",
          "height": 87
        }
      },
      "source": [
        "B*e1"
      ],
      "execution_count": 0,
      "outputs": [
        {
          "output_type": "execute_result",
          "data": {
            "text/plain": [
              "Matrix([\n",
              "[0],\n",
              "[0],\n",
              "[0]])"
            ]
          },
          "metadata": {
            "tags": []
          },
          "execution_count": 22
        }
      ]
    },
    {
      "cell_type": "code",
      "metadata": {
        "id": "nzgqsJQ7Al1n",
        "colab_type": "code",
        "outputId": "b1dadae4-da75-4237-8407-0091d4a18d6b",
        "colab": {
          "base_uri": "https://localhost:8080/",
          "height": 87
        }
      },
      "source": [
        "B*e2"
      ],
      "execution_count": 0,
      "outputs": [
        {
          "output_type": "execute_result",
          "data": {
            "text/plain": [
              "Matrix([\n",
              "[0],\n",
              "[0],\n",
              "[1]])"
            ]
          },
          "metadata": {
            "tags": []
          },
          "execution_count": 23
        }
      ]
    },
    {
      "cell_type": "code",
      "metadata": {
        "id": "fko2otWQArQp",
        "colab_type": "code",
        "outputId": "d5f580c7-e605-41f0-dcd4-1bd26fcb865c",
        "colab": {
          "base_uri": "https://localhost:8080/",
          "height": 87
        }
      },
      "source": [
        "B*e3"
      ],
      "execution_count": 0,
      "outputs": [
        {
          "output_type": "execute_result",
          "data": {
            "text/plain": [
              "Matrix([\n",
              "[ 0],\n",
              "[-1],\n",
              "[ 0]])"
            ]
          },
          "metadata": {
            "tags": []
          },
          "execution_count": 24
        }
      ]
    },
    {
      "cell_type": "code",
      "metadata": {
        "id": "Ro1Edh3FAr0S",
        "colab_type": "code",
        "outputId": "22d48da2-aba5-4379-c0dd-7c3fbc22b0c8",
        "colab": {
          "base_uri": "https://localhost:8080/",
          "height": 87
        }
      },
      "source": [
        "C*e1"
      ],
      "execution_count": 0,
      "outputs": [
        {
          "output_type": "execute_result",
          "data": {
            "text/plain": [
              "Matrix([\n",
              "[ 0],\n",
              "[ 0],\n",
              "[-1]])"
            ]
          },
          "metadata": {
            "tags": []
          },
          "execution_count": 25
        }
      ]
    },
    {
      "cell_type": "code",
      "metadata": {
        "id": "I4Kfzus7Ar7T",
        "colab_type": "code",
        "outputId": "0599f9c6-8bb0-4ec0-d548-6c7b218dc4fa",
        "colab": {
          "base_uri": "https://localhost:8080/",
          "height": 87
        }
      },
      "source": [
        "C*e2"
      ],
      "execution_count": 0,
      "outputs": [
        {
          "output_type": "execute_result",
          "data": {
            "text/plain": [
              "Matrix([\n",
              "[0],\n",
              "[0],\n",
              "[0]])"
            ]
          },
          "metadata": {
            "tags": []
          },
          "execution_count": 26
        }
      ]
    },
    {
      "cell_type": "code",
      "metadata": {
        "id": "uJu7JsOPAsFv",
        "colab_type": "code",
        "outputId": "ac2fb1b1-1a8e-4398-c68d-0c31c201514d",
        "colab": {
          "base_uri": "https://localhost:8080/",
          "height": 87
        }
      },
      "source": [
        "C*e3"
      ],
      "execution_count": 0,
      "outputs": [
        {
          "output_type": "execute_result",
          "data": {
            "text/plain": [
              "Matrix([\n",
              "[1],\n",
              "[0],\n",
              "[0]])"
            ]
          },
          "metadata": {
            "tags": []
          },
          "execution_count": 27
        }
      ]
    },
    {
      "cell_type": "code",
      "metadata": {
        "id": "NJhNSFsaAsgV",
        "colab_type": "code",
        "outputId": "66ce5f8c-35c2-4570-e074-c3a94cc84819",
        "colab": {
          "base_uri": "https://localhost:8080/",
          "height": 87
        }
      },
      "source": [
        "import math\n",
        "# Problem 2\n",
        "(t*A)**0 + (t*A)**1 + (1/math.factorial(2))*(t*A)**2 + (1/math.factorial(3))*(t*A)**3 + (1/math.factorial(4))*(t*A)**4 + (1/math.factorial(5))*(t*A)**5 + (1/math.factorial(6))*(t*A)**6"
      ],
      "execution_count": 0,
      "outputs": [
        {
          "output_type": "execute_result",
          "data": {
            "text/plain": [
              "Matrix([\n",
              "[-0.00138888888888889*t**6 + 0.0416666666666667*t**4 - 0.5*t**2 + 1,             -0.00833333333333333*t**5 + 0.166666666666667*t**3 - t, 0],\n",
              "[             0.00833333333333333*t**5 - 0.166666666666667*t**3 + t, -0.00138888888888889*t**6 + 0.0416666666666667*t**4 - 0.5*t**2 + 1, 0],\n",
              "[                                                                 0,                                                                  0, 1]])"
            ]
          },
          "metadata": {
            "tags": []
          },
          "execution_count": 28
        }
      ]
    },
    {
      "cell_type": "code",
      "metadata": {
        "id": "tiG8pVFFESog",
        "colab_type": "code",
        "outputId": "e869b814-928a-482d-b30b-a7b224ef8050",
        "colab": {
          "base_uri": "https://localhost:8080/",
          "height": 87
        }
      },
      "source": [
        "(t*B)**0 + (t*B)**1 + (1/math.factorial(2))*(t*B)**2 + (1/math.factorial(3))*(t*B)**3 + (1/math.factorial(4))*(t*B)**4 + (1/math.factorial(5))*(t*B)**5 + (1/math.factorial(6))*(t*B)**6"
      ],
      "execution_count": 0,
      "outputs": [
        {
          "output_type": "execute_result",
          "data": {
            "text/plain": [
              "Matrix([\n",
              "[1,                                                                  0,                                                                  0],\n",
              "[0, -0.00138888888888889*t**6 + 0.0416666666666667*t**4 - 0.5*t**2 + 1,             -0.00833333333333333*t**5 + 0.166666666666667*t**3 - t],\n",
              "[0,              0.00833333333333333*t**5 - 0.166666666666667*t**3 + t, -0.00138888888888889*t**6 + 0.0416666666666667*t**4 - 0.5*t**2 + 1]])"
            ]
          },
          "metadata": {
            "tags": []
          },
          "execution_count": 29
        }
      ]
    },
    {
      "cell_type": "code",
      "metadata": {
        "id": "kuPJ9NvVErnb",
        "colab_type": "code",
        "outputId": "af5ef700-3f2b-4144-f3d6-3502f66da919",
        "colab": {
          "base_uri": "https://localhost:8080/",
          "height": 87
        }
      },
      "source": [
        "(t*C)**0 + (t*C)**1 + (1/math.factorial(2))*(t*C)**2 + (1/math.factorial(3))*(t*C)**3 + (1/math.factorial(4))*(t*C)**4 + (1/math.factorial(5))*(t*C)**5 + (1/math.factorial(6))*(t*C)**6"
      ],
      "execution_count": 0,
      "outputs": [
        {
          "output_type": "execute_result",
          "data": {
            "text/plain": [
              "Matrix([\n",
              "[-0.00138888888888889*t**6 + 0.0416666666666667*t**4 - 0.5*t**2 + 1, 0,              0.00833333333333333*t**5 - 0.166666666666667*t**3 + t],\n",
              "[                                                                 0, 1,                                                                  0],\n",
              "[            -0.00833333333333333*t**5 + 0.166666666666667*t**3 - t, 0, -0.00138888888888889*t**6 + 0.0416666666666667*t**4 - 0.5*t**2 + 1]])"
            ]
          },
          "metadata": {
            "tags": []
          },
          "execution_count": 30
        }
      ]
    },
    {
      "cell_type": "code",
      "metadata": {
        "id": "SuaAGMDaHiZZ",
        "colab_type": "code",
        "colab": {}
      },
      "source": [
        "# IMPORTANT\n",
        "# cos(t) = 1 - 1/2*t^2 + 1/4!*t^4 - 1/6!*t^6 ...\n",
        "# sin(t) = t - 1/3!*t^3 + 1/5!*t^5 ..."
      ],
      "execution_count": 0,
      "outputs": []
    },
    {
      "cell_type": "code",
      "metadata": {
        "id": "tu9c-YvfIZN-",
        "colab_type": "code",
        "outputId": "399b3e10-6a92-46af-a30c-dca844062789",
        "colab": {
          "base_uri": "https://localhost:8080/",
          "height": 55
        }
      },
      "source": [
        "def expA(t):\n",
        "  return sym.Matrix([[sym.cos(t), -sym.sin(t),0],[sym.sin(t), sym.cos(t),0],[0,0,1]])\n",
        "expA(t)"
      ],
      "execution_count": 0,
      "outputs": [
        {
          "output_type": "stream",
          "text": [
            "\\left[\\begin{matrix}\\cos{\\left (t \\right )} & - \\sin{\\left (t \\right )} & 0\\\\\\sin{\\left (t \\right )} & \\cos{\\left (t \\right )} & 0\\\\0 & 0 & 1\\end{matrix}\\right]\n"
          ],
          "name": "stdout"
        }
      ]
    },
    {
      "cell_type": "code",
      "metadata": {
        "id": "qRsGLUFgJXZ3",
        "colab_type": "code",
        "outputId": "19782afa-d481-43a8-89f0-3cc5818e499e",
        "colab": {
          "base_uri": "https://localhost:8080/",
          "height": 55
        }
      },
      "source": [
        "def expB(t):\n",
        "  return sym.Matrix([[1,0,0],[0, sym.cos(t),-sym.sin(t)],[0,sym.sin(t),sym.cos(t)]])\n",
        "expB(t)"
      ],
      "execution_count": 0,
      "outputs": [
        {
          "output_type": "stream",
          "text": [
            "\\left[\\begin{matrix}1 & 0 & 0\\\\0 & \\cos{\\left (t \\right )} & - \\sin{\\left (t \\right )}\\\\0 & \\sin{\\left (t \\right )} & \\cos{\\left (t \\right )}\\end{matrix}\\right]\n"
          ],
          "name": "stdout"
        }
      ]
    },
    {
      "cell_type": "code",
      "metadata": {
        "id": "WrWOTDC4KAw4",
        "colab_type": "code",
        "outputId": "62b8e12f-41a1-4d4c-dbfe-3b319a1a5739",
        "colab": {
          "base_uri": "https://localhost:8080/",
          "height": 87
        }
      },
      "source": [
        "def expC(t):\n",
        "  return sym.Matrix([[sym.cos(t),0,sym.sin(t)],[0,1,0],[-sym.sin(t),0,sym.cos(t)]])\n",
        "expC(t)"
      ],
      "execution_count": 0,
      "outputs": [
        {
          "output_type": "execute_result",
          "data": {
            "text/plain": [
              "Matrix([\n",
              "[1, 0, 0],\n",
              "[0, 1, 0],\n",
              "[0, 0, 1]])"
            ]
          },
          "metadata": {
            "tags": []
          },
          "execution_count": 12
        }
      ]
    },
    {
      "cell_type": "code",
      "metadata": {
        "id": "NMRaiU2wK1yc",
        "colab_type": "code",
        "outputId": "e29e1852-381f-45e2-ff2d-30eff194aec0",
        "colab": {
          "base_uri": "https://localhost:8080/",
          "height": 87
        }
      },
      "source": [
        "# PROBLEM 4\n",
        "sym.trigsimp(expA(t)*expA(t))"
      ],
      "execution_count": 0,
      "outputs": [
        {
          "output_type": "execute_result",
          "data": {
            "text/plain": [
              "Matrix([\n",
              "[cos(2*t), -sin(2*t), 0],\n",
              "[sin(2*t),  cos(2*t), 0],\n",
              "[       0,         0, 1]])"
            ]
          },
          "metadata": {
            "tags": []
          },
          "execution_count": 34
        }
      ]
    },
    {
      "cell_type": "code",
      "metadata": {
        "id": "WtXGQiZ80A8s",
        "colab_type": "code",
        "outputId": "93873e9b-504a-4155-9ade-fd239fb1921b",
        "colab": {
          "base_uri": "https://localhost:8080/",
          "height": 87
        }
      },
      "source": [
        "expA(2*t)"
      ],
      "execution_count": 0,
      "outputs": [
        {
          "output_type": "execute_result",
          "data": {
            "text/plain": [
              "Matrix([\n",
              "[cos(2*t), -sin(2*t), 0],\n",
              "[sin(2*t),  cos(2*t), 0],\n",
              "[       0,         0, 1]])"
            ]
          },
          "metadata": {
            "tags": []
          },
          "execution_count": 35
        }
      ]
    },
    {
      "cell_type": "code",
      "metadata": {
        "id": "Rk8j1ZvU0yWm",
        "colab_type": "code",
        "outputId": "ead0670b-01e1-49ad-b715-5d959320f652",
        "colab": {
          "base_uri": "https://localhost:8080/",
          "height": 107
        }
      },
      "source": [
        "# PROBLEM 5\n",
        "expB(-t)*expA(-t)*expB(t)*expA(t)"
      ],
      "execution_count": 0,
      "outputs": [
        {
          "output_type": "execute_result",
          "data": {
            "text/plain": [
              "Matrix([\n",
              "[                                 sin(t)**2*cos(t) + cos(t)**2,                       sin(t)*cos(t)**2 - sin(t)*cos(t),                        -sin(t)**2],\n",
              "[            (sin(t)**2 + cos(t)**3)*sin(t) - sin(t)*cos(t)**2,      (sin(t)**2 + cos(t)**3)*cos(t) + sin(t)**2*cos(t), -sin(t)*cos(t)**2 + sin(t)*cos(t)],\n",
              "[(-sin(t)*cos(t)**2 + sin(t)*cos(t))*sin(t) + sin(t)**2*cos(t), (-sin(t)*cos(t)**2 + sin(t)*cos(t))*cos(t) - sin(t)**3,      sin(t)**2*cos(t) + cos(t)**2]])"
            ]
          },
          "metadata": {
            "tags": []
          },
          "execution_count": 37
        }
      ]
    },
    {
      "cell_type": "code",
      "metadata": {
        "id": "xXj4deME1mDE",
        "colab_type": "code",
        "outputId": "eb0be80f-b56a-4d4b-97cf-ba2bd398aee2",
        "colab": {
          "base_uri": "https://localhost:8080/",
          "height": 55
        }
      },
      "source": [
        "sym.trigsimp(expB(-t)*expA(-t)*expB(t)*expA(t))"
      ],
      "execution_count": 0,
      "outputs": [
        {
          "output_type": "stream",
          "text": [
            "\\left[\\begin{matrix}\\left(\\sin^{2}{\\left (t \\right )} + \\cos{\\left (t \\right )}\\right) \\cos{\\left (t \\right )} & \\left(\\cos{\\left (t \\right )} - 1\\right) \\sin{\\left (t \\right )} \\cos{\\left (t \\right )} & - \\sin^{2}{\\left (t \\right )}\\\\\\left(2 \\sin^{2}{\\left (t \\right )} + \\cos^{3}{\\left (t \\right )} - 1\\right) \\sin{\\left (t \\right )} & 2 \\sin^{2}{\\left (t \\right )} \\cos{\\left (t \\right )} + \\cos^{4}{\\left (t \\right )} & \\left(- \\cos{\\left (t \\right )} + 1\\right) \\sin{\\left (t \\right )} \\cos{\\left (t \\right )}\\\\\\left(- \\cos{\\left (t \\right )} + 2\\right) \\sin^{2}{\\left (t \\right )} \\cos{\\left (t \\right )} & \\left(- 2 \\sin^{2}{\\left (t \\right )} - \\cos^{3}{\\left (t \\right )} + 1\\right) \\sin{\\left (t \\right )} & \\left(\\sin^{2}{\\left (t \\right )} + \\cos{\\left (t \\right )}\\right) \\cos{\\left (t \\right )}\\end{matrix}\\right]\n"
          ],
          "name": "stdout"
        }
      ]
    },
    {
      "cell_type": "code",
      "metadata": {
        "id": "p7ggeHR7UVMs",
        "colab_type": "code",
        "outputId": "407607d2-90c9-4b05-a3ca-8390467cb766",
        "colab": {
          "base_uri": "https://localhost:8080/",
          "height": 87
        }
      },
      "source": [
        "#PROBLEM 6\n",
        "sym.diff(expA(t),t)"
      ],
      "execution_count": 0,
      "outputs": [
        {
          "output_type": "execute_result",
          "data": {
            "text/plain": [
              "Matrix([\n",
              "[-sin(t), -cos(t), 0],\n",
              "[ cos(t), -sin(t), 0],\n",
              "[      0,       0, 0]])"
            ]
          },
          "metadata": {
            "tags": []
          },
          "execution_count": 47
        }
      ]
    },
    {
      "cell_type": "code",
      "metadata": {
        "id": "HP5CbCHtXf4u",
        "colab_type": "code",
        "outputId": "c2ddb570-ea92-41c1-9c52-cd3145c4fc4e",
        "colab": {
          "base_uri": "https://localhost:8080/",
          "height": 35
        }
      },
      "source": [
        "dexpA = sym.Matrix([[-sym.sin(0), -sym.cos(0),0],[sym.cos(0), -sym.sin(0),0],[0,0,0]])\n",
        "print(sym.latex(dexpA))"
      ],
      "execution_count": 0,
      "outputs": [
        {
          "output_type": "stream",
          "text": [
            "\\left[\\begin{matrix}0 & -1 & 0\\\\1 & 0 & 0\\\\0 & 0 & 0\\end{matrix}\\right]\n"
          ],
          "name": "stdout"
        }
      ]
    },
    {
      "cell_type": "code",
      "metadata": {
        "id": "1XXtQqD3Wh3J",
        "colab_type": "code",
        "outputId": "211e5da7-d3b1-4ebc-c865-756dc6d6e744",
        "colab": {
          "base_uri": "https://localhost:8080/",
          "height": 87
        }
      },
      "source": [
        "sym.diff(expB(t),t)"
      ],
      "execution_count": 0,
      "outputs": [
        {
          "output_type": "execute_result",
          "data": {
            "text/plain": [
              "Matrix([\n",
              "[0,       0,       0],\n",
              "[0, -sin(t), -cos(t)],\n",
              "[0,  cos(t), -sin(t)]])"
            ]
          },
          "metadata": {
            "tags": []
          },
          "execution_count": 48
        }
      ]
    },
    {
      "cell_type": "code",
      "metadata": {
        "id": "zKinqLUXX5MT",
        "colab_type": "code",
        "outputId": "02d42169-1d54-49d3-9506-9e509961c6c0",
        "colab": {
          "base_uri": "https://localhost:8080/",
          "height": 87
        }
      },
      "source": [
        "dexpB = sym.Matrix([[0,0,0],[0,-sym.sin(0), -sym.cos(0)],[0,sym.cos(0), -sym.sin(0)]])\n",
        "dexpB"
      ],
      "execution_count": 0,
      "outputs": [
        {
          "output_type": "execute_result",
          "data": {
            "text/plain": [
              "Matrix([\n",
              "[0, 0,  0],\n",
              "[0, 0, -1],\n",
              "[0, 1,  0]])"
            ]
          },
          "metadata": {
            "tags": []
          },
          "execution_count": 53
        }
      ]
    },
    {
      "cell_type": "code",
      "metadata": {
        "id": "uBWti2otWldY",
        "colab_type": "code",
        "outputId": "3d849cec-bf59-4356-be6b-97b5ec09f36a",
        "colab": {
          "base_uri": "https://localhost:8080/",
          "height": 87
        }
      },
      "source": [
        "sym.diff(expC(t),t)"
      ],
      "execution_count": 0,
      "outputs": [
        {
          "output_type": "execute_result",
          "data": {
            "text/plain": [
              "Matrix([\n",
              "[-sin(t), 0,  cos(t)],\n",
              "[      0, 0,       0],\n",
              "[-cos(t), 0, -sin(t)]])"
            ]
          },
          "metadata": {
            "tags": []
          },
          "execution_count": 49
        }
      ]
    },
    {
      "cell_type": "code",
      "metadata": {
        "id": "FjzyBsfkYQ-O",
        "colab_type": "code",
        "outputId": "5878c420-bf89-43b8-fb82-ac8fccfc9395",
        "colab": {
          "base_uri": "https://localhost:8080/",
          "height": 87
        }
      },
      "source": [
        "dexpC = sym.Matrix([[-sym.sin(0),0,sym.cos(0)],[0,0,0],[-sym.cos(0),0,-sym.sin(0)]])\n",
        "dexpC"
      ],
      "execution_count": 0,
      "outputs": [
        {
          "output_type": "execute_result",
          "data": {
            "text/plain": [
              "Matrix([\n",
              "[ 0, 0, 1],\n",
              "[ 0, 0, 0],\n",
              "[-1, 0, 0]])"
            ]
          },
          "metadata": {
            "tags": []
          },
          "execution_count": 55
        }
      ]
    },
    {
      "cell_type": "code",
      "metadata": {
        "id": "fKRhZQR1WpL7",
        "colab_type": "code",
        "outputId": "a25e023c-8ba2-44f5-ddca-41d26a8b05cd",
        "colab": {
          "base_uri": "https://localhost:8080/",
          "height": 107
        }
      },
      "source": [
        "sym.trigsimp(sym.diff(expB(-t)*expA(-t)*expB(t)*expA(t),t,2))"
      ],
      "execution_count": 0,
      "outputs": [
        {
          "output_type": "execute_result",
          "data": {
            "text/plain": [
              "Matrix([\n",
              "[                                               -cos(t)/4 - 2*cos(2*t) + 9*cos(3*t)/4,             (9*sin(t)**2 + 4*cos(t) - 7)*sin(t),                           -2*cos(2*t)],\n",
              "[                                    (-6*cos(t) + 9*cos(2*t) - 4*cos(3*t) + 4)*sin(t),            (9*cos(2*t) - 4*cos(3*t) - 5)*cos(t),  (-9*sin(t)**2 - 4*cos(t) + 7)*sin(t)],\n",
              "[-5*(-cos(2*t) + 1)**2/2 - cos(t)/2 - 5*cos(2*t) + 9*cos(3*t)/2 - 3*cos(4*t)/4 + 15/4, (6*cos(t) - 9*cos(2*t) + 4*cos(3*t) - 4)*sin(t), -cos(t)/4 - 2*cos(2*t) + 9*cos(3*t)/4]])"
            ]
          },
          "metadata": {
            "tags": []
          },
          "execution_count": 51
        }
      ]
    },
    {
      "cell_type": "code",
      "metadata": {
        "id": "6dWQ4pP0ZKSF",
        "colab_type": "code",
        "outputId": "c8e30f16-b331-48db-a4be-c5a358288726",
        "colab": {
          "base_uri": "https://localhost:8080/",
          "height": 35
        }
      },
      "source": [
        "dQ = sym.Matrix([[-sym.cos(0)/4-2*sym.cos(0)+9*sym.cos(0)/4, (9*sym.sin(0)**2 + 4*sym.cos(0)-7)*sym.sin(0), -2*sym.cos(0)],[(-6*sym.cos(0)+9*sym.cos(0)-4*sym.cos(0)+4)*sym.sin(0), (9*sym.cos(2*0) - 4*sym.cos(3*0) - 5)*sym.cos(0),  (-9*sym.sin(0)**2 - 4*sym.cos(0) + 7)*sym.sin(0)],[-5*(-sym.cos(2*0) + 1)**2/2 - sym.cos(0)/2 - 5*sym.cos(2*0) + 9*sym.cos(3*0)/2 - 3*sym.cos(4*0)/4 + 15/4, (6*sym.cos(0) - 9*sym.cos(2*0) + 4*sym.cos(3*0) - 4)*sym.sin(0), -sym.cos(0)/4 - 2*sym.cos(2*0) + 9*sym.cos(3*0)/4]])\n",
        "dQ"
      ],
      "execution_count": 0,
      "outputs": [
        {
          "output_type": "stream",
          "text": [
            "\\left[\\begin{matrix}0 & 0 & -2\\\\0 & 0 & 0\\\\2.0 & 0 & 0\\end{matrix}\\right]\n"
          ],
          "name": "stdout"
        }
      ]
    },
    {
      "cell_type": "code",
      "metadata": {
        "id": "YVhu0bIbccOf",
        "colab_type": "code",
        "outputId": "d1bcea08-fb55-4524-9a30-bd55b2128ff0",
        "colab": {
          "base_uri": "https://localhost:8080/",
          "height": 35
        }
      },
      "source": [
        "A*B-B*A"
      ],
      "execution_count": 0,
      "outputs": [
        {
          "output_type": "stream",
          "text": [
            "\\left[\\begin{matrix}0 & 0 & 1\\\\0 & 0 & 0\\\\-1 & 0 & 0\\end{matrix}\\right]\n"
          ],
          "name": "stdout"
        }
      ]
    },
    {
      "cell_type": "code",
      "metadata": {
        "id": "ouCNNPLOZpIo",
        "colab_type": "code",
        "colab": {}
      },
      "source": [
        "import matplotlib.pyplot as plt"
      ],
      "execution_count": 0,
      "outputs": []
    },
    {
      "cell_type": "markdown",
      "metadata": {
        "id": "5wMQ0SGi5_aP",
        "colab_type": "text"
      },
      "source": [
        "This is the matrix, but two things need to be fixed:\n",
        "\n",
        "$$ \\\\left[\\\\begin{matrix}0 & t & 0\\\\\\\\t & 0 & 0\\\\\\\\0 & 0 & t\\\\end{matrix}\\\\right] $$\n",
        "\n",
        "1)  Replace every \\\\ with a single \\\n",
        "2)  Put some space before the \\ marks, or after the \\\\ marks\n",
        "\n",
        "$$ \\left[ \\begin{matrix}0 & t & 0 \\\\ t & 0 & 0 \\\\ 0 & 0 & t \\end{matrix} \\right] $$\n"
      ]
    },
    {
      "cell_type": "markdown",
      "metadata": {
        "id": "hPTaQg2aHT_L",
        "colab_type": "text"
      },
      "source": [
        "# Executive Summary\n",
        "\n",
        "In this section, your goal is to write a 2 page report giving an overview of the project given above.  This does not mean provide the answers to each question above.  Instead, think of the important relationships between the matrices, the continuous maps, tangent vectors, and transformations that you found above.  Those pieces fit together into one coherent story.\n",
        "\n",
        "In your executive summary, describe that story.  Your executive summary does not need to include complex computations, but it should include the results of relevant computations using math objects like matrices, derivatives, or tangent vectors.\n",
        "\n",
        "At  the end of your executive summary, you should also include two short paragraphs detailing (1) an important or unexpected result, and (2) a challenge you faced in the project and how you dealt with that challenge."
      ]
    },
    {
      "cell_type": "markdown",
      "metadata": {
        "id": "2-BKsZiCN0og",
        "colab_type": "text"
      },
      "source": [
        "We began with 3 matrices, $A, B,$ and $C$, that represent transformations in $\\mathbb{R}^3$.  For this project we initially wanted to investigate what these transformations themselves are doing in $\\mathbb{R}^3$.  Then, using Taylor series, we wanted to find what the exponential of each of the three matrices was, and then finally, we wanted to look at different relationships between the transformation matrices and their exponential counterparts.\n",
        "\n",
        "We began with our three transformation matrices:\n",
        "\n",
        "$$A = \\left[\\begin{matrix}0 & -1 & 0\\\\1 & 0 & 0\\\\0 & 0 & 0\\end{matrix}\\right], B = \\left[\\begin{matrix}0 & 0 & 0\\\\0 & 0 & -1\\\\0 & 1 & 0\\end{matrix}\\right], C = \\left[\\begin{matrix}0 & 0 & 1\\\\0 & 0 & 0\\\\-1 & 0 & 0\\end{matrix}\\right]$$\n",
        "\n",
        "Since these are transformation matrices, we should consider what each transformation does to the standard basis vectors\n",
        "\n",
        " $e_1 = \\left[\\begin{matrix}1\\\\0\\\\0\\end{matrix}\\right]$, $e_2 = \\left[\\begin{matrix}0\\\\1\\\\0\\end{matrix}\\right]$, and $e_3 = \\left[\\begin{matrix}0\\\\0\\\\1\\end{matrix}\\right]$\n",
        "\n",
        "Matrix $A$ takes $e_1$ to $\\left[\\begin{matrix}0\\\\1\\\\0\\end{matrix}\\right]$, $e_2$ to $\\left[\\begin{matrix}-1\\\\0\\\\0\\end{matrix}\\right]$, and $e_3$ to $\\left[\\begin{matrix}0\\\\0\\\\0\\end{matrix}\\right]$.  \n",
        "\n",
        "Matrix $B$ takes $e_1$ to $\\left[\\begin{matrix}0\\\\0\\\\0\\end{matrix}\\right]$, $e_2$ to $\\left[\\begin{matrix}0\\\\0\\\\1\\end{matrix}\\right]$, and $e_3$ to $\\left[\\begin{matrix}0\\\\-1\\\\0\\end{matrix}\\right]$.  \n",
        "\n",
        "Matrix $C$ takes $e_1$ to $\\left[\\begin{matrix}0\\\\0\\\\-1\\end{matrix}\\right]$, $e_2$ to $\\left[\\begin{matrix}0\\\\0\\\\0\\end{matrix}\\right]$, and $e_3$ to $\\left[\\begin{matrix}1\\\\0\\\\0\\end{matrix}\\right]$.  \n",
        "\n",
        "These transformations can be seen below.\n",
        "\n",
        "Next, we wanted to compute the exponential of each of the matrices.  We could do this using the knowledge that the Taylor Series expansion for the exponential function is \n",
        "\n",
        "$exp(M) = I_n + M + \\frac{1}{2!}M^2 + \\frac{1}{3!}M^3 + ... + \\frac{1}{m!}M^m + ...$\n",
        "\n",
        "We calculated $exp(tA)$ by calculating up to $(tA)^6$ and summing the first six terms of the series.  This resulted in a 3x3 matrix with each entry being a polynomial.  Using the knowledge that \n",
        "\n",
        "$cos(t) = 1 - 1/2*t^2 + 1/4!*t^4 - 1/6!*t^6 ...$ and  $sin(t) = t - 1/3!*t^3 + 1/5!*t^5 ...$, \n",
        "\n",
        "$exp(tA)$ can be simplified to \n",
        "\n",
        "$\\gamma_A(t) = exp(tA) = \\left[\\begin{matrix}\\cos{\\left (t \\right )} & - \\sin{\\left (t \\right )} & 0\\\\\\sin{\\left (t \\right )} & \\cos{\\left (t \\right )} & 0\\\\0 & 0 & 1\\end{matrix}\\right]$\n",
        "\n",
        "This is a rotation matrix that transforms $\\mathbb{R}^3$ by rotating points counterclockwise in the $x$ and $y$ directions, while the $z$ direction remains the same.\n",
        "\n",
        "In a similar manner, we calculated\n",
        "\n",
        "$\\gamma_B(t) = exp(tB) = \\left[\\begin{matrix}1 & 0 & 0\\\\0 & \\cos{\\left (t \\right )} & - \\sin{\\left (t \\right )}\\\\0 & \\sin{\\left (t \\right )} & \\cos{\\left (t \\right )}\\end{matrix}\\right]$ and $\\gamma_C(t) = exp(tC) = \\left[\\begin{matrix}\\cos{\\left (t \\right )} & 0 & \\sin{\\left (t \\right )}\\\\0 & 1 & 0\\\\- \\sin{\\left (t \\right )} & 0 & \\cos{\\left (t \\right )}\\end{matrix}\\right]$\n",
        "\n",
        "We can then see that these are both also rotation matrices, where $\\gamma_B(t)$ rotates $\\mathbb{R}^3$ counterclockwise in the $y$ and $z$ directions, while the $x$ direction remains the same, and $\\gamma_C(t)$ rotates $\\mathbb{R}^3$ counterclockwise in the $x$ and $z$ directions, while keeping the $y$ direction the same.  One interesting thing about these rotation matrices is that $\\gamma_A(t)*\\gamma_A(t) = \\gamma_A(2t)$, so taking one matrix times itself is the same as doubling the degrees rotated.  Also, $\\gamma_A(-t)*\\gamma_A(t)$ results in the identity matrix, so there is no rotation.  To find a tangent vector of each of these rotation matrices, we simply take the derivative of each matrix with respect to $t$ and evaluate at $t=0$, so our tangent vectors for each rotation matrix are \n",
        "\n",
        "$d(\\gamma_A(0)) = \\left[\\begin{matrix}0 & -1 & 0\\\\1 & 0 & 0\\\\0 & 0 & 0\\end{matrix}\\right], d(\\gamma_B(0)) = \\left[\\begin{matrix}0 & 0 & 0\\\\0 & 0 & -1\\\\0 & 1 & 0\\end{matrix}\\right], d(\\gamma_C(0)) = \\left[\\begin{matrix}0 & 0 & 1\\\\0 & 0 & 0\\\\-1 & 0 & 0\\end{matrix}\\right]$\n",
        "\n",
        "Thus, we can see that by taking the derivative of each of the rotation matrices, we end up back at each of their initial transformation matrices.\n",
        "\n",
        "Now, suppose we use two different rotation matrices, $\\gamma_A(t)$ and $\\gamma_B(t)$.  If we take $Q = \\gamma_B(-t)*\\gamma_A(-t)*\\gamma_B(t)*\\gamma_A(t)$, we do not end up with the identity transformation.  Instead, we get\n",
        "\n",
        "$Q = \\left[\\begin{matrix}\\left(\\sin^{2}{\\left (t \\right )} + \\cos{\\left (t \\right )}\\right) \\cos{\\left (t \\right )} & \\left(\\cos{\\left (t \\right )} - 1\\right) \\sin{\\left (t \\right )} \\cos{\\left (t \\right )} & - \\sin^{2}{\\left (t \\right )}\\\\\\left(2 \\sin^{2}{\\left (t \\right )} + \\cos^{3}{\\left (t \\right )} - 1\\right) \\sin{\\left (t \\right )} & 2 \\sin^{2}{\\left (t \\right )} \\cos{\\left (t \\right )} + \\cos^{4}{\\left (t \\right )} & \\left(- \\cos{\\left (t \\right )} + 1\\right) \\sin{\\left (t \\right )} \\cos{\\left (t \\right )}\\\\\\left(- \\cos{\\left (t \\right )} + 2\\right) \\sin^{2}{\\left (t \\right )} \\cos{\\left (t \\right )} & \\left(- 2 \\sin^{2}{\\left (t \\right )} - \\cos^{3}{\\left (t \\right )} + 1\\right) \\sin{\\left (t \\right )} & \\left(\\sin^{2}{\\left (t \\right )} + \\cos{\\left (t \\right )}\\right) \\cos{\\left (t \\right )}\\end{matrix}\\right]$\n",
        "\n",
        "Although this matrix looks a lot more complicated, it is still a rotation matrix where all three dimensions in $\\mathbb{R}^3$ are transformed.  Now if we were to find a tangent vector of $Q$, we would need to look at the second derivative, since the first derivative of $Q$ evaluated at $t = 0$ results in the $0$ matrix.  Our tangent vector ends up being\n",
        "\n",
        "$d^2(Q(0)) = \\left[\\begin{matrix}0 & 0 & -2\\\\0 & 0 & 0\\\\2 & 0 & 0\\end{matrix}\\right]$\n",
        "\n",
        "This is equal to $-2C$, so our tangent vector for $Q$ is simply $C$ times a scalar.  Since $Q$ is formed by $\\gamma_B(t)$ and $\\gamma_A(t)$, if we were to instead calculate $\\gamma_C(-t)*\\gamma_B(-t)*\\gamma_C(t)*\\gamma_B(t)$, our tangent vector would likely be $A$ times a scalar, and if we were to calculate $\\gamma_C(-t)*\\gamma_A(-t)*\\gamma_C(t)*\\gamma_A(t)$, our tangent vector would likely be $B$ times a scalar.\n",
        "\n",
        "Lastly, if we look at the product $[A,B] = AB - BA$, we get that \n",
        "\n",
        "$AB - BA = \\left[\\begin{matrix}0 & 0 & 1\\\\0 & 0 & 0\\\\-1 & 0 & 0\\end{matrix}\\right]$\n",
        "\n",
        "which is equal to $C$, thus $AB - BA$ is a tangent vector of both $\\gamma_C(t)$ and $Q$.  We then can conjecture that $BC - CB = A$ and will be a tangent vector of $\\gamma_A(t)$ and $\\gamma_C(-t)*\\gamma_B(-t)*\\gamma_C(t)*\\gamma_B(t)$.  We can also conjecture that $AC - CA = B$ and will be a tangent vector of $\\gamma_B(t)$ and $\\gamma_C(-t)*\\gamma_A(-t)*\\gamma_C(t)*\\gamma_A(t)$.\n",
        "\n",
        "Several results in this project surprised me, but the one that I found most surprising was that the tangent vectors of the rotation matrices $\\gamma_M(t)$ were the original transformation matrices, so by taking the derivative of the exponentials of these matrices, you end up back at the original matrix.  I also found it surprisng that $A, B$, and $C$ all appear quite simple, yet by taking the exponentials of these three matrices, you end up with rotations around each axis in $\\mathbb{R}^3$.\n",
        "\n",
        "The major challenge that I dealt with in this assignment was using Python.  This is the first class that I've taken that requires Python, and although I have experience using similar languages, there are some things that are a little different, which took some learning.  I also attempted to find an easy way to calculate $d(Q(0))$, but I could only figure out how to find $d(Q(t))$ and had to plug in $0$ separately, which required a lot more coding. "
      ]
    },
    {
      "cell_type": "code",
      "metadata": {
        "id": "__OkPMdl5xDk",
        "colab_type": "code",
        "outputId": "7c8572d3-19e7-49b8-88f8-bf6663fc7a0d",
        "colab": {
          "base_uri": "https://localhost:8080/",
          "height": 281
        }
      },
      "source": [
        "ax = plt.axes()\n",
        "\n",
        "ax.arrow(1,0,0,1, head_width = 0.25, head_length = 0.25, fc = 'red', ec = 'red')\n",
        "ax.arrow(0,1,-1,0, head_width = 0.25, head_length = 0.25, fc = 'blue', ec = 'blue')\n",
        "ax.arrow(0,0,0,0, head_width = 0.25, head_length = 0.25, fc = 'black', ec = 'black')\n",
        "\n",
        "plt.grid()\n",
        "\n",
        "plt.xlim(-2.5,2.5)\n",
        "plt.ylim(-2.5,2.5)\n",
        "\n",
        "plt.title('Matrix A Transformation of e1 (red), e2 (blue), and e3 (black)')\n",
        "\n",
        "plt.show()\n",
        "plt.close()"
      ],
      "execution_count": 0,
      "outputs": [
        {
          "output_type": "display_data",
          "data": {
            "image/png": "[encoded data removed]",
            "text/plain": [
              "<Figure size 432x288 with 1 Axes>"
            ]
          },
          "metadata": {
            "tags": []
          }
        }
      ]
    },
    {
      "cell_type": "code",
      "metadata": {
        "id": "JkD8TNwY8V24",
        "colab_type": "code",
        "outputId": "36fd830e-415d-4570-a952-81e73276fb89",
        "colab": {
          "base_uri": "https://localhost:8080/",
          "height": 281
        }
      },
      "source": [
        "ax = plt.axes()\n",
        "\n",
        "ax.arrow(0,0,0,0, head_width = 0.25, head_length = 0.25, fc = 'red', ec = 'red')\n",
        "ax.arrow(1,0,0,1, head_width = 0.25, head_length = 0.25, fc = 'blue', ec = 'blue')\n",
        "ax.arrow(0,1,-1,0, head_width = 0.25, head_length = 0.25, fc = 'black', ec = 'black')\n",
        "\n",
        "plt.grid()\n",
        "\n",
        "plt.xlim(-2.5,2.5)\n",
        "plt.ylim(-2.5,2.5)\n",
        "\n",
        "plt.title('Matrix B Transformation of e1 (red), e2 (blue), and e3 (black)')\n",
        "\n",
        "plt.show()\n",
        "plt.close()"
      ],
      "execution_count": 0,
      "outputs": [
        {
          "output_type": "display_data",
          "data": {
            "image/png": "[encoded data removed]",
            "text/plain": [
              "<Figure size 432x288 with 1 Axes>"
            ]
          },
          "metadata": {
            "tags": []
          }
        }
      ]
    },
    {
      "cell_type": "code",
      "metadata": {
        "id": "QSH2EB-29EuA",
        "colab_type": "code",
        "outputId": "e4827967-498f-41d9-eda9-348d2e5b0f14",
        "colab": {
          "base_uri": "https://localhost:8080/",
          "height": 281
        }
      },
      "source": [
        "ax = plt.axes()\n",
        "\n",
        "ax.arrow(0,1,-1,0, head_width = 0.25, head_length = 0.25, fc = 'red', ec = 'red')\n",
        "ax.arrow(0,0,0,0, head_width = 0.25, head_length = 0.25, fc = 'blue', ec = 'blue')\n",
        "ax.arrow(1,0,0,1, head_width = 0.25, head_length = 0.25, fc = 'black', ec = 'black')\n",
        "\n",
        "plt.grid()\n",
        "\n",
        "plt.xlim(-2.5,2.5)\n",
        "plt.ylim(-2.5,2.5)\n",
        "\n",
        "plt.title('Matrix C Transformation of e1 (red), e2 (blue), and e3 (black)')\n",
        "\n",
        "plt.show()\n",
        "plt.close()"
      ],
      "execution_count": 0,
      "outputs": [
        {
          "output_type": "display_data",
          "data": {
            "image/png": "[encoded data removed]",
            "text/plain": [
              "<Figure size 432x288 with 1 Axes>"
            ]
          },
          "metadata": {
            "tags": []
          }
        }
      ]
    },
    {
      "cell_type": "markdown",
      "metadata": {
        "id": "byPIqT3ak9sq",
        "colab_type": "text"
      },
      "source": [
        "![alt text](https://)"
      ]
    }
  ]
}