{
  "nbformat": 4,
  "nbformat_minor": 0,
  "metadata": {
    "colab": {
      "name": "Copy of Project 4:  Case 2 - Solving for a unknown function using data and Singular Values or Best Fit.ipynb",
      "provenance": [],
      "include_colab_link": true
    },
    "kernelspec": {
      "name": "python3",
      "display_name": "Python 3"
    }
  },
  "cells": [
    {
      "cell_type": "markdown",
      "metadata": {
        "id": "view-in-github",
        "colab_type": "text"
      },
      "source": [
        "<a href=\"https://colab.research.google.com/github/aaugustine130/AdvLinearAlgebra/blob/master/Copy_of_Project_4_Case_2_Solving_for_a_unknown_function_using_data_and_Singular_Values_or_Best_Fit.ipynb\" target=\"_parent\"><img src=\"https://colab.research.google.com/assets/colab-badge.svg\" alt=\"Open In Colab\"/></a>"
      ]
    },
    {
      "cell_type": "code",
      "metadata": {
        "id": "Hn3gRnB-WZRA",
        "colab_type": "code",
        "colab": {}
      },
      "source": [
        "#  Libraries that we'll need:\n",
        "import numpy as np\n",
        "import sympy as sym\n",
        "#from scipy import misc\n",
        "from scipy import linalg\n",
        "#from PIL import Image\n",
        "#import imageio\n",
        "import matplotlib.pyplot as plt\n",
        "# importing \"random\" for random operations \n",
        "import random "
      ],
      "execution_count": 0,
      "outputs": []
    },
    {
      "cell_type": "markdown",
      "metadata": {
        "id": "M_EHZduVWm9l",
        "colab_type": "text"
      },
      "source": [
        "#  Singular Value Decomposition and Best Fit\n",
        "\n",
        "We look at some data generated here from three sources:\n",
        "\n",
        "*   Case 0:  A known polynomial function $f(x) = 4 - 3x^2 + 5x^6$\n",
        "*   Case 1:  A known trigonometric function $f(x) = 4 - 2\\cos(x) + \\cos^2 (x)$\n",
        "*   Case 2:  A matrix of data $M$ (specified below) with unknown source function\n",
        "*   Case 3:  An interesting case."
      ]
    },
    {
      "cell_type": "markdown",
      "metadata": {
        "id": "9ORrgx3nWz_D",
        "colab_type": "text"
      },
      "source": [
        "# Overview for Case 2:  Best-fit polynomial of degree 3 from data of unknown source\n",
        "\n",
        "In this situation, the data for the underlying function has already been gathered, and is stored in the matrix *givenData*.  This matrix contains two columns.  The first is an x-coordinate, and the second is an output value.\n",
        "\n",
        "The data in the matrix came from an unknown underlying function $f(x)$.  So, if the 3rd row of the matrix is\n",
        "$$ [ -1.2376094..., -3.448414068... ]$$\n",
        "then it was generated from $$f(-1.2376094...) =  -3.448414068...$$\n",
        "\n",
        "Your task in the project is to uncover the underlying function using the method of best-fit and SVD."
      ]
    },
    {
      "cell_type": "code",
      "metadata": {
        "id": "hZ2yAtEAWj1W",
        "colab_type": "code",
        "colab": {}
      },
      "source": [
        "# The given data:\n",
        "\n",
        "givenData = np.matrix([[-0.5089311944969932, -2.997008799965525], [3.327488211195128, -3453.7808944274257], [-1.237609470172906, -3.448414068353971], [2.2958559720851195, -189.2901607053327], [2.532411423046172, -418.96127216944654], [1.3405346345538653, 2.546491821468372], [0.10426496119492867, 0.7242241444032073], [1.873893206052621, -31.60154297604621], [-2.6209761598859194, 550.2765944168342], [-4.869993332193264, 57293.33257004533], [-2.79570102459193, 912.1837362481141], [3.1432036480386607, -2244.0036951744164], [-1.5085874374805952, 0.9480325600081159], [-3.256509676471614, 2935.0556185427467], [4.699243005535804, -44216.37934554891]])\n",
        "\n",
        "# pull of the x-coordinates and the outputs from the data:\n",
        "actual_data_x = givenData[:,0]   # first column of the matrix\n",
        "actual_data_y = givenData[:,1]   # second column of the matrix"
      ],
      "execution_count": 0,
      "outputs": []
    },
    {
      "cell_type": "markdown",
      "metadata": {
        "id": "zADred7VLkmf",
        "colab_type": "text"
      },
      "source": [
        "# 2.1  Setting up the system:\n",
        "\n",
        "We have the data points for our system stored in **actual_data_x** and **actual_data_y**.  We'll use the data to set up a system\n",
        "$$M \\vec{x} = \\vec{b}$$\n",
        "\n",
        "where **actual_data_x** is used to populate matrix $M$ and **actual_data_y** is used to populate $\\vec{b}$."
      ]
    },
    {
      "cell_type": "code",
      "metadata": {
        "id": "6Gqt4cB-L8Dn",
        "colab_type": "code",
        "colab": {}
      },
      "source": [
        "#Create the matrix M from the data in actual_data_x\n",
        "M_entries = []\n",
        "\n",
        "for i in actual_data_x:\n",
        "  x = i[0,0]\n",
        "  M_entries.append([1, x, x**2, x**3, x**4, x**5, x**6, x**7, x**8])\n",
        "\n",
        "M = []\n",
        "M = np.matrix(M_entries)\n",
        "\n",
        "\n",
        "#and create the vector b from the data in actual_data_y:\n",
        "b = []\n",
        "b = actual_data_y"
      ],
      "execution_count": 0,
      "outputs": []
    },
    {
      "cell_type": "code",
      "metadata": {
        "id": "nXXDz4e4MLVF",
        "colab_type": "code",
        "colab": {
          "base_uri": "https://localhost:8080/",
          "height": 797
        },
        "outputId": "766c807a-1f55-4f52-edd7-f6aceaed4c6d"
      },
      "source": [
        "# Uncomment either line below to show the matrix M\n",
        "# or the first five entries of b\n",
        "\n",
        "M\n",
        "#b[:5]"
      ],
      "execution_count": 22,
      "outputs": [
        {
          "output_type": "execute_result",
          "data": {
            "text/plain": [
              "matrix([[ 1.00000000e+00, -5.08931194e-01,  2.59010961e-01,\n",
              "         -1.31818758e-01,  6.70866778e-02, -3.41425031e-02,\n",
              "          1.73761849e-02, -8.84328252e-03,  4.50062234e-03],\n",
              "        [ 1.00000000e+00,  3.32748821e+00,  1.10721778e+01,\n",
              "          3.68425411e+01,  1.22593121e+02,  4.07927165e+02,\n",
              "          1.35737283e+03,  4.51664210e+03,  1.50290734e+04],\n",
              "        [ 1.00000000e+00, -1.23760947e+00,  1.53167720e+00,\n",
              "         -1.89561821e+00,  2.34603505e+00, -2.90347519e+00,\n",
              "          3.59336839e+00, -4.44718675e+00,  5.50388044e+00],\n",
              "        [ 1.00000000e+00,  2.29585597e+00,  5.27095464e+00,\n",
              "          1.21013527e+01,  2.77829629e+01,  6.37856812e+01,\n",
              "          1.46442737e+02,  3.36211433e+02,  7.71893026e+02],\n",
              "        [ 1.00000000e+00,  2.53241142e+00,  6.41310762e+00,\n",
              "          1.62406270e+01,  4.11279493e+01,  1.04152889e+02,\n",
              "          2.63757965e+02,  6.67943683e+02,  1.69150821e+03],\n",
              "        [ 1.00000000e+00,  1.34053463e+00,  1.79703311e+00,\n",
              "          2.40898512e+00,  3.22932799e+00,  4.32902601e+00,\n",
              "          5.80320930e+00,  7.77940306e+00,  1.04285592e+01],\n",
              "        [ 1.00000000e+00,  1.04264961e-01,  1.08711821e-02,\n",
              "          1.13348338e-03,  1.18182601e-04,  1.23223043e-05,\n",
              "          1.28478458e-06,  1.33958014e-07,  1.39671272e-08],\n",
              "        [ 1.00000000e+00,  1.87389321e+00,  3.51147575e+00,\n",
              "          6.58013055e+00,  1.23304619e+01,  2.31059688e+01,\n",
              "          4.32981180e+01,  8.11360492e+01,  1.52040291e+02],\n",
              "        [ 1.00000000e+00, -2.62097616e+00,  6.86951603e+00,\n",
              "         -1.80048377e+01,  4.71902505e+01, -1.23684522e+02,\n",
              "          3.24174182e+02, -8.49652803e+02,  2.22691974e+03],\n",
              "        [ 1.00000000e+00, -4.86999333e+00,  2.37168351e+01,\n",
              "         -1.15500829e+02,  5.62488265e+02, -2.73931410e+03,\n",
              "          1.33404414e+04, -6.49678607e+04,  3.16393048e+05],\n",
              "        [ 1.00000000e+00, -2.79570102e+00,  7.81594422e+00,\n",
              "         -2.18510433e+01,  6.10889840e+01, -1.70786535e+02,\n",
              "          4.77468092e+02, -1.33485803e+03,  3.73186397e+03],\n",
              "        [ 1.00000000e+00,  3.14320365e+00,  9.87972917e+00,\n",
              "          3.10540008e+01,  9.76090485e+01,  3.06805117e+02,\n",
              "          9.64350964e+02,  3.03115147e+03,  9.52752636e+03],\n",
              "        [ 1.00000000e+00, -1.50858744e+00,  2.27583606e+00,\n",
              "         -3.43329768e+00,  5.17942976e+00, -7.81362266e+00,\n",
              "          1.17875330e+01, -1.77825242e+01,  2.68264926e+01],\n",
              "        [ 1.00000000e+00, -3.25650968e+00,  1.06048553e+01,\n",
              "         -3.45348138e+01,  1.12462955e+02, -3.66236702e+02,\n",
              "          1.19265337e+03, -3.88388722e+03,  1.26479163e+04],\n",
              "        [ 1.00000000e+00,  4.69924301e+00,  2.20828848e+01,\n",
              "          1.03772842e+02,  4.87653802e+02,  2.29160372e+03,\n",
              "          1.07688027e+04,  5.06052210e+04,  2.37806231e+05]])"
            ]
          },
          "metadata": {
            "tags": []
          },
          "execution_count": 22
        }
      ]
    },
    {
      "cell_type": "markdown",
      "metadata": {
        "id": "sfQf6wJ8M4-M",
        "colab_type": "text"
      },
      "source": [
        "#2.2:  Plot the generated system:\n",
        "\n",
        "We'll create a plot showing the function (in red) and the data points sampled for the function (in blue).\n",
        "\n",
        "To generate the graph of the function $f(x)$, we first use $100$ data points from $0$ to $99$, then compress them into an interval of width $6$, and shift it left so that the 100 data points are equally spaced between $x = -3$ and $x=3$.\n"
      ]
    },
    {
      "cell_type": "code",
      "metadata": {
        "id": "x4SRzQbAK76X",
        "colab_type": "code",
        "outputId": "63f48197-1c01-47bf-aaeb-9e0b47619b60",
        "colab": {
          "base_uri": "https://localhost:8080/",
          "height": 295
        }
      },
      "source": [
        "# Let's plot the data to see what it looks like:\n",
        "\n",
        "# We'll specify that x is a variable:\n",
        "x = sym.symbols('x')\n",
        "\n",
        "#  Create the plot of the given data in as red points:\n",
        "plt.plot(actual_data_x, actual_data_y, 'ro')\n",
        "\n",
        "#Widen or restrict the output values to this range:\n",
        "#You may have to adjust this to see more of the data points.\n",
        "#plt.ylim(-30,30)\n",
        "\n",
        "# Add a title\n",
        "plt.title('The given test data (in red)')\n",
        "\n",
        "# Add X and y Label\n",
        "plt.xlabel('x axis')\n",
        "plt.ylabel('output')\n",
        "\n",
        "# Add a grid\n",
        "plt.grid(alpha=.4,linestyle='--')"
      ],
      "execution_count": 23,
      "outputs": [
        {
          "output_type": "display_data",
          "data": {
            "image/png": "[encoded data removed]",
            "text/plain": [
              "<Figure size 432x288 with 1 Axes>"
            ]
          },
          "metadata": {
            "tags": [],
            "needs_background": "light"
          }
        }
      ]
    },
    {
      "cell_type": "markdown",
      "metadata": {
        "id": "fWAsPZLGNZOl",
        "colab_type": "text"
      },
      "source": [
        "#2.3:  Solving the system using the method of Best-Fit:\n",
        "\n",
        "Given a system \n",
        "$$ M \\vec{x} = \\vec{b}$$\n",
        "\n",
        "where matrix $M$ is **not necessarily square**, we can multiply by $M^T$ on the left to form the system\n",
        "\n",
        "$$ \\left( M^T M \\right) \\vec{x} = M^T \\vec{b} $$\n",
        "\n",
        "Now, $M^T M$ is a square matrix, so we can use it's inverse to solve for $\\vec{x}$:\n",
        "\n",
        "$$ \\vec{x} = \\left( M^T M \\right)^{-1} M^T \\vec{b}$$\n",
        "\n",
        "This solution method is called the method of Best-Fit.\n",
        "\n",
        "**A word of caution**:  We're initially trying to fit an 8th degree polynomial with 15 data points.  This might have a good solution..."
      ]
    },
    {
      "cell_type": "code",
      "metadata": {
        "id": "7u7r9UqlNsrH",
        "colab_type": "code",
        "outputId": "b7438447-ea2b-4534-8e8c-3bcb889157fe",
        "colab": {
          "base_uri": "https://localhost:8080/",
          "height": 173
        }
      },
      "source": [
        "#  Find the solution to Mx = b using Best Fit:\n",
        "#  (We've already used 'x' as a variable, so we'll call the solution vector c.)\n",
        "c = linalg.inv(M.transpose() * M) * M.transpose() * b\n",
        "c"
      ],
      "execution_count": 24,
      "outputs": [
        {
          "output_type": "execute_result",
          "data": {
            "text/plain": [
              "matrix([[-5.16649834e-10],\n",
              "        [ 7.00000000e+00],\n",
              "        [ 1.26760824e-09],\n",
              "        [-5.00000000e+00],\n",
              "        [-4.31867875e-10],\n",
              "        [ 3.00000000e+00],\n",
              "        [-1.62359015e-12],\n",
              "        [-1.00000000e+00],\n",
              "        [ 1.32249767e-12]])"
            ]
          },
          "metadata": {
            "tags": []
          },
          "execution_count": 24
        }
      ]
    },
    {
      "cell_type": "markdown",
      "metadata": {
        "id": "92zy2t8JPBns",
        "colab_type": "text"
      },
      "source": [
        "We can test our solution against the output of our original system.\n",
        "\n",
        "The original output in our system is represented by $\\vec{b}$.\n",
        "\n",
        "Our suggested solution to $M\\vec{x} = \\vec{b}$ is $\\vec{c}$.  That is, we think\n",
        "\n",
        "$$ M \\vec{c} \\approx \\vec{b}$$\n",
        "\n",
        "If we have a good fit, then \n",
        "\n",
        "$$\\vec{b} - M \\vec{c} \\approx 0$$\n",
        "\n",
        "To test our solution, we find the) magnitude of $\\vec{b} - M\\vec{c}$:"
      ]
    },
    {
      "cell_type": "code",
      "metadata": {
        "id": "VR2_j9inbtG8",
        "colab_type": "code",
        "outputId": "88cf5adf-37d0-4071-d997-b34efb23e864",
        "colab": {
          "base_uri": "https://localhost:8080/",
          "height": 35
        }
      },
      "source": [
        "#  Let's see how close this actually gets us by comparing the original b vector to the result of Mc:\n",
        "error = ((b-M*c).transpose() * (b-M*c))[0,0]\n",
        "error**0.5"
      ],
      "execution_count": 25,
      "outputs": [
        {
          "output_type": "execute_result",
          "data": {
            "text/plain": [
              "2.2667832650108537e-07"
            ]
          },
          "metadata": {
            "tags": []
          },
          "execution_count": 25
        }
      ]
    },
    {
      "cell_type": "markdown",
      "metadata": {
        "id": "lPtjH2d_PR6h",
        "colab_type": "text"
      },
      "source": [
        "We can plot the actual solution (in red) with our best-fit solution (in green), using the test data shown as blue points.  It may be helpful to adjust the limits on the y-axis to zoom in or out on the output."
      ]
    },
    {
      "cell_type": "code",
      "metadata": {
        "id": "jv0LORbqPWkZ",
        "colab_type": "code",
        "outputId": "473943ef-05db-4a3c-8639-22b9306b2f83",
        "colab": {
          "base_uri": "https://localhost:8080/",
          "height": 295
        }
      },
      "source": [
        "#Show a plot of the solutions using the best-fit method:\n",
        "\n",
        "# We'll specify that x is a variable:\n",
        "x = sym.symbols('x')\n",
        "\n",
        "xdata = []\n",
        "fdata = []\n",
        "#set up our 100 data points on the interval from (-5, 5):\n",
        "xdata = np.array(range(100))/(100/10) - 5\n",
        "\n",
        "#Best fit method\n",
        "best_fit = c[0,0] + c[1,0]*xdata + c[2,0]*(xdata**2) + c[3,0]*(xdata**3) + c[4,0]*(xdata**4) + c[5,0]*(xdata**5) + c[6,0]*(xdata**6) + c[7,0]*(xdata**7) + c[8,0]*(xdata**8)\n",
        "#  Create the plot of the given data in as red points:\n",
        "# and the best-fit method in green: \n",
        "plt.plot(actual_data_x,actual_data_y, 'ro', alpha=0.3 ) + plt.plot(xdata,best_fit, color='green')\n",
        "\n",
        "#Widen or restrict the output values to this range:\n",
        "#You may have to adjust this to see more of the data points.\n",
        "plt.ylim(-60000,60000)\n",
        "\n",
        "# Add a title\n",
        "plt.title('Our given data (red dots) and our best-fit solution (green)')\n",
        "\n",
        "# Add X and y Label\n",
        "plt.xlabel('x axis')\n",
        "plt.ylabel('output')\n",
        "\n",
        "# Add a grid\n",
        "plt.grid(alpha=.4,linestyle='--')"
      ],
      "execution_count": 59,
      "outputs": [
        {
          "output_type": "display_data",
          "data": {
            "image/png": "[encoded data removed]",
            "text/plain": [
              "<Figure size 432x288 with 1 Axes>"
            ]
          },
          "metadata": {
            "tags": [],
            "needs_background": "light"
          }
        }
      ]
    },
    {
      "cell_type": "markdown",
      "metadata": {
        "id": "7OJ8AfnjU_QG",
        "colab_type": "text"
      },
      "source": [
        "#2.4 Solving the system using Singular Value Decomposition\n",
        "\n",
        "Singular Value Decomposition decomposes a matrix M into three matrices\n",
        "\n",
        "$$ M = U \\Sigma V^\\dagger$$\n",
        "\n",
        "where $U$ and $V$ are square matrices and $\\Sigma$ is a rectangular matrix with singular values on the main diagonal."
      ]
    },
    {
      "cell_type": "code",
      "metadata": {
        "id": "Hil2KE87btpU",
        "colab_type": "code",
        "colab": {}
      },
      "source": [
        "#  For this method, we use SVD on the data matrix M:\n",
        "U, S, Vh = linalg.svd(M, full_matrices=True)\n",
        "\n",
        "Vh = Vh.T"
      ],
      "execution_count": 0,
      "outputs": []
    },
    {
      "cell_type": "code",
      "metadata": {
        "id": "zZnOvQaubwYp",
        "colab_type": "code",
        "colab": {
          "base_uri": "https://localhost:8080/",
          "height": 69
        },
        "outputId": "e5284a3b-403c-4968-d5d5-9fa948268d85"
      },
      "source": [
        "#  Uncomment the lines below to show the matrix U, S, and Vh:\n",
        "#  Notice that in S only the singular values are stored, not the entire matrix.\n",
        "#U\n",
        "S\n",
        "#Vh"
      ],
      "execution_count": 30,
      "outputs": [
        {
          "output_type": "execute_result",
          "data": {
            "text/plain": [
              "array([3.97403909e+05, 7.97859095e+04, 1.18293135e+03, 3.74055839e+02,\n",
              "       2.36940879e+01, 9.49223692e+00, 2.58180384e+00, 1.15621098e+00,\n",
              "       9.27464467e-01])"
            ]
          },
          "metadata": {
            "tags": []
          },
          "execution_count": 30
        }
      ]
    },
    {
      "cell_type": "code",
      "metadata": {
        "id": "t7tnQgNPVLY7",
        "colab_type": "code",
        "outputId": "259bf4f4-9baa-4cc1-ed5b-0ab4ffacf806",
        "colab": {
          "base_uri": "https://localhost:8080/",
          "height": 35
        }
      },
      "source": [
        "#  The 2nd singular value is:\n",
        "S[1]"
      ],
      "execution_count": 31,
      "outputs": [
        {
          "output_type": "execute_result",
          "data": {
            "text/plain": [
              "79785.90945905783"
            ]
          },
          "metadata": {
            "tags": []
          },
          "execution_count": 31
        }
      ]
    },
    {
      "cell_type": "code",
      "metadata": {
        "id": "LA65dzKFb39T",
        "colab_type": "code",
        "outputId": "8008d5b4-8ab1-4419-e216-c0310df30738",
        "colab": {
          "base_uri": "https://localhost:8080/",
          "height": 35
        }
      },
      "source": [
        "# We can compare the original matrix M to the matrix reconstructed (called a1) from the SVD:\n",
        "# If they are close, then allclose(M, a1) should be True.\n",
        "\n",
        "#First, recast S as a matrix instead of a vector:\n",
        "sigma = np.zeros((U.shape[1], Vh.shape[0]))\n",
        "for i in range(min(sigma.shape)):\n",
        "     sigma[i, i] = S[i]\n",
        "#Reconstruct the matrix:\n",
        "a1 = np.dot(U, np.dot(sigma, Vh.T))\n",
        "\n",
        "#does a1 approximate M?\n",
        "np.allclose(M, a1)"
      ],
      "execution_count": 32,
      "outputs": [
        {
          "output_type": "execute_result",
          "data": {
            "text/plain": [
              "True"
            ]
          },
          "metadata": {
            "tags": []
          },
          "execution_count": 32
        }
      ]
    },
    {
      "cell_type": "markdown",
      "metadata": {
        "id": "p5RRpsASVRev",
        "colab_type": "text"
      },
      "source": [
        "The SVD decomposition of matrix $M$ may have non-zero singular values in $\\Sigma.  To solve\n",
        "$$ M \\vec{x} = \\vec{b}$$\n",
        "\n",
        "we can replace $M$ with $U \\Sigma V^\\dagger$:\n",
        "$$ U \\, \\Sigma \\, V^\\dagger \\, \\vec{x} = \\vec{b}$$\n",
        "\n",
        "The inverse of matrices $U$ and $V$ are $U^\\dagger$ and $V^\\dagger$.  If we decompose $\\Sigma$ into a block matrix composed of the non-zero singular values, then we can restrict our singular value decomposition into invertible and non-invertible parts:\n",
        "\n",
        "$$ U \\, \\Sigma \\, V^\\dagger = \\left( \\begin{array}{c|c} U_{use} & U_{discard} \\\\ \\end{array} \\right) \\left( \\begin{array}{c|c} \\Sigma_{use} & 0 \\\\ \\hline 0 & \\Sigma_{discard} \\\\ \\end{array} \\right)  \\left( \\begin{array}{c|c} V_{use} & V_{discard} \\\\ \\end{array} \\right)^\\dagger$$\n",
        "\n",
        "Effectively, this allows us to replace $U \\Sigma V^\\dagger \\vec{x} = \\vec{b}$ with\n",
        "\n",
        "$$ U_{use} \\, \\Sigma_{use} \\, V_{use}^\\dagger \\, \\vec{x} = \\vec{b}$$\n",
        "\n",
        "The solution to this system is then\n",
        "\n",
        "$$\\vec{x} = V_{use} \\, \\Sigma_{use}^{-1} \\, U_{use}^\\dagger \\, \\vec{b}$$\n"
      ]
    },
    {
      "cell_type": "code",
      "metadata": {
        "id": "W50_oUxwb5TQ",
        "colab_type": "code",
        "colab": {}
      },
      "source": [
        "#  Based on the number of non-zero singular values in S, divide each of U, sigma, and Vh into \n",
        "#  U_use, Sigma_use, and Vh_use.\n",
        "#  and  discard U_d, Sigma_d, Vh_d\n",
        "useSigs = 8\n",
        "\n",
        "#Use these parts of U, S, and Vh\n",
        "(Vrows, Vcols) = Vh.shape\n",
        "(Urows, Ucols) = U.shape\n",
        "U_use = U[:Urows, :useSigs]\n",
        "Vh_use = Vh[:Vrows, :useSigs]\n",
        "sigma_use = sigma[:useSigs, :useSigs]\n",
        "\n",
        "#discard these parts of U, S, and Vh:\n",
        "U_d = U[:Urows, useSigs:]\n",
        "Vh_d = Vh[:Vrows, useSigs:]\n",
        "sigma_d = sigma[useSigs:, useSigs:]"
      ],
      "execution_count": 0,
      "outputs": []
    },
    {
      "cell_type": "code",
      "metadata": {
        "id": "kv84g_TKb6oc",
        "colab_type": "code",
        "outputId": "a61d0517-632a-4f27-a350-519ada056da0",
        "colab": {
          "base_uri": "https://localhost:8080/",
          "height": 35
        }
      },
      "source": [
        "#  We should be able to figure out the size of U and Vh that we'll use:\n",
        "#\n",
        "#  U S Vh  =   [         .     ] [             .         ]  [            .      ]\n",
        "#              [ U_use   .     ] [  sigma_use  .         ]  [   Vh_use   .      ]\n",
        "#              [         . U_d ] [.......................]  [            . Vh_d ]\n",
        "#              [         .     ] [             . sigma_d ]  [            .      ]\n",
        "#\n",
        "#\n",
        "#  Uncomment these lines (one at a time) to check that U_use, sigma_use, and Vh_use are the right sizes, as well as U_d, sigma_d, and Vh_d\n",
        "U_use.shape\n",
        "#sigma_use.shape\n",
        "#Vh_use.shape\n",
        "#U_d.shape\n",
        "#sigma_d.shape\n",
        "#Vh_d.shape"
      ],
      "execution_count": 47,
      "outputs": [
        {
          "output_type": "execute_result",
          "data": {
            "text/plain": [
              "(15, 8)"
            ]
          },
          "metadata": {
            "tags": []
          },
          "execution_count": 47
        }
      ]
    },
    {
      "cell_type": "code",
      "metadata": {
        "id": "Lo2uoltbb8F-",
        "colab_type": "code",
        "outputId": "3b755272-e370-415c-fce2-564a9c4936a0",
        "colab": {
          "base_uri": "https://localhost:8080/",
          "height": 173
        }
      },
      "source": [
        "#  If we use Singular Value Decomposition to break down M as a product of matrices\n",
        "#  M = U sigma Vh.conjugate_transpose()\n",
        "#  Then the part of A which corresponds to non-zero singular values is:\n",
        "#  M_use = U_use sigma_use Vh_use.conjugate_transpose()\n",
        "#\n",
        "#  So, the equation Mx = b becomes:  (U_use sigma_use Vh_use.conjugate_transpose()) x = b\n",
        "#  or\n",
        "#  svd_sol = (U_use sigma_use Vh_use.conjugate_transpose()).inverse() b\n",
        "#  or\n",
        "#  svd_sol = Vh_use * Sigma_use.inverse() * U_use.transpose() * b\n",
        "#  (since Vh_use.conjugate_transpose() = Vh_use.inverse() and U_use.transpose() = U_use.inverse() )\n",
        "svdsol = (Vh_use @ linalg.inv(sigma_use) @ U_use.transpose()) @ b\n",
        "svdsol"
      ],
      "execution_count": 48,
      "outputs": [
        {
          "output_type": "execute_result",
          "data": {
            "text/plain": [
              "matrix([[-6.62679070e-01],\n",
              "        [ 6.87921977e+00],\n",
              "        [ 7.02456477e-01],\n",
              "        [-4.97459275e+00],\n",
              "        [-1.69847921e-01],\n",
              "        [ 2.99854422e+00],\n",
              "        [ 1.39928906e-02],\n",
              "        [-9.99996849e-01],\n",
              "        [-3.43146604e-04]])"
            ]
          },
          "metadata": {
            "tags": []
          },
          "execution_count": 48
        }
      ]
    },
    {
      "cell_type": "markdown",
      "metadata": {
        "id": "sraTkiB4VdTA",
        "colab_type": "text"
      },
      "source": [
        "We can test our solution against the output of our original system.\n",
        "\n",
        "The original output in our system is represented by $\\vec{b}$.\n",
        "\n",
        "Our suggested solution to $M\\vec{x} = \\vec{b}$ is $\\vec{svdsol}$.  That is, we think\n",
        "\n",
        "$$ M \\vec{svdsol} \\approx \\vec{b}$$\n",
        "\n",
        "If we have a good fit, then \n",
        "\n",
        "$$\\vec{b} - M \\vec{svdsol} \\approx 0$$\n",
        "\n",
        "To test our solution, we find the) magnitude of $\\vec{b} - M\\vec{svdsol}$:"
      ]
    },
    {
      "cell_type": "code",
      "metadata": {
        "id": "Nfsvq9VrViD8",
        "colab_type": "code",
        "outputId": "4ad21e2d-e98d-4c04-db2f-61375e747ec0",
        "colab": {
          "base_uri": "https://localhost:8080/",
          "height": 35
        }
      },
      "source": [
        "#  Let's see how close this actually gets us by comparing the original b vector to the result of Mc:\n",
        "error = ((b-M*svdsol).transpose() * (b-M*svdsol))[0,0]\n",
        "error**0.5"
      ],
      "execution_count": 49,
      "outputs": [
        {
          "output_type": "execute_result",
          "data": {
            "text/plain": [
              "0.9166748386775093"
            ]
          },
          "metadata": {
            "tags": []
          },
          "execution_count": 49
        }
      ]
    },
    {
      "cell_type": "code",
      "metadata": {
        "id": "b9_J3JjbVouD",
        "colab_type": "code",
        "outputId": "bdd5ebdb-7403-4623-e09d-ab0d57958d22",
        "colab": {
          "base_uri": "https://localhost:8080/",
          "height": 295
        }
      },
      "source": [
        "#Show a plot of the solutions using the SVD method:\n",
        "\n",
        "# We'll specify that x is a variable:\n",
        "x = sym.symbols('x')\n",
        "\n",
        "xdata = []\n",
        "fdata = []\n",
        "#set up our 100 data points on the interval from (-5, 5):\n",
        "xdata = np.array(range(100))/(100/10) - 5\n",
        "\n",
        "#construct the solution from svdsol\n",
        "svd_fit = svdsol[0,0] + svdsol[1,0]*xdata + svdsol[2,0]*(xdata**2) + svdsol[3,0]*(xdata**3) + svdsol[4,0]*(xdata**4) + svdsol[5,0]*(xdata**5) + svdsol[6,0]*(xdata**6) + svdsol[7,0]*(xdata**7) + svdsol[8,0]*(xdata**8)\n",
        "#  Create the plot of the given data in as red points:\n",
        "# and the svd solution in aqua:  \n",
        "plt.plot(actual_data_x,actual_data_y, 'ro', alpha=0.3 ) + plt.plot(xdata,svd_fit, color='aqua')\n",
        "\n",
        "#Widen or restrict the output values to this range:\n",
        "#You may have to adjust this to see more of the data points.\n",
        "plt.ylim(-60000,60000)\n",
        "\n",
        "# Add a title\n",
        "plt.title('Our given data (red dots)  and svd solution (aqua)')\n",
        "\n",
        "# Add X and y Label\n",
        "plt.xlabel('x axis')\n",
        "plt.ylabel('output')\n",
        "\n",
        "# Add a grid\n",
        "plt.grid(alpha=.4,linestyle='--')\n"
      ],
      "execution_count": 60,
      "outputs": [
        {
          "output_type": "display_data",
          "data": {
            "image/png": "[encoded data removed]",
            "text/plain": [
              "<Figure size 432x288 with 1 Axes>"
            ]
          },
          "metadata": {
            "tags": [],
            "needs_background": "light"
          }
        }
      ]
    },
    {
      "cell_type": "markdown",
      "metadata": {
        "id": "tYilTfS6XGzj",
        "colab_type": "text"
      },
      "source": [
        "#2.5  Assignment\n",
        "\n",
        "The problems above utilized a 2nd degree polynomial to fit the given data.  To complete this assignment, you need to\n",
        "\n",
        "\n",
        "\n",
        "1.   Modify the code above to utilize an 8th degree polynomial for both the best-fit and SVD methods\n",
        "2.   Write out the polynomial used to generate the original given data.\n",
        "3.   Broaden the output on the graphs above and below in order to see all fifteen data points.\n",
        "\n",
        "\n",
        "The graph below should show both the best-fit and svd solution:"
      ]
    },
    {
      "cell_type": "code",
      "metadata": {
        "id": "Z5nHfhnpb-FO",
        "colab_type": "code",
        "outputId": "7b8d09fa-12d7-4420-fd38-ff0bb80c16ed",
        "colab": {
          "base_uri": "https://localhost:8080/",
          "height": 295
        }
      },
      "source": [
        "#Show a plot of the solutions using the best-fit method, and the SVD method:\n",
        "\n",
        "# We'll specify that x is a variable:\n",
        "x = sym.symbols('x')\n",
        "\n",
        "xdata = []\n",
        "fdata = []\n",
        "#set up our 100 data points on the interval from (-5, 5):\n",
        "xdata = np.array(range(100))/(100/10) - 5\n",
        "\n",
        "#Best fit method\n",
        "best_fit = best_fit = c[0,0] + c[1,0]*xdata + c[2,0]*(xdata**2) + c[3,0]*(xdata**3) + c[4,0]*(xdata**4) + c[5,0]*(xdata**5) + c[6,0]*(xdata**6) + c[7,0]*(xdata**7) + c[8,0]*(xdata**8)\n",
        "\n",
        "#construct the solution from svdsol\n",
        "svd_fit = svdsol[0,0] + svdsol[1,0]*xdata + svdsol[2,0]*(xdata**2) + svdsol[3,0]*(xdata**3) + svdsol[4,0]*(xdata**4) + svdsol[5,0]*(xdata**5) + svdsol[6,0]*(xdata**6) + svdsol[7,0]*(xdata**7) + svdsol[8,0]*(xdata**8)\n",
        "\n",
        "#  Create the plot of the given data in as red points:\n",
        "#  the best-fit method in green, and the svd solution in aqua:  \n",
        "plt.plot(actual_data_x,actual_data_y, 'ro', alpha=0.3 ) + plt.plot(xdata,best_fit, color='green') + plt.plot(xdata,svd_fit, color='aqua')\n",
        "\n",
        "#Widen or restrict the output values to this range:\n",
        "#You may have to adjust this to see more of the data points.\n",
        "plt.ylim(-60000,60000)\n",
        "\n",
        "# Add a title\n",
        "plt.title('Our given data (red dots), our best-fit solution (green), and svd solution (aqua)')\n",
        "# Add X and y Label\n",
        "plt.xlabel('x axis')\n",
        "plt.ylabel('output')\n",
        "\n",
        "# Add a grid\n",
        "plt.grid(alpha=.4,linestyle='--')"
      ],
      "execution_count": 58,
      "outputs": [
        {
          "output_type": "display_data",
          "data": {
            "image/png": "[encoded data removed]",
            "text/plain": [
              "<Figure size 432x288 with 1 Axes>"
            ]
          },
          "metadata": {
            "tags": [],
            "needs_background": "light"
          }
        }
      ]
    },
    {
      "cell_type": "code",
      "metadata": {
        "id": "yxBjyjLRcAFn",
        "colab_type": "code",
        "colab": {
          "base_uri": "https://localhost:8080/",
          "height": 173
        },
        "outputId": "bb538d35-2b9c-42a1-d1d0-025f6b9169c6"
      },
      "source": [
        "c"
      ],
      "execution_count": 61,
      "outputs": [
        {
          "output_type": "execute_result",
          "data": {
            "text/plain": [
              "matrix([[-5.16649834e-10],\n",
              "        [ 7.00000000e+00],\n",
              "        [ 1.26760824e-09],\n",
              "        [-5.00000000e+00],\n",
              "        [-4.31867875e-10],\n",
              "        [ 3.00000000e+00],\n",
              "        [-1.62359015e-12],\n",
              "        [-1.00000000e+00],\n",
              "        [ 1.32249767e-12]])"
            ]
          },
          "metadata": {
            "tags": []
          },
          "execution_count": 61
        }
      ]
    },
    {
      "cell_type": "markdown",
      "metadata": {
        "id": "_J9BSXcj2q82",
        "colab_type": "text"
      },
      "source": [
        "Polynomial used to generate the data: $f(x) = 7x - 5x^3 + 3x^5 - x^7$"
      ]
    },
    {
      "cell_type": "code",
      "metadata": {
        "id": "_PPwRa182SGy",
        "colab_type": "code",
        "colab": {}
      },
      "source": [
        ""
      ],
      "execution_count": 0,
      "outputs": []
    }
  ]
}